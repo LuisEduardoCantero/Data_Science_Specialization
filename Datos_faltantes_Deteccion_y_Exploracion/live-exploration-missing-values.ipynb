{
 "cells": [
  {
   "cell_type": "markdown",
   "metadata": {
    "cell_id": "9283d0b19d584f0ab060edcb7facb73a",
    "deepnote_app_coordinates": {
     "h": 5,
     "w": 12,
     "x": 0,
     "y": 1
    },
    "deepnote_cell_type": "markdown",
    "tags": []
   },
   "source": [
    "# Curso de Manejo de Datos Faltantes: Detección y Exploración\n",
    "\n",
    "[![Curso creado por jvelezmagic](https://img.shields.io/badge/Desarrollado%20por-%40jvelezmagic-blue?&style=for-the-badge&logo=data:image/png;base64,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)](https://jvelezmagic.com/)\n",
    "\n",
    "![Curso de Exploración de Valores Faltantes para Data Science](logo-curso.jpeg)"
   ]
  },
  {
   "cell_type": "markdown",
   "metadata": {
    "cell_id": "f41add35ebc64e32933e17288e125bfd",
    "deepnote_app_coordinates": {
     "h": 5,
     "w": 12,
     "x": 0,
     "y": 13
    },
    "deepnote_cell_type": "markdown",
    "owner_user_id": "bc32f83c-a807-4a78-8769-dff22df5fe36",
    "tags": []
   },
   "source": [
    "## Configuración de ambiente de trabajo"
   ]
  },
  {
   "cell_type": "markdown",
   "metadata": {
    "cell_id": "2fd79b9d2cf74b2fabcf4c2727f94f2a",
    "deepnote_app_coordinates": {
     "h": 5,
     "w": 12,
     "x": 0,
     "y": 19
    },
    "deepnote_cell_type": "markdown",
    "tags": []
   },
   "source": [
    "```bash\n",
    "pip install --upgrade pip\n",
    "```"
   ]
  },
  {
   "cell_type": "markdown",
   "metadata": {
    "cell_id": "77dfe5fbe8e54842b303bf6fa12929a8",
    "deepnote_app_coordinates": {
     "h": 5,
     "w": 12,
     "x": 0,
     "y": 25
    },
    "deepnote_cell_type": "markdown",
    "tags": []
   },
   "source": [
    "```bash\n",
    "pip install pyjanitor matplotlib==3.5.1 missingno numpy pandas pyreadr seaborn session-info upsetplot==0.6.1\n",
    "```\n",
    "\n",
    "or \n",
    "\n",
    "```bash\n",
    "pip install -r requirements.txt\n",
    "```"
   ]
  },
  {
   "cell_type": "markdown",
   "metadata": {
    "cell_id": "11c6eda9af6e49c5b0eefe5c059a459d",
    "deepnote_app_coordinates": {
     "h": 5,
     "w": 12,
     "x": 0,
     "y": 31
    },
    "deepnote_cell_type": "markdown",
    "tags": []
   },
   "source": [
    "## Importar librerías"
   ]
  },
  {
   "cell_type": "code",
   "execution_count": null,
   "metadata": {
    "cell_id": "8288c40afc5a40c98c40664abaa1ab42",
    "deepnote_app_coordinates": {
     "h": 5,
     "w": 12,
     "x": 0,
     "y": 37
    },
    "deepnote_cell_type": "code",
    "deepnote_to_be_reexecuted": false,
    "execution_millis": 1,
    "execution_start": 1659569213615,
    "output_cleared": true,
    "source_hash": "32e1477e",
    "tags": []
   },
   "outputs": [],
   "source": [
    "import janitor\n",
    "import matplotlib.pyplot as plt\n",
    "import missingno\n",
    "import numpy as np\n",
    "import pandas as pd\n",
    "import pyreadr\n",
    "import seaborn as sns\n",
    "import session_info\n",
    "import upsetplot"
   ]
  },
  {
   "cell_type": "markdown",
   "metadata": {
    "cell_id": "880da88a69504cb19261a48afba1bb5a",
    "deepnote_app_coordinates": {
     "h": 5,
     "w": 12,
     "x": 0,
     "y": 43
    },
    "deepnote_cell_type": "markdown",
    "tags": []
   },
   "source": [
    "## Importar funciones personalizadas"
   ]
  },
  {
   "cell_type": "code",
   "execution_count": null,
   "metadata": {
    "cell_id": "b0911e7330634065a42468ea2ab9ed09",
    "deepnote_app_coordinates": {
     "h": 5,
     "w": 12,
     "x": 0,
     "y": 49
    },
    "deepnote_cell_type": "code",
    "deepnote_to_be_reexecuted": false,
    "execution_millis": 4,
    "execution_start": 1659569098462,
    "output_cleared": true,
    "source_hash": "b623e53d",
    "tags": []
   },
   "outputs": [],
   "source": []
  },
  {
   "cell_type": "markdown",
   "metadata": {
    "cell_id": "64182e98ab054c8890158b027f7639c9",
    "deepnote_app_coordinates": {
     "h": 5,
     "w": 12,
     "x": 0,
     "y": 55
    },
    "deepnote_cell_type": "markdown",
    "tags": []
   },
   "source": [
    "## Configurar el aspecto general de las gráficas del proyecto"
   ]
  },
  {
   "cell_type": "code",
   "execution_count": null,
   "metadata": {
    "cell_id": "462153e6bafd4672b9ce21733a0e32c0",
    "deepnote_app_coordinates": {
     "h": 5,
     "w": 12,
     "x": 0,
     "y": 61
    },
    "deepnote_cell_type": "code",
    "deepnote_to_be_reexecuted": false,
    "execution_millis": 15,
    "execution_start": 1659569098469,
    "output_cleared": true,
    "source_hash": "b1a70c28",
    "tags": []
   },
   "outputs": [],
   "source": [
    "%matplotlib inline\n",
    "\n",
    "sns.set(\n",
    "    rc={\n",
    "        \"figure.figsize\": (10, 10)\n",
    "    }\n",
    ")\n",
    "\n",
    "sns.set_style(\"whitegrid\")"
   ]
  },
  {
   "cell_type": "markdown",
   "metadata": {
    "cell_id": "33e6f621f01f4f1787b9536873ffe2f2",
    "deepnote_app_coordinates": {
     "h": 5,
     "w": 12,
     "x": 0,
     "y": 67
    },
    "deepnote_cell_type": "markdown",
    "tags": []
   },
   "source": [
    "## Operar con valores faltantes"
   ]
  },
  {
   "cell_type": "markdown",
   "metadata": {
    "cell_id": "1e7c2bb0befc4611802725540c02670b",
    "deepnote_app_coordinates": {
     "h": 5,
     "w": 12,
     "x": 0,
     "y": 73
    },
    "deepnote_cell_type": "markdown",
    "tags": []
   },
   "source": [
    "### Python"
   ]
  },
  {
   "cell_type": "code",
   "execution_count": null,
   "metadata": {
    "cell_id": "fe9764d0c9ac4bceab0ac1c45218b60d",
    "deepnote_cell_type": "code",
    "deepnote_to_be_reexecuted": false,
    "execution_millis": 14,
    "execution_start": 1659569098491,
    "output_cleared": true,
    "source_hash": "3bdb3a46",
    "tags": []
   },
   "outputs": [],
   "source": []
  },
  {
   "cell_type": "markdown",
   "metadata": {
    "cell_id": "f39a7d568a224a3fa30451cb86fc0601",
    "deepnote_app_coordinates": {
     "h": 5,
     "w": 12,
     "x": 0,
     "y": 85
    },
    "deepnote_cell_type": "markdown",
    "tags": []
   },
   "source": [
    "### NumPy"
   ]
  },
  {
   "cell_type": "code",
   "execution_count": null,
   "metadata": {
    "cell_id": "b211d3d9cd0941ada8f07251f8797522",
    "deepnote_cell_type": "code",
    "deepnote_to_be_reexecuted": false,
    "execution_millis": 106,
    "execution_start": 1659569098501,
    "output_cleared": true,
    "source_hash": "adbc52b7",
    "tags": []
   },
   "outputs": [],
   "source": []
  },
  {
   "cell_type": "markdown",
   "metadata": {
    "cell_id": "c7938330744f40edb2a4155f90802311",
    "deepnote_app_coordinates": {
     "h": 5,
     "w": 12,
     "x": 0,
     "y": 97
    },
    "deepnote_cell_type": "markdown",
    "tags": []
   },
   "source": [
    "### Pandas"
   ]
  },
  {
   "cell_type": "code",
   "execution_count": null,
   "metadata": {
    "cell_id": "b3184e3321ed454a8eb7dffb2d8a835f",
    "deepnote_app_coordinates": {
     "h": 5,
     "w": 12,
     "x": 0,
     "y": 103
    },
    "deepnote_cell_type": "code",
    "deepnote_to_be_reexecuted": false,
    "execution_millis": 62,
    "execution_start": 1659569098545,
    "output_cleared": true,
    "source_hash": "4c3b9b7c",
    "tags": []
   },
   "outputs": [],
   "source": []
  },
  {
   "cell_type": "code",
   "execution_count": null,
   "metadata": {
    "cell_id": "3329b692d5be439ab0fe1887cebe03b0",
    "deepnote_app_coordinates": {
     "h": 5,
     "w": 12,
     "x": 0,
     "y": 109
    },
    "deepnote_cell_type": "code",
    "deepnote_to_be_reexecuted": false,
    "execution_millis": 61,
    "execution_start": 1659569098546,
    "output_cleared": true,
    "source_hash": "4e713434",
    "tags": []
   },
   "outputs": [],
   "source": []
  },
  {
   "cell_type": "code",
   "execution_count": null,
   "metadata": {
    "cell_id": "19a492c65600458b8fb2e27027bbacd2",
    "deepnote_app_coordinates": {
     "h": 5,
     "w": 12,
     "x": 0,
     "y": 115
    },
    "deepnote_cell_type": "code",
    "deepnote_to_be_reexecuted": false,
    "execution_millis": 54,
    "execution_start": 1659569098553,
    "output_cleared": true,
    "source_hash": "300619c5",
    "tags": []
   },
   "outputs": [],
   "source": []
  },
  {
   "cell_type": "code",
   "execution_count": null,
   "metadata": {
    "cell_id": "f211476bf9fe421e8d1768becf4a8bce",
    "deepnote_app_coordinates": {
     "h": 5,
     "w": 12,
     "x": 0,
     "y": 121
    },
    "deepnote_cell_type": "code",
    "deepnote_to_be_reexecuted": false,
    "execution_millis": 34,
    "execution_start": 1659569098573,
    "output_cleared": true,
    "source_hash": "26fe66f2",
    "tags": []
   },
   "outputs": [],
   "source": []
  },
  {
   "cell_type": "code",
   "execution_count": null,
   "metadata": {
    "cell_id": "8a5a64db7db7444085c597319427c5fd",
    "deepnote_app_coordinates": {
     "h": 5,
     "w": 12,
     "x": 0,
     "y": 127
    },
    "deepnote_cell_type": "code",
    "deepnote_to_be_reexecuted": false,
    "execution_millis": 28,
    "execution_start": 1659569098579,
    "output_cleared": true,
    "source_hash": "4a835b15",
    "tags": []
   },
   "outputs": [],
   "source": []
  },
  {
   "cell_type": "code",
   "execution_count": null,
   "metadata": {
    "cell_id": "e34d5b52e19945aabf7e5f3e24714a44",
    "deepnote_app_coordinates": {
     "h": 5,
     "w": 12,
     "x": 0,
     "y": 133
    },
    "deepnote_cell_type": "code",
    "deepnote_to_be_reexecuted": false,
    "execution_millis": 18,
    "execution_start": 1659569098589,
    "output_cleared": true,
    "source_hash": "c0acc8f",
    "tags": []
   },
   "outputs": [],
   "source": []
  },
  {
   "cell_type": "code",
   "execution_count": null,
   "metadata": {
    "cell_id": "cb35a13bac86417687bc0c301b41a1a8",
    "deepnote_cell_type": "code",
    "deepnote_to_be_reexecuted": false,
    "execution_millis": 17,
    "execution_start": 1659569098594,
    "output_cleared": true,
    "source_hash": "46a2b8e",
    "tags": []
   },
   "outputs": [],
   "source": []
  },
  {
   "cell_type": "markdown",
   "metadata": {
    "cell_id": "18cc134b9f27403caf17f6747f5a0937",
    "deepnote_app_coordinates": {
     "h": 5,
     "w": 12,
     "x": 0,
     "y": 139
    },
    "deepnote_cell_type": "markdown",
    "tags": []
   },
   "source": [
    "## Cargar los conjuntos de datos"
   ]
  },
  {
   "cell_type": "markdown",
   "metadata": {
    "cell_id": "dc30a5aadf4a43bf946d0e047b39db4a",
    "deepnote_app_coordinates": {
     "h": 5,
     "w": 12,
     "x": 0,
     "y": 0
    },
    "deepnote_cell_type": "markdown",
    "tags": []
   },
   "source": [
    "### Pima Indians Diabetes"
   ]
  },
  {
   "cell_type": "code",
   "execution_count": null,
   "metadata": {
    "cell_id": "70cc06e8d71f4bdcb4466818f581ca98",
    "deepnote_cell_type": "code",
    "deepnote_to_be_reexecuted": false,
    "execution_millis": 4,
    "execution_start": 1659569255619,
    "output_cleared": true,
    "source_hash": "48868b4",
    "tags": []
   },
   "outputs": [],
   "source": []
  },
  {
   "cell_type": "code",
   "execution_count": null,
   "metadata": {
    "cell_id": "94e977c29ee5444086022eab01367e9c",
    "deepnote_cell_type": "code",
    "deepnote_to_be_reexecuted": false,
    "execution_millis": 721,
    "execution_start": 1659569344184,
    "output_cleared": true,
    "source_hash": "a58f2868",
    "tags": []
   },
   "outputs": [],
   "source": []
  },
  {
   "cell_type": "code",
   "execution_count": null,
   "metadata": {
    "cell_id": "a3c4ffe44a90444781c9b18042398e87",
    "deepnote_app_coordinates": {
     "h": 5,
     "w": 12,
     "x": 0,
     "y": 0
    },
    "deepnote_cell_type": "code",
    "deepnote_to_be_reexecuted": false,
    "execution_millis": 0,
    "execution_start": 1659569489620,
    "output_cleared": true,
    "source_hash": "e42d5f99",
    "tags": []
   },
   "outputs": [],
   "source": []
  },
  {
   "cell_type": "markdown",
   "metadata": {
    "cell_id": "824581175a8d4d559b957ddc0d77852a",
    "deepnote_app_coordinates": {
     "h": 5,
     "w": 12,
     "x": 0,
     "y": 0
    },
    "deepnote_cell_type": "markdown",
    "tags": []
   },
   "source": [
    "### naniar (oceanbuoys, pedestrian, riskfactors)"
   ]
  },
  {
   "cell_type": "markdown",
   "metadata": {
    "cell_id": "b7837877093f44fe8bebed2c0deb1c8e",
    "deepnote_app_coordinates": {
     "h": 5,
     "w": 12,
     "x": 0,
     "y": 145
    },
    "deepnote_cell_type": "markdown",
    "tags": []
   },
   "source": [
    "#### Crear unidades de información de los conjuntos de datos"
   ]
  },
  {
   "cell_type": "code",
   "execution_count": null,
   "metadata": {
    "cell_id": "c09be7d5826045dbab79f0a9d2f33e2c",
    "deepnote_app_coordinates": {
     "h": 5,
     "w": 12,
     "x": 0,
     "y": 151
    },
    "deepnote_cell_type": "code",
    "deepnote_to_be_reexecuted": false,
    "execution_millis": 0,
    "execution_start": 1659569526798,
    "output_cleared": true,
    "source_hash": "95ff45d",
    "tags": []
   },
   "outputs": [],
   "source": []
  },
  {
   "cell_type": "markdown",
   "metadata": {
    "cell_id": "8ca6a4e2c65f45a3ba71f6c50661c34f",
    "deepnote_app_coordinates": {
     "h": 5,
     "w": 12,
     "x": 0,
     "y": 157
    },
    "deepnote_cell_type": "markdown",
    "tags": []
   },
   "source": [
    "#### Descargar y cargar los conjuntos de datos"
   ]
  },
  {
   "cell_type": "code",
   "execution_count": null,
   "metadata": {
    "cell_id": "7ea410fadc66481dac84afa7374b8058",
    "deepnote_cell_type": "code",
    "deepnote_to_be_reexecuted": false,
    "execution_millis": 3555,
    "execution_start": 1659569585173,
    "output_cleared": true,
    "source_hash": "63d5c793",
    "tags": []
   },
   "outputs": [],
   "source": []
  },
  {
   "cell_type": "markdown",
   "metadata": {
    "cell_id": "35caaa63935b4b05a6618636480f412b",
    "deepnote_app_coordinates": {
     "h": 5,
     "w": 12,
     "x": 0,
     "y": 169
    },
    "deepnote_cell_type": "markdown",
    "tags": []
   },
   "source": [
    "#### Incluir conjuntos de datos en nuestro ambiente local"
   ]
  },
  {
   "cell_type": "code",
   "execution_count": null,
   "metadata": {
    "cell_id": "3c6f9687e24e4a9093b3d54913d72eb9",
    "deepnote_app_coordinates": {
     "h": 5,
     "w": 12,
     "x": 0,
     "y": 175
    },
    "deepnote_cell_type": "code",
    "deepnote_to_be_reexecuted": false,
    "execution_millis": 1,
    "execution_start": 1659569619861,
    "output_cleared": true,
    "source_hash": "a35a46fe",
    "tags": []
   },
   "outputs": [],
   "source": []
  },
  {
   "cell_type": "markdown",
   "metadata": {
    "cell_id": "981a41b591224ccab56a96b36f01e24b",
    "deepnote_app_coordinates": {
     "h": 5,
     "w": 12,
     "x": 0,
     "y": 181
    },
    "deepnote_cell_type": "markdown",
    "tags": []
   },
   "source": [
    "### Verificar carga"
   ]
  },
  {
   "cell_type": "code",
   "execution_count": null,
   "metadata": {
    "cell_id": "458d3bc583cb4a64a5a1e7056bdd0b01",
    "deepnote_app_coordinates": {
     "h": 5,
     "w": 12,
     "x": 0,
     "y": 187
    },
    "deepnote_cell_type": "code",
    "deepnote_to_be_reexecuted": false,
    "execution_millis": 0,
    "execution_start": 1659569632860,
    "output_cleared": true,
    "source_hash": "8006f267",
    "tags": []
   },
   "outputs": [],
   "source": []
  },
  {
   "cell_type": "code",
   "execution_count": null,
   "metadata": {
    "cell_id": "f13344f982414a74ab5af5dacde44ab7",
    "deepnote_app_coordinates": {
     "h": 5,
     "w": 12,
     "x": 0,
     "y": 193
    },
    "deepnote_cell_type": "code",
    "deepnote_to_be_reexecuted": false,
    "execution_millis": 9,
    "execution_start": 1659569658085,
    "output_cleared": true,
    "source_hash": "ec03ce8a",
    "tags": []
   },
   "outputs": [],
   "source": []
  },
  {
   "cell_type": "markdown",
   "metadata": {
    "cell_id": "db74f6c0f0fb4fc9aae8437652d27c22",
    "deepnote_app_coordinates": {
     "h": 5,
     "w": 12,
     "x": 0,
     "y": 199
    },
    "deepnote_cell_type": "markdown",
    "tags": []
   },
   "source": [
    "## Tabulación de valores faltantes"
   ]
  },
  {
   "cell_type": "code",
   "execution_count": null,
   "metadata": {
    "cell_id": "897860b42a6c455faf111f09a5815c35",
    "deepnote_app_coordinates": {
     "h": 5,
     "w": 12,
     "x": 0,
     "y": 205
    },
    "deepnote_cell_type": "code",
    "deepnote_to_be_reexecuted": false,
    "execution_millis": 676,
    "execution_start": 1659559209164,
    "output_cleared": true,
    "source_hash": "d572177c",
    "tags": []
   },
   "outputs": [],
   "source": []
  },
  {
   "cell_type": "markdown",
   "metadata": {
    "cell_id": "996209e5fd03447f9d16c12afd91d974",
    "deepnote_app_coordinates": {
     "h": 5,
     "w": 12,
     "x": 0,
     "y": 211
    },
    "deepnote_cell_type": "markdown",
    "tags": []
   },
   "source": [
    "### Resúmenes básicos de valores faltantes"
   ]
  },
  {
   "cell_type": "code",
   "execution_count": null,
   "metadata": {
    "cell_id": "d1050ee82f9c4582a4ba9854a1b8b34b",
    "deepnote_app_coordinates": {
     "h": 5,
     "w": 12,
     "x": 0,
     "y": 217
    },
    "deepnote_cell_type": "code",
    "deepnote_to_be_reexecuted": false,
    "execution_millis": 3,
    "execution_start": 1659559209232,
    "output_cleared": true,
    "source_hash": "f161de07",
    "tags": []
   },
   "outputs": [],
   "source": []
  },
  {
   "cell_type": "markdown",
   "metadata": {
    "cell_id": "7ad96997d554443ea52ffe07a125c640",
    "deepnote_app_coordinates": {
     "h": 5,
     "w": 12,
     "x": 0,
     "y": 223
    },
    "deepnote_cell_type": "markdown",
    "deepnote_to_be_reexecuted": false,
    "execution_start": 1657058318180,
    "source_hash": "b623e53d",
    "tags": []
   },
   "source": [
    "#### Número total de valores completos (sin observaciones faltantes)"
   ]
  },
  {
   "cell_type": "code",
   "execution_count": null,
   "metadata": {
    "cell_id": "7e2e119fb2fd498f91d689cfc68c49e3",
    "deepnote_app_coordinates": {
     "h": 5,
     "w": 12,
     "x": 0,
     "y": 229
    },
    "deepnote_cell_type": "code",
    "deepnote_to_be_reexecuted": false,
    "execution_millis": 491,
    "execution_start": 1659559209350,
    "output_cleared": true,
    "source_hash": "fb992873",
    "tags": []
   },
   "outputs": [],
   "source": []
  },
  {
   "cell_type": "markdown",
   "metadata": {
    "cell_id": "27429d47b8384f4e9199eda4671adf9a",
    "deepnote_app_coordinates": {
     "h": 5,
     "w": 12,
     "x": 0,
     "y": 235
    },
    "deepnote_cell_type": "markdown",
    "tags": []
   },
   "source": [
    "#### Número total de valores faltantes"
   ]
  },
  {
   "cell_type": "code",
   "execution_count": null,
   "metadata": {
    "cell_id": "68124083f99a4673a53e48069b85801d",
    "deepnote_app_coordinates": {
     "h": 5,
     "w": 12,
     "x": 0,
     "y": 241
    },
    "deepnote_cell_type": "code",
    "deepnote_to_be_reexecuted": false,
    "execution_millis": 491,
    "execution_start": 1659559209351,
    "output_cleared": true,
    "source_hash": "be866a7e",
    "tags": []
   },
   "outputs": [],
   "source": []
  },
  {
   "cell_type": "markdown",
   "metadata": {
    "cell_id": "52c4bfc38c564eadb92e60d0c309a1b2",
    "deepnote_app_coordinates": {
     "h": 5,
     "w": 12,
     "x": 0,
     "y": 247
    },
    "deepnote_cell_type": "markdown",
    "deepnote_to_be_reexecuted": false,
    "execution_start": 1657058318190,
    "source_hash": "b623e53d",
    "tags": []
   },
   "source": [
    "### Resúmenes tabulares de valores faltantes"
   ]
  },
  {
   "cell_type": "markdown",
   "metadata": {
    "cell_id": "c1a78ea22cca4f40ae0563ebcf228397",
    "deepnote_app_coordinates": {
     "h": 5,
     "w": 12,
     "x": 0,
     "y": 253
    },
    "deepnote_cell_type": "markdown",
    "tags": []
   },
   "source": [
    "#### Variables / Columnas"
   ]
  },
  {
   "cell_type": "markdown",
   "metadata": {
    "cell_id": "960f2f81542e4491b2651c38332c5999",
    "deepnote_app_coordinates": {
     "h": 5,
     "w": 12,
     "x": 0,
     "y": 259
    },
    "deepnote_cell_type": "markdown",
    "tags": []
   },
   "source": [
    "##### Resumen por variable"
   ]
  },
  {
   "cell_type": "code",
   "execution_count": null,
   "metadata": {
    "cell_id": "afc1be3b4a9744d99af35255e1abebb8",
    "deepnote_cell_type": "code",
    "deepnote_to_be_reexecuted": false,
    "execution_millis": 490,
    "execution_start": 1659559209352,
    "output_cleared": true,
    "source_hash": "6d4bd0f1",
    "tags": []
   },
   "outputs": [],
   "source": []
  },
  {
   "cell_type": "markdown",
   "metadata": {
    "cell_id": "4b9794f1bd8d4fe8a8945104b1190621",
    "deepnote_app_coordinates": {
     "h": 5,
     "w": 12,
     "x": 0,
     "y": 271
    },
    "deepnote_cell_type": "markdown",
    "tags": []
   },
   "source": [
    "###### Tabulación del resumen por variable"
   ]
  },
  {
   "cell_type": "code",
   "execution_count": null,
   "metadata": {
    "cell_id": "58cf6810c094480aa89f95dc8eb4f42b",
    "deepnote_cell_type": "code",
    "deepnote_to_be_reexecuted": false,
    "execution_millis": 488,
    "execution_start": 1659559209355,
    "output_cleared": true,
    "source_hash": "36fbf34b",
    "tags": []
   },
   "outputs": [],
   "source": []
  },
  {
   "cell_type": "markdown",
   "metadata": {
    "cell_id": "bb1d8b01a6af4754ba738976f0ff0b1b",
    "deepnote_app_coordinates": {
     "h": 5,
     "w": 12,
     "x": 0,
     "y": 283
    },
    "deepnote_cell_type": "markdown",
    "deepnote_to_be_reexecuted": false,
    "execution_start": 1657058318225,
    "source_hash": "b623e53d",
    "tags": []
   },
   "source": [
    "#### Casos / Observaciones / Filas"
   ]
  },
  {
   "cell_type": "markdown",
   "metadata": {
    "cell_id": "c5dd61681cd04c2dac6d09ff1773a341",
    "deepnote_app_coordinates": {
     "h": 5,
     "w": 12,
     "x": 0,
     "y": 289
    },
    "deepnote_cell_type": "markdown",
    "deepnote_to_be_reexecuted": false,
    "execution_start": 1657058318225,
    "source_hash": "b623e53d",
    "tags": []
   },
   "source": [
    "##### Resúmenes por caso"
   ]
  },
  {
   "cell_type": "code",
   "execution_count": null,
   "metadata": {
    "cell_id": "b56e3df15e0843289fb933ba032a675f",
    "deepnote_app_coordinates": {
     "h": 5,
     "w": 12,
     "x": 0,
     "y": 295
    },
    "deepnote_cell_type": "code",
    "deepnote_to_be_reexecuted": false,
    "execution_millis": 395,
    "execution_start": 1659559209448,
    "output_cleared": true,
    "source_hash": "975bd296",
    "tags": []
   },
   "outputs": [],
   "source": []
  },
  {
   "cell_type": "markdown",
   "metadata": {
    "cell_id": "d322d0e296b54b878c478e974b4e626c",
    "deepnote_app_coordinates": {
     "h": 5,
     "w": 12,
     "x": 0,
     "y": 301
    },
    "deepnote_cell_type": "markdown",
    "deepnote_to_be_reexecuted": false,
    "execution_start": 1657058318230,
    "source_hash": "b623e53d",
    "tags": []
   },
   "source": [
    "###### Tabulación del resumen por caso"
   ]
  },
  {
   "cell_type": "code",
   "execution_count": null,
   "metadata": {
    "cell_id": "2d7cf4fc12c54d749cd71edaca11d103",
    "deepnote_app_coordinates": {
     "h": 5,
     "w": 12,
     "x": 0,
     "y": 307
    },
    "deepnote_cell_type": "code",
    "deepnote_to_be_reexecuted": false,
    "execution_millis": 361,
    "execution_start": 1659559209484,
    "output_cleared": true,
    "source_hash": "c0d99fbf",
    "tags": []
   },
   "outputs": [],
   "source": []
  },
  {
   "cell_type": "markdown",
   "metadata": {
    "cell_id": "db504c6fbdd842b3ac6b3af9665c8758",
    "deepnote_app_coordinates": {
     "h": 5,
     "w": 12,
     "x": 0,
     "y": 313
    },
    "deepnote_cell_type": "markdown",
    "deepnote_to_be_reexecuted": false,
    "execution_start": 1657058318284,
    "source_hash": "b623e53d",
    "tags": []
   },
   "source": [
    "### Intervalos de valores faltantes"
   ]
  },
  {
   "cell_type": "code",
   "execution_count": null,
   "metadata": {
    "cell_id": "9fea9c521eaf4c67b8a7640fb553c322",
    "deepnote_app_coordinates": {
     "h": 5,
     "w": 12,
     "x": 0,
     "y": 319
    },
    "deepnote_cell_type": "code",
    "deepnote_to_be_reexecuted": false,
    "execution_millis": 231,
    "execution_start": 1659559209615,
    "output_cleared": true,
    "source_hash": "9b5c5d5d",
    "tags": []
   },
   "outputs": [],
   "source": []
  },
  {
   "cell_type": "markdown",
   "metadata": {
    "cell_id": "a310dc73288045749cb4333835f9a411",
    "deepnote_app_coordinates": {
     "h": 5,
     "w": 12,
     "x": 0,
     "y": 325
    },
    "deepnote_cell_type": "markdown",
    "tags": []
   },
   "source": [
    "### _Run length_ de valores faltantes"
   ]
  },
  {
   "cell_type": "code",
   "execution_count": null,
   "metadata": {
    "cell_id": "6deafea4dacf49ee954edb3181861183",
    "deepnote_app_coordinates": {
     "h": 5,
     "w": 12,
     "x": 0,
     "y": 331
    },
    "deepnote_cell_type": "code",
    "deepnote_to_be_reexecuted": false,
    "execution_millis": 244,
    "execution_start": 1659559209629,
    "output_cleared": true,
    "source_hash": "567e3afe",
    "tags": []
   },
   "outputs": [],
   "source": []
  },
  {
   "cell_type": "markdown",
   "metadata": {
    "cell_id": "1843d213c5dc43c1887c8430af74cfdc",
    "deepnote_app_coordinates": {
     "h": 5,
     "w": 12,
     "x": 0,
     "y": 337
    },
    "deepnote_cell_type": "markdown",
    "tags": []
   },
   "source": [
    "## Visualización inicial de valores faltantes"
   ]
  },
  {
   "cell_type": "markdown",
   "metadata": {
    "cell_id": "262e18425d8443db85b5b4c39ebca937",
    "deepnote_app_coordinates": {
     "h": 5,
     "w": 12,
     "x": 0,
     "y": 343
    },
    "deepnote_cell_type": "markdown",
    "tags": []
   },
   "source": [
    "### Variable"
   ]
  },
  {
   "cell_type": "code",
   "execution_count": null,
   "metadata": {
    "cell_id": "311ddb0aa5274fcb8cb1ec7ca6622a3a",
    "deepnote_app_coordinates": {
     "h": 5,
     "w": 12,
     "x": 0,
     "y": 349
    },
    "deepnote_cell_type": "code",
    "deepnote_to_be_reexecuted": false,
    "execution_millis": 314,
    "execution_start": 1659559209870,
    "output_cleared": true,
    "source_hash": "b0a18cea",
    "tags": []
   },
   "outputs": [],
   "source": []
  },
  {
   "cell_type": "markdown",
   "metadata": {
    "cell_id": "e4fe36c3d3a145a0a02d28ef9aeb77aa",
    "deepnote_app_coordinates": {
     "h": 5,
     "w": 12,
     "x": 0,
     "y": 355
    },
    "deepnote_cell_type": "markdown",
    "tags": []
   },
   "source": [
    "### Casos / Observaciones / Filas"
   ]
  },
  {
   "cell_type": "code",
   "execution_count": null,
   "metadata": {
    "cell_id": "896b9626eb24492691d6e44383644243",
    "deepnote_app_coordinates": {
     "h": 5,
     "w": 12,
     "x": 0,
     "y": 361
    },
    "deepnote_cell_type": "code",
    "deepnote_to_be_reexecuted": false,
    "execution_millis": 605,
    "execution_start": 1659559210184,
    "output_cleared": true,
    "source_hash": "aede1a50",
    "tags": []
   },
   "outputs": [],
   "source": []
  },
  {
   "cell_type": "code",
   "execution_count": null,
   "metadata": {
    "cell_id": "d28554d6902a48bc82c8c220b04d9ce0",
    "deepnote_app_coordinates": {
     "h": 5,
     "w": 12,
     "x": 0,
     "y": 367
    },
    "deepnote_cell_type": "code",
    "deepnote_to_be_reexecuted": false,
    "execution_millis": 786,
    "execution_start": 1659559210791,
    "output_cleared": true,
    "source_hash": "fe8ed53",
    "tags": []
   },
   "outputs": [],
   "source": []
  },
  {
   "cell_type": "code",
   "execution_count": null,
   "metadata": {
    "cell_id": "38d452008eb44f2f8f558627d83f7aa4",
    "deepnote_app_coordinates": {
     "h": 5,
     "w": 12,
     "x": 0,
     "y": 373
    },
    "deepnote_cell_type": "code",
    "deepnote_to_be_reexecuted": false,
    "execution_millis": 4611,
    "execution_start": 1659559211581,
    "output_cleared": true,
    "source_hash": "eee1c7ee",
    "tags": []
   },
   "outputs": [],
   "source": []
  },
  {
   "cell_type": "code",
   "execution_count": null,
   "metadata": {
    "cell_id": "8d36e913c1944514a5ebe4e6b722ffb3",
    "deepnote_app_coordinates": {
     "h": 5,
     "w": 12,
     "x": 0,
     "y": 379
    },
    "deepnote_cell_type": "code",
    "deepnote_to_be_reexecuted": false,
    "execution_millis": 815,
    "execution_start": 1659559216216,
    "output_cleared": true,
    "source_hash": "7cfb3bf9",
    "tags": []
   },
   "outputs": [],
   "source": []
  },
  {
   "cell_type": "code",
   "execution_count": null,
   "metadata": {
    "cell_id": "e8782bade78a4ccca796544e5a6e1568",
    "deepnote_app_coordinates": {
     "h": 5,
     "w": 12,
     "x": 0,
     "y": 385
    },
    "deepnote_cell_type": "code",
    "deepnote_to_be_reexecuted": false,
    "execution_millis": 436,
    "execution_start": 1659559217031,
    "output_cleared": true,
    "source_hash": "cfdeab7b",
    "tags": []
   },
   "outputs": [],
   "source": []
  },
  {
   "cell_type": "markdown",
   "metadata": {
    "cell_id": "4141d97c57ea4fcf868848181bd86591",
    "deepnote_app_coordinates": {
     "h": 5,
     "w": 12,
     "x": 0,
     "y": 391
    },
    "deepnote_cell_type": "markdown",
    "tags": []
   },
   "source": [
    "## Codificación de valores faltantes"
   ]
  },
  {
   "cell_type": "markdown",
   "metadata": {
    "cell_id": "7cd10d58c01d45a9b833f364bf13d857",
    "deepnote_app_coordinates": {
     "h": 5,
     "w": 12,
     "x": 0,
     "y": 0
    },
    "deepnote_cell_type": "markdown",
    "tags": []
   },
   "source": [
    "<div class=\"alert alert-warning\", role=\"alert\">\n",
    "    <b style=\"font-size: 1.5em;\">🚧 Advertencia</b>\n",
    "    <p>\n",
    "    Al igual que cada persona es una nueva puerta a un mundo diferente, los <b>valores faltantes</b> existen en diferentes formas y colores. Al trabajar con valores faltantes será crítico entender sus distintas representaciones. A pesar de que el conjunto de datos de trabajo pareciera que no contiene valores faltantes, deberás ser capaz de ir más allá de lo observado a simple vista para remover el manto tras el cual se esconde lo desconocido.\n",
    "    </p>\n",
    "</div>"
   ]
  },
  {
   "cell_type": "markdown",
   "metadata": {
    "cell_id": "fb47c189109143d1a1e8cb20e0021d49",
    "deepnote_app_coordinates": {
     "h": 5,
     "w": 12,
     "x": 0,
     "y": 403
    },
    "deepnote_cell_type": "markdown",
    "tags": []
   },
   "source": [
    "### Valores comúnmente asociados a valores faltantes"
   ]
  },
  {
   "cell_type": "markdown",
   "metadata": {
    "cell_id": "efe14a1ab2084ecb9fb7831967c4f1d8",
    "deepnote_app_coordinates": {
     "h": 5,
     "w": 12,
     "x": 0,
     "y": 409
    },
    "deepnote_cell_type": "markdown",
    "tags": []
   },
   "source": [
    "#### Cadenas de texto"
   ]
  },
  {
   "cell_type": "code",
   "execution_count": null,
   "metadata": {
    "cell_id": "cfcf5fb85fab49939cd3361f22c7240d",
    "deepnote_app_coordinates": {
     "h": 5,
     "w": 12,
     "x": 0,
     "y": 415
    },
    "deepnote_cell_type": "code",
    "deepnote_to_be_reexecuted": false,
    "execution_millis": 2,
    "execution_start": 1659559217461,
    "output_cleared": true,
    "source_hash": "f4b445a7",
    "tags": []
   },
   "outputs": [],
   "source": [
    "common_na_strings = (\n",
    "    \"missing\",\n",
    "    \"NA\",\n",
    "    \"N A\",\n",
    "    \"N/A\",\n",
    "    \"#N/A\",\n",
    "    \"NA \",\n",
    "    \" NA\",\n",
    "    \"N /A\",\n",
    "    \"N / A\",\n",
    "    \" N / A\",\n",
    "    \"N / A \",\n",
    "    \"na\",\n",
    "    \"n a\",\n",
    "    \"n/a\",\n",
    "    \"na \",\n",
    "    \" na\",\n",
    "    \"n /a\",\n",
    "    \"n / a\",\n",
    "    \" a / a\",\n",
    "    \"n / a \",\n",
    "    \"NULL\",\n",
    "    \"null\",\n",
    "    \"\",\n",
    "    \"?\",\n",
    "    \"*\",\n",
    "    \".\",\n",
    ")"
   ]
  },
  {
   "cell_type": "markdown",
   "metadata": {
    "cell_id": "98c4d19599454fc2b193bf431d49bd11",
    "deepnote_app_coordinates": {
     "h": 5,
     "w": 12,
     "x": 0,
     "y": 421
    },
    "deepnote_cell_type": "markdown",
    "tags": []
   },
   "source": [
    "#### Números"
   ]
  },
  {
   "cell_type": "code",
   "execution_count": null,
   "metadata": {
    "cell_id": "0fa3348eb9024c8aaeabb7601658a75c",
    "deepnote_app_coordinates": {
     "h": 5,
     "w": 12,
     "x": 0,
     "y": 427
    },
    "deepnote_cell_type": "code",
    "deepnote_to_be_reexecuted": false,
    "execution_millis": 0,
    "execution_start": 1659559217471,
    "output_cleared": true,
    "source_hash": "f7e4ca",
    "tags": []
   },
   "outputs": [],
   "source": [
    "common_na_numbers = (-9, -99, -999, -9999, 9999, 66, 77, 88, -1)"
   ]
  },
  {
   "cell_type": "markdown",
   "metadata": {
    "cell_id": "98a03f69ff004e8583fdf72d126d6c70",
    "deepnote_app_coordinates": {
     "h": 5,
     "w": 12,
     "x": 0,
     "y": 433
    },
    "deepnote_cell_type": "markdown",
    "tags": []
   },
   "source": [
    "### ¿Cómo encontrar los valores comúnmente asociados a valores faltantes?"
   ]
  },
  {
   "cell_type": "code",
   "execution_count": null,
   "metadata": {
    "cell_id": "a08fef2dd0be40438cff8f09916f70ee",
    "deepnote_app_coordinates": {
     "h": 5,
     "w": 12,
     "x": 0,
     "y": 439
    },
    "deepnote_cell_type": "code",
    "deepnote_to_be_reexecuted": false,
    "execution_millis": 105,
    "execution_start": 1659559217476,
    "output_cleared": true,
    "source_hash": "a8fbfadb",
    "tags": []
   },
   "outputs": [],
   "source": [
    "missing_data_example_df = pd.DataFrame.from_dict(\n",
    "    dict(\n",
    "        x = [1, 3, \"NA\", -99, -98, -99],\n",
    "        y = [\"A\", \"N/A\", \"NA\", \"E\", \"F\", \"G\"],\n",
    "        z = [-100, -99, -98, -101, -1, -1]\n",
    "    )\n",
    ")\n",
    "\n",
    "missing_data_example_df"
   ]
  },
  {
   "cell_type": "code",
   "execution_count": null,
   "metadata": {
    "cell_id": "a17f99e3b8ba428c83581ef515f8cf11",
    "deepnote_app_coordinates": {
     "h": 5,
     "w": 12,
     "x": 0,
     "y": 445
    },
    "deepnote_cell_type": "code",
    "deepnote_to_be_reexecuted": false,
    "execution_millis": 816,
    "execution_start": 1659559217506,
    "output_cleared": true,
    "source_hash": "42f6552a",
    "tags": []
   },
   "outputs": [],
   "source": []
  },
  {
   "cell_type": "markdown",
   "metadata": {
    "cell_id": "a0bdba31b4b741e792007c7590334094",
    "deepnote_app_coordinates": {
     "h": 5,
     "w": 12,
     "x": 0,
     "y": 451
    },
    "deepnote_cell_type": "markdown",
    "tags": []
   },
   "source": [
    "#### Revisar tipos de datos"
   ]
  },
  {
   "cell_type": "code",
   "execution_count": null,
   "metadata": {
    "cell_id": "638b03b666594f02aec7a4d40bcd2927",
    "deepnote_app_coordinates": {
     "h": 5,
     "w": 12,
     "x": 0,
     "y": 457
    },
    "deepnote_cell_type": "code",
    "deepnote_to_be_reexecuted": false,
    "execution_millis": 885,
    "execution_start": 1659559217517,
    "output_cleared": true,
    "source_hash": "6b954eb2",
    "tags": []
   },
   "outputs": [],
   "source": []
  },
  {
   "cell_type": "markdown",
   "metadata": {
    "cell_id": "a99a26f0361b4a98ac7fe2473089a450",
    "deepnote_app_coordinates": {
     "h": 5,
     "w": 12,
     "x": 0,
     "y": 463
    },
    "deepnote_cell_type": "markdown",
    "tags": []
   },
   "source": [
    "#### Revisar valores únicos de los datos"
   ]
  },
  {
   "cell_type": "code",
   "execution_count": null,
   "metadata": {
    "cell_id": "06437ba900af478c90f1d3b0d2ab039e",
    "deepnote_app_coordinates": {
     "h": 5,
     "w": 12,
     "x": 0,
     "y": 469
    },
    "deepnote_cell_type": "code",
    "deepnote_to_be_reexecuted": false,
    "execution_millis": 0,
    "execution_start": 1659559217532,
    "output_cleared": true,
    "source_hash": "7cc2ac10",
    "tags": []
   },
   "outputs": [],
   "source": []
  },
  {
   "cell_type": "code",
   "execution_count": null,
   "metadata": {
    "cell_id": "ea7d89c2481047bd8c1637203a0fc1e0",
    "deepnote_app_coordinates": {
     "h": 5,
     "w": 12,
     "x": 0,
     "y": 475
    },
    "deepnote_cell_type": "code",
    "deepnote_to_be_reexecuted": false,
    "execution_millis": 861,
    "execution_start": 1659559217545,
    "output_cleared": true,
    "source_hash": "4b39843d",
    "tags": []
   },
   "outputs": [],
   "source": []
  },
  {
   "cell_type": "markdown",
   "metadata": {
    "cell_id": "060e07f5d7b14e49a5ee8fab4620fa73",
    "deepnote_app_coordinates": {
     "h": 5,
     "w": 12,
     "x": 0,
     "y": 481
    },
    "deepnote_cell_type": "markdown",
    "tags": []
   },
   "source": [
    "### Sustituyendo valores comúnmente asociados a valores faltantes"
   ]
  },
  {
   "cell_type": "markdown",
   "metadata": {
    "cell_id": "869d739cc74143d9970cf5377a13f68c",
    "deepnote_app_coordinates": {
     "h": 5,
     "w": 12,
     "x": 0,
     "y": 487
    },
    "deepnote_cell_type": "markdown",
    "tags": []
   },
   "source": [
    "#### Sustitución desde la lectura de datos"
   ]
  },
  {
   "cell_type": "code",
   "execution_count": null,
   "metadata": {
    "cell_id": "c861bb52202140b98e17e013408e2694",
    "deepnote_app_coordinates": {
     "h": 5,
     "w": 12,
     "x": 0,
     "y": 493
    },
    "deepnote_cell_type": "code",
    "deepnote_to_be_reexecuted": false,
    "execution_millis": 823,
    "execution_start": 1659559217583,
    "output_cleared": true,
    "source_hash": "3f2dd524",
    "tags": []
   },
   "outputs": [],
   "source": []
  },
  {
   "cell_type": "markdown",
   "metadata": {
    "cell_id": "4078a578433b4532b3a77b8e8d49666e",
    "deepnote_app_coordinates": {
     "h": 5,
     "w": 12,
     "x": 0,
     "y": 499
    },
    "deepnote_cell_type": "markdown",
    "tags": []
   },
   "source": [
    "#### Sustitución global"
   ]
  },
  {
   "cell_type": "code",
   "execution_count": null,
   "metadata": {
    "cell_id": "c072e2b5eb374ff583c227e28b278f69",
    "deepnote_app_coordinates": {
     "h": 5,
     "w": 12,
     "x": 0,
     "y": 505
    },
    "deepnote_cell_type": "code",
    "deepnote_to_be_reexecuted": false,
    "execution_millis": 822,
    "execution_start": 1659559217584,
    "output_cleared": true,
    "source_hash": "8184b4e9",
    "tags": []
   },
   "outputs": [],
   "source": []
  },
  {
   "cell_type": "markdown",
   "metadata": {
    "cell_id": "4f1c089e812a422696e66706daa11c0a",
    "deepnote_app_coordinates": {
     "h": 5,
     "w": 12,
     "x": 0,
     "y": 511
    },
    "deepnote_cell_type": "markdown",
    "tags": []
   },
   "source": [
    "#### Sustitución dirigida"
   ]
  },
  {
   "cell_type": "code",
   "execution_count": null,
   "metadata": {
    "cell_id": "e3f8639f6ab24c418a81e555cee3e495",
    "deepnote_app_coordinates": {
     "h": 5,
     "w": 12,
     "x": 0,
     "y": 517
    },
    "deepnote_cell_type": "code",
    "deepnote_to_be_reexecuted": false,
    "execution_millis": 777,
    "execution_start": 1659559217630,
    "output_cleared": true,
    "source_hash": "48b9230b",
    "tags": []
   },
   "outputs": [],
   "source": []
  },
  {
   "cell_type": "markdown",
   "metadata": {
    "cell_id": "2a6498539db6495ea1e482e521624e1b",
    "deepnote_app_coordinates": {
     "h": 5,
     "w": 12,
     "x": 0,
     "y": 523
    },
    "deepnote_cell_type": "markdown",
    "tags": []
   },
   "source": [
    "## Conversión de valores faltantes implícitos a explícitos"
   ]
  },
  {
   "cell_type": "markdown",
   "metadata": {
    "cell_id": "bcb59f8e41e14d5884843b2e8e115adf",
    "deepnote_app_coordinates": {
     "h": 5,
     "w": 12,
     "x": 0,
     "y": 529
    },
    "deepnote_cell_type": "markdown",
    "deepnote_to_be_reexecuted": false,
    "execution_millis": 2,
    "execution_start": 1657070588973,
    "source_hash": "978d2856",
    "tags": []
   },
   "source": [
    "<div class=\"alert alert-warning\", role=\"alert\">\n",
    "    <b style=\"font-size: 1.5em;\">🚧 Advertencia</b>\n",
    "    <br>\n",
    "    <br>\n",
    "    <p>\n",
    "        <i>\n",
    "        \"<b>Implícito</b> se refiere a todo aquello que se entiende que está incluido\n",
    "        pero sin ser expresado de forma directa o explícitamente.\"\n",
    "        </i>\n",
    "    </p>\n",
    "    <p>\n",
    "    Un <code>valor faltante implícito</code> indica que el valor faltante <b>debería estar incluido</b>\n",
    "    en el conjunto de datos del análisis, <b>sin que éste lo diga</b> o lo <b>especifique</b>.\n",
    "    Por lo general, son valores que podemos encontrar al pivotar nuestros datos\n",
    "    o contabilizar el número de apariciones de combinaciones de las variables de estudio.\n",
    "    </p>\n",
    "</div>"
   ]
  },
  {
   "cell_type": "code",
   "execution_count": null,
   "metadata": {
    "cell_id": "6cd185fb14b6400981dfc00f74bc4cf2",
    "deepnote_app_coordinates": {
     "h": 5,
     "w": 12,
     "x": 0,
     "y": 535
    },
    "deepnote_cell_type": "code",
    "deepnote_to_be_reexecuted": false,
    "execution_millis": 764,
    "execution_start": 1659559217644,
    "output_cleared": true,
    "source_hash": "887afa1e",
    "tags": []
   },
   "outputs": [],
   "source": [
    "implicit_to_explicit_df = pd.DataFrame.from_dict(\n",
    "    data={\n",
    "        \"name\": [\"lynn\", \"lynn\", \"lynn\", \"zelda\"],\n",
    "        \"time\": [\"morning\", \"afternoon\", \"night\", \"morning\"],\n",
    "        \"value\": [350, 310, np.nan, 320]\n",
    "    }\n",
    ")\n",
    "\n",
    "implicit_to_explicit_df"
   ]
  },
  {
   "cell_type": "markdown",
   "metadata": {
    "cell_id": "c89dd0ca4eb34272933a222e577381c8",
    "deepnote_app_coordinates": {
     "h": 5,
     "w": 12,
     "x": 0,
     "y": 541
    },
    "deepnote_cell_type": "markdown",
    "tags": []
   },
   "source": [
    "### Estrategias para la identificación de valores faltantes implícitos"
   ]
  },
  {
   "cell_type": "markdown",
   "metadata": {
    "cell_id": "4b2bd98ab0ba458ab3664f31fc2fb44c",
    "deepnote_app_coordinates": {
     "h": 5,
     "w": 12,
     "x": 0,
     "y": 547
    },
    "deepnote_cell_type": "markdown",
    "tags": []
   },
   "source": [
    "#### Pivotar la tabla de datos"
   ]
  },
  {
   "cell_type": "code",
   "execution_count": null,
   "metadata": {
    "cell_id": "643b7ef2c584451799c53aae041a0fd5",
    "deepnote_app_coordinates": {
     "h": 5,
     "w": 12,
     "x": 0,
     "y": 553
    },
    "deepnote_cell_type": "code",
    "deepnote_to_be_reexecuted": false,
    "execution_millis": 782,
    "execution_start": 1659559217662,
    "output_cleared": true,
    "source_hash": "167293a",
    "tags": []
   },
   "outputs": [],
   "source": []
  },
  {
   "cell_type": "markdown",
   "metadata": {
    "cell_id": "7f288a2de8fe48388bdefbf508d67b6f",
    "deepnote_app_coordinates": {
     "h": 5,
     "w": 12,
     "x": 0,
     "y": 559
    },
    "deepnote_cell_type": "markdown",
    "tags": []
   },
   "source": [
    "#### Cuantificar ocurrencias de n-tuplas"
   ]
  },
  {
   "cell_type": "code",
   "execution_count": null,
   "metadata": {
    "cell_id": "5a1fb2754dd34ef6a46b89734ae6c84a",
    "deepnote_app_coordinates": {
     "h": 5,
     "w": 12,
     "x": 0,
     "y": 565
    },
    "deepnote_cell_type": "code",
    "deepnote_to_be_reexecuted": false,
    "execution_millis": 745,
    "execution_start": 1659559217699,
    "output_cleared": true,
    "source_hash": "6c0b9a1a",
    "tags": []
   },
   "outputs": [],
   "source": []
  },
  {
   "cell_type": "markdown",
   "metadata": {
    "cell_id": "0532860be83e453d923ec5ed40774532",
    "deepnote_app_coordinates": {
     "h": 5,
     "w": 12,
     "x": 0,
     "y": 571
    },
    "deepnote_cell_type": "markdown",
    "tags": []
   },
   "source": [
    "### Exponer filas faltantes implícitas a explícitas"
   ]
  },
  {
   "cell_type": "markdown",
   "metadata": {
    "cell_id": "49c94afa150843efa670a6a42892dcd3",
    "deepnote_app_coordinates": {
     "h": 5,
     "w": 12,
     "x": 0,
     "y": 661
    },
    "deepnote_cell_type": "markdown",
    "tags": []
   },
   "source": [
    "<div class=\"alert alert-info\">\n",
    "    <b style=\"font-size: 1.5em;\">📘 Información</b>\n",
    "    <p>\n",
    "       <a href=\"https://pyjanitor-devs.github.io/pyjanitor/api/functions/#janitor.functions.complete.complete\", class=\"alert-link\"><code>janitor.complete()</code></a> está modelada a partir de la función <a href=\"https://tidyr.tidyverse.org/reference/complete.html\", class=\"alert-link\"><code>complete()</code></a> del paquete <a href=\"https://tidyr.tidyverse.org/index.html\", class=\"alert-link\"><code>tidyr</code></a> y es un <i>wrapper</i> alrededor de <a href=\"https://pyjanitordevs.github.io/pyjanitor/api/functions/#janitor.functions.expand_grid.expand_grid\", class=\"alert-link\"><code>janitor.expand_grid()</code></a>, <a href=\"https://pandas.pydata.org/docs/reference/api/pandas.DataFrame.merge.html\", class=\"alert-link\"><code>pd.merge()</code></a> y <a href=\"https://pandas.pydata.org/docs/reference/api/pandas.DataFrame.merge.html\", class=\"alert-link\"><code>pd.fillna()</code></a>. En cierto modo, es lo contrario de <a href=\"https://pandas.pydata.org/docs/reference/api/pandas.DataFrame.dropna.html\", class=\"alert-link\"><code>pd.dropna()</code></a>, ya que expone implícitamente las filas que faltan.\n",
    "    </p>\n",
    "    <p>\n",
    "    Son posibles combinaciones de nombres de columnas o una lista/tupla de nombres de columnas, o incluso un  diccionario de nombres de columna y nuevos valores.\n",
    "    </p>\n",
    "    <p>\n",
    "    Las columnas <a href=\"https://pandas.pydata.org/docs/user_guide/advanced.html\"><code>MultiIndex</code></a> no son complatibles.\n",
    "    </p>\n",
    "</div>"
   ]
  },
  {
   "cell_type": "markdown",
   "metadata": {
    "cell_id": "992e6427d7e84e61adeccb1e8d9319b1",
    "deepnote_app_coordinates": {
     "h": 5,
     "w": 12,
     "x": 0,
     "y": 0
    },
    "deepnote_cell_type": "markdown",
    "tags": []
   },
   "source": [
    "#### Exponer n-tuplas de valores faltantes\n",
    "\n",
    "Ejemplo, encontrar los pares faltantes de `name` y `time`."
   ]
  },
  {
   "cell_type": "code",
   "execution_count": null,
   "metadata": {
    "cell_id": "2397038d9a9748b49abc6d9fdb6e21cf",
    "deepnote_cell_type": "code",
    "deepnote_to_be_reexecuted": false,
    "execution_millis": 696,
    "execution_start": 1659559217748,
    "output_cleared": true,
    "source_hash": "963c2013",
    "tags": []
   },
   "outputs": [],
   "source": []
  },
  {
   "cell_type": "markdown",
   "metadata": {
    "cell_id": "ea8e38448c364198a4422758ea79ebbd",
    "deepnote_app_coordinates": {
     "h": 5,
     "w": 12,
     "x": 0,
     "y": 577
    },
    "deepnote_cell_type": "markdown",
    "tags": []
   },
   "source": [
    "#### Limitar la exposición de n-tuplas de valores faltantes"
   ]
  },
  {
   "cell_type": "code",
   "execution_count": null,
   "metadata": {
    "cell_id": "3fbd7528b48043c18903f38adea82511",
    "deepnote_cell_type": "code",
    "deepnote_to_be_reexecuted": false,
    "execution_millis": 685,
    "execution_start": 1659559217759,
    "output_cleared": true,
    "source_hash": "5bb4753e",
    "tags": []
   },
   "outputs": [],
   "source": []
  },
  {
   "cell_type": "markdown",
   "metadata": {
    "cell_id": "a149fc1acd42476d926c6c07386c8cd1",
    "deepnote_app_coordinates": {
     "h": 5,
     "w": 12,
     "x": 0,
     "y": 0
    },
    "deepnote_cell_type": "markdown",
    "tags": []
   },
   "source": [
    "#### Rellenar los valores faltantes"
   ]
  },
  {
   "cell_type": "code",
   "execution_count": null,
   "metadata": {
    "cell_id": "25d1ae003f1c4940a780283613d30ee0",
    "deepnote_app_coordinates": {
     "h": 5,
     "w": 12,
     "x": 0,
     "y": 0
    },
    "deepnote_cell_type": "code",
    "deepnote_to_be_reexecuted": false,
    "execution_millis": 607,
    "execution_start": 1659559217838,
    "output_cleared": true,
    "source_hash": "4c53f6d1",
    "tags": []
   },
   "outputs": [],
   "source": []
  },
  {
   "cell_type": "markdown",
   "metadata": {
    "cell_id": "d6d50feee0c1494a85dea7565c56fc42",
    "deepnote_app_coordinates": {
     "h": 5,
     "w": 12,
     "x": 0,
     "y": 589
    },
    "deepnote_cell_type": "markdown",
    "tags": []
   },
   "source": [
    "#### Limitar el rellenado de valores faltantes implícitos"
   ]
  },
  {
   "cell_type": "code",
   "execution_count": null,
   "metadata": {
    "cell_id": "bdb1ebd4dc6a4ea7976623a8eced4311",
    "deepnote_app_coordinates": {
     "h": 5,
     "w": 12,
     "x": 0,
     "y": 595
    },
    "deepnote_cell_type": "code",
    "deepnote_to_be_reexecuted": false,
    "execution_millis": 548,
    "execution_start": 1659559217897,
    "output_cleared": true,
    "source_hash": "3c2f05e0",
    "tags": []
   },
   "outputs": [],
   "source": []
  },
  {
   "cell_type": "markdown",
   "metadata": {
    "cell_id": "acadc7cb6c144c27bd9a862ab7f45c71",
    "deepnote_app_coordinates": {
     "h": 5,
     "w": 12,
     "x": 0,
     "y": 601
    },
    "deepnote_cell_type": "markdown",
    "tags": []
   },
   "source": [
    "## Tipos de valores faltantes"
   ]
  },
  {
   "cell_type": "code",
   "execution_count": null,
   "metadata": {
    "cell_id": "d1fe75aa33c94e078daacd59079a3ec7",
    "deepnote_app_coordinates": {
     "h": 5,
     "w": 12,
     "x": 0,
     "y": 0
    },
    "deepnote_cell_type": "code",
    "deepnote_to_be_reexecuted": false,
    "execution_millis": 510,
    "execution_start": 1659559217945,
    "output_cleared": true,
    "source_hash": "f244bbee",
    "tags": []
   },
   "outputs": [],
   "source": []
  },
  {
   "cell_type": "code",
   "execution_count": null,
   "metadata": {
    "cell_id": "bab13d8c6fb343f19b7c757d3ca7c0be",
    "deepnote_app_coordinates": {
     "h": 5,
     "w": 12,
     "x": 0,
     "y": 0
    },
    "deepnote_cell_type": "code",
    "deepnote_to_be_reexecuted": false,
    "execution_millis": 313,
    "execution_start": 1659559218333,
    "output_cleared": true,
    "source_hash": "a9357d40",
    "tags": []
   },
   "outputs": [],
   "source": []
  },
  {
   "cell_type": "markdown",
   "metadata": {
    "cell_id": "480e18009a1442efad4100c8478503e0",
    "deepnote_app_coordinates": {
     "h": 5,
     "w": 12,
     "x": 0,
     "y": 607
    },
    "deepnote_cell_type": "markdown",
    "tags": []
   },
   "source": [
    "### _Missing Completely At Random_ (MCAR)"
   ]
  },
  {
   "cell_type": "code",
   "execution_count": null,
   "metadata": {
    "cell_id": "338c1129ec9f4133a9e87419ca556030",
    "deepnote_app_coordinates": {
     "h": 5,
     "w": 12,
     "x": 0,
     "y": 0
    },
    "deepnote_cell_type": "code",
    "deepnote_to_be_reexecuted": false,
    "execution_millis": 520,
    "execution_start": 1659559218651,
    "output_cleared": true,
    "source_hash": "aac828f9",
    "tags": []
   },
   "outputs": [],
   "source": []
  },
  {
   "cell_type": "markdown",
   "metadata": {
    "cell_id": "4e3a981d03fb473f9756fd6e97987353",
    "deepnote_app_coordinates": {
     "h": 5,
     "w": 12,
     "x": 0,
     "y": 0
    },
    "deepnote_cell_type": "markdown",
    "tags": []
   },
   "source": [
    "### _Missing At Random_ (MAR)"
   ]
  },
  {
   "cell_type": "code",
   "execution_count": null,
   "metadata": {
    "cell_id": "2694a8ab2b9c4fb5bb5323712ba7272d",
    "deepnote_app_coordinates": {
     "h": 5,
     "w": 12,
     "x": 0,
     "y": 0
    },
    "deepnote_cell_type": "code",
    "deepnote_to_be_reexecuted": false,
    "execution_millis": 511,
    "execution_start": 1659559219170,
    "output_cleared": true,
    "source_hash": "be0dbfe7",
    "tags": []
   },
   "outputs": [],
   "source": []
  },
  {
   "cell_type": "markdown",
   "metadata": {
    "cell_id": "de620736431a494fbf4d48a5684f2842",
    "deepnote_app_coordinates": {
     "h": 5,
     "w": 12,
     "x": 0,
     "y": 0
    },
    "deepnote_cell_type": "markdown",
    "tags": []
   },
   "source": [
    "### _Missing Not At Random_ (MNAR)"
   ]
  },
  {
   "cell_type": "code",
   "execution_count": null,
   "metadata": {
    "cell_id": "87ed67d4e5c7427194b9da247c025bcc",
    "deepnote_app_coordinates": {
     "h": 5,
     "w": 12,
     "x": 0,
     "y": 0
    },
    "deepnote_cell_type": "code",
    "deepnote_to_be_reexecuted": false,
    "execution_millis": 531,
    "execution_start": 1659559219683,
    "output_cleared": true,
    "source_hash": "d1753aa3",
    "tags": []
   },
   "outputs": [],
   "source": []
  },
  {
   "cell_type": "markdown",
   "metadata": {
    "cell_id": "daa82507e68c41ecbb6e868e11abaafc",
    "deepnote_app_coordinates": {
     "h": 5,
     "w": 12,
     "x": 0,
     "y": 613
    },
    "deepnote_cell_type": "markdown",
    "tags": []
   },
   "source": [
    "## Concepto y aplicación de la matriz de sombras (_i.e._, _shadow matrix_)"
   ]
  },
  {
   "cell_type": "markdown",
   "metadata": {
    "cell_id": "48fec9d6a1ce40d5b08d711f6a123f65",
    "deepnote_app_coordinates": {
     "h": 5,
     "w": 12,
     "x": 0,
     "y": 619
    },
    "deepnote_cell_type": "markdown",
    "tags": []
   },
   "source": [
    " ### Construcción de la matriz de sombras"
   ]
  },
  {
   "cell_type": "code",
   "execution_count": null,
   "metadata": {
    "cell_id": "49f69822f61e448ea39cfa6e8a97d985",
    "deepnote_app_coordinates": {
     "h": 5,
     "w": 12,
     "x": 0,
     "y": 625
    },
    "deepnote_cell_type": "code",
    "deepnote_to_be_reexecuted": false,
    "execution_millis": 1017,
    "execution_start": 1659559220210,
    "output_cleared": true,
    "source_hash": "67f3eee2",
    "tags": []
   },
   "outputs": [],
   "source": []
  },
  {
   "cell_type": "markdown",
   "metadata": {
    "cell_id": "652378d3a819460b89b96016a6d934a4",
    "deepnote_app_coordinates": {
     "h": 5,
     "w": 12,
     "x": 0,
     "y": 0
    },
    "deepnote_cell_type": "markdown",
    "tags": []
   },
   "source": [
    "### Utilizar función de utilería `bind_shadow_matrix()`"
   ]
  },
  {
   "cell_type": "code",
   "execution_count": null,
   "metadata": {
    "cell_id": "f96f9ce66e4e462a993d2337a749fdd5",
    "deepnote_app_coordinates": {
     "h": 5,
     "w": 12,
     "x": 0,
     "y": 631
    },
    "deepnote_cell_type": "code",
    "deepnote_to_be_reexecuted": false,
    "execution_millis": 790,
    "execution_start": 1659559220441,
    "output_cleared": true,
    "source_hash": "4a2c3218",
    "tags": []
   },
   "outputs": [],
   "source": []
  },
  {
   "cell_type": "markdown",
   "metadata": {
    "cell_id": "489c941e49f34915b8ff5a7b65f63cef",
    "deepnote_app_coordinates": {
     "h": 5,
     "w": 12,
     "x": 0,
     "y": 637
    },
    "deepnote_cell_type": "markdown",
    "tags": []
   },
   "source": [
    "### Explorar estadísticos utilizando las nuevas columnas de la matriz de sombras"
   ]
  },
  {
   "cell_type": "code",
   "execution_count": null,
   "metadata": {
    "cell_id": "239be00a21164fc2a4b28f23c0245e57",
    "deepnote_app_coordinates": {
     "h": 5,
     "w": 12,
     "x": 0,
     "y": 643
    },
    "deepnote_cell_type": "code",
    "deepnote_to_be_reexecuted": false,
    "execution_millis": 573,
    "execution_start": 1659559220658,
    "output_cleared": true,
    "source_hash": "cd3345f4",
    "tags": []
   },
   "outputs": [],
   "source": []
  },
  {
   "cell_type": "markdown",
   "metadata": {
    "cell_id": "ac9d2ba416884ee4b3b81fd38533e095",
    "deepnote_app_coordinates": {
     "h": 5,
     "w": 12,
     "x": 0,
     "y": 0
    },
    "deepnote_cell_type": "markdown",
    "tags": []
   },
   "source": [
    "## Visualización de valores faltantes en una variable"
   ]
  },
  {
   "cell_type": "code",
   "execution_count": null,
   "metadata": {
    "cell_id": "81a97d07fc2e41aaa28aa9feb03e00f7",
    "deepnote_app_coordinates": {
     "h": 5,
     "w": 12,
     "x": 0,
     "y": 0
    },
    "deepnote_cell_type": "code",
    "deepnote_to_be_reexecuted": false,
    "execution_millis": 510,
    "execution_start": 1659559220725,
    "output_cleared": true,
    "source_hash": "ce52a21a",
    "tags": []
   },
   "outputs": [],
   "source": []
  },
  {
   "cell_type": "code",
   "execution_count": null,
   "metadata": {
    "cell_id": "a5b8bb4832d54bc4a99997bb5ef7f49d",
    "deepnote_app_coordinates": {
     "h": 5,
     "w": 12,
     "x": 0,
     "y": 0
    },
    "deepnote_cell_type": "code",
    "deepnote_to_be_reexecuted": false,
    "execution_millis": 631,
    "execution_start": 1659559220964,
    "output_cleared": true,
    "source_hash": "16737753",
    "tags": []
   },
   "outputs": [],
   "source": []
  },
  {
   "cell_type": "code",
   "execution_count": null,
   "metadata": {
    "cell_id": "0fe212e1620d4298ab6548c2ce9d088e",
    "deepnote_app_coordinates": {
     "h": 5,
     "w": 12,
     "x": 0,
     "y": 0
    },
    "deepnote_cell_type": "code",
    "deepnote_to_be_reexecuted": false,
    "execution_millis": 778,
    "execution_start": 1659559221602,
    "output_cleared": true,
    "source_hash": "272da33d",
    "tags": []
   },
   "outputs": [],
   "source": []
  },
  {
   "cell_type": "code",
   "execution_count": null,
   "metadata": {
    "cell_id": "98e8160d0906456dbeab1ce86bf7cee3",
    "deepnote_app_coordinates": {
     "h": 5,
     "w": 12,
     "x": 0,
     "y": 0
    },
    "deepnote_cell_type": "code",
    "deepnote_to_be_reexecuted": false,
    "execution_millis": 1629,
    "execution_start": 1659559222397,
    "output_cleared": true,
    "source_hash": "5cb083a5",
    "tags": []
   },
   "outputs": [],
   "source": []
  },
  {
   "cell_type": "markdown",
   "metadata": {
    "cell_id": "ef1f4dc44da84121b32c6d53091e403f",
    "deepnote_app_coordinates": {
     "h": 5,
     "w": 12,
     "x": 0,
     "y": 0
    },
    "deepnote_cell_type": "markdown",
    "tags": []
   },
   "source": [
    "## Visualización de valores faltantes en dos variables"
   ]
  },
  {
   "cell_type": "code",
   "execution_count": null,
   "metadata": {
    "cell_id": "c823c4761ea24e75a1702faee0156fc8",
    "deepnote_app_coordinates": {
     "h": 5,
     "w": 12,
     "x": 0,
     "y": 0
    },
    "deepnote_cell_type": "code",
    "deepnote_to_be_reexecuted": false,
    "execution_millis": 9,
    "execution_start": 1659559223516,
    "output_cleared": true,
    "source_hash": "2cc270a1",
    "tags": []
   },
   "outputs": [],
   "source": []
  },
  {
   "cell_type": "code",
   "execution_count": null,
   "metadata": {
    "cell_id": "fddbcbfe28e146f987cc998d5e3557c2",
    "deepnote_app_coordinates": {
     "h": 5,
     "w": 12,
     "x": 0,
     "y": 0
    },
    "deepnote_cell_type": "code",
    "deepnote_to_be_reexecuted": false,
    "execution_millis": 555,
    "execution_start": 1659559223547,
    "output_cleared": true,
    "source_hash": "fab7888",
    "tags": []
   },
   "outputs": [],
   "source": []
  },
  {
   "cell_type": "markdown",
   "metadata": {
    "cell_id": "a23577e2cd8a484190595cdd54e9cd87",
    "deepnote_app_coordinates": {
     "h": 5,
     "w": 12,
     "x": 0,
     "y": 0
    },
    "deepnote_cell_type": "markdown",
    "tags": []
   },
   "source": [
    "## Correlación de nulidad"
   ]
  },
  {
   "cell_type": "code",
   "execution_count": null,
   "metadata": {
    "cell_id": "294da18d0f03471283e6715e9a91770c",
    "deepnote_cell_type": "code",
    "deepnote_to_be_reexecuted": false,
    "execution_millis": 2899,
    "execution_start": 1659559223975,
    "output_cleared": true,
    "source_hash": "f72e29cc",
    "tags": []
   },
   "outputs": [],
   "source": []
  },
  {
   "cell_type": "code",
   "execution_count": null,
   "metadata": {
    "cell_id": "05494c2c84134815a4f7656e19a77879",
    "deepnote_app_coordinates": {
     "h": 5,
     "w": 12,
     "x": 0,
     "y": 0
    },
    "deepnote_cell_type": "code",
    "deepnote_to_be_reexecuted": false,
    "execution_millis": 642,
    "execution_start": 1659559226250,
    "output_cleared": true,
    "source_hash": "a97e7722",
    "tags": []
   },
   "outputs": [],
   "source": []
  },
  {
   "cell_type": "markdown",
   "metadata": {
    "cell_id": "2b71761dc05943889f36fa9e2c244128",
    "deepnote_app_coordinates": {
     "h": 5,
     "w": 12,
     "x": 0,
     "y": 0
    },
    "deepnote_cell_type": "markdown",
    "tags": []
   },
   "source": [
    "## Eliminación de valores faltantes"
   ]
  },
  {
   "cell_type": "markdown",
   "metadata": {
    "cell_id": "3af5acc333614b21a544011945ebe409",
    "deepnote_app_coordinates": {
     "h": 5,
     "w": 12,
     "x": 0,
     "y": 0
    },
    "deepnote_cell_type": "markdown",
    "tags": []
   },
   "source": [
    "<div class=\"alert alert-warning\", role=\"alert\">\n",
    "    <b style=\"font-size: 1.5em;\">🚧 Advertencia</b>\n",
    "    <p>\n",
    "    La eliminación de valores faltantes <b>asume</b> que los valores faltantes están perdidos\n",
    "    completamente al azar (<code>MCAR</code>). En cualquier otro caso, realizar una\n",
    "    eliminación de valores faltantes podrá ocasionar <b>sesgos</b> en los\n",
    "    análisis y modelos subsecuentes.\n",
    "    </p>\n",
    "</div>"
   ]
  },
  {
   "cell_type": "markdown",
   "metadata": {
    "cell_id": "60301cd96ab543b99e5603447d878847",
    "deepnote_app_coordinates": {
     "h": 5,
     "w": 12,
     "x": 0,
     "y": 0
    },
    "deepnote_cell_type": "markdown",
    "tags": []
   },
   "source": [
    "Primero observa el número total de observaciones y variables que tiene tu conjunto de datos."
   ]
  },
  {
   "cell_type": "code",
   "execution_count": null,
   "metadata": {
    "cell_id": "a64852de964543fab7e9ced7e4921e99",
    "deepnote_app_coordinates": {
     "h": 5,
     "w": 12,
     "x": 0,
     "y": 0
    },
    "deepnote_cell_type": "code",
    "deepnote_to_be_reexecuted": false,
    "execution_millis": 7,
    "execution_start": 1659559226895,
    "output_cleared": true,
    "source_hash": "f161de07",
    "tags": []
   },
   "outputs": [],
   "source": []
  },
  {
   "cell_type": "markdown",
   "metadata": {
    "cell_id": "d836371b7b314f06ac9c7098e575c1bf",
    "deepnote_app_coordinates": {
     "h": 5,
     "w": 12,
     "x": 0,
     "y": 0
    },
    "deepnote_cell_type": "markdown",
    "tags": []
   },
   "source": [
    "### _Pairwise deletion_ (eliminación por pares)"
   ]
  },
  {
   "cell_type": "code",
   "execution_count": null,
   "metadata": {
    "cell_id": "6727f7d577bc4743bb3f003a7bcc5833",
    "deepnote_app_coordinates": {
     "h": 5,
     "w": 12,
     "x": 0,
     "y": 0
    },
    "deepnote_cell_type": "code",
    "deepnote_to_be_reexecuted": false,
    "execution_millis": 2,
    "execution_start": 1659559226905,
    "output_cleared": true,
    "source_hash": "12e9c2f1",
    "tags": []
   },
   "outputs": [],
   "source": []
  },
  {
   "cell_type": "code",
   "execution_count": null,
   "metadata": {
    "cell_id": "a53a21f37e694b12995258f01445bc8f",
    "deepnote_app_coordinates": {
     "h": 5,
     "w": 12,
     "x": 0,
     "y": 0
    },
    "deepnote_cell_type": "code",
    "deepnote_to_be_reexecuted": false,
    "execution_millis": 29,
    "execution_start": 1659559226920,
    "output_cleared": true,
    "source_hash": "9ea257dd",
    "tags": []
   },
   "outputs": [],
   "source": []
  },
  {
   "cell_type": "code",
   "execution_count": null,
   "metadata": {
    "cell_id": "d232399436e546a4bb0afc3ed6008280",
    "deepnote_app_coordinates": {
     "h": 5,
     "w": 12,
     "x": 0,
     "y": 0
    },
    "deepnote_cell_type": "code",
    "deepnote_to_be_reexecuted": false,
    "execution_millis": 4,
    "execution_start": 1659559226931,
    "output_cleared": true,
    "source_hash": "6a99d1e",
    "tags": []
   },
   "outputs": [],
   "source": []
  },
  {
   "cell_type": "markdown",
   "metadata": {
    "cell_id": "85e0c0c1edad4a55b195d3c90f754632",
    "deepnote_app_coordinates": {
     "h": 5,
     "w": 12,
     "x": 0,
     "y": 0
    },
    "deepnote_cell_type": "markdown",
    "tags": []
   },
   "source": [
    "### _Listwise Deletion or Complete Case_ (Eliminación por lista o caso completo)"
   ]
  },
  {
   "cell_type": "markdown",
   "metadata": {
    "cell_id": "a153647353504d9594fc4778da9f3a9c",
    "deepnote_app_coordinates": {
     "h": 5,
     "w": 12,
     "x": 0,
     "y": 0
    },
    "deepnote_cell_type": "markdown",
    "tags": []
   },
   "source": [
    "#### Con base en 1 columna"
   ]
  },
  {
   "cell_type": "code",
   "execution_count": null,
   "metadata": {
    "cell_id": "6f5bd4e8501248a1a72dea5a7b6cbe6d",
    "deepnote_cell_type": "code",
    "deepnote_to_be_reexecuted": false,
    "execution_millis": 5,
    "execution_start": 1659559226973,
    "output_cleared": true,
    "source_hash": "d374f2a1",
    "tags": []
   },
   "outputs": [],
   "source": []
  },
  {
   "cell_type": "markdown",
   "metadata": {
    "cell_id": "99c44587f30c41ed99de99638c275307",
    "deepnote_app_coordinates": {
     "h": 5,
     "w": 12,
     "x": 0,
     "y": 0
    },
    "deepnote_cell_type": "markdown",
    "tags": []
   },
   "source": [
    "#### Con base en 2 o más columnas"
   ]
  },
  {
   "cell_type": "code",
   "execution_count": null,
   "metadata": {
    "cell_id": "e1cac22d55cb457aa0eaef2a9e9fb980",
    "deepnote_cell_type": "code",
    "deepnote_to_be_reexecuted": false,
    "execution_millis": 4,
    "execution_start": 1659559226974,
    "output_cleared": true,
    "source_hash": "18a20483",
    "tags": []
   },
   "outputs": [],
   "source": []
  },
  {
   "cell_type": "code",
   "execution_count": null,
   "metadata": {
    "cell_id": "a4fe5030858441328eef619976ff07e5",
    "deepnote_app_coordinates": {
     "h": 5,
     "w": 12,
     "x": 0,
     "y": 0
    },
    "deepnote_cell_type": "code",
    "deepnote_to_be_reexecuted": false,
    "execution_millis": 7,
    "execution_start": 1659559226975,
    "output_cleared": true,
    "source_hash": "2565eb7",
    "tags": []
   },
   "outputs": [],
   "source": []
  },
  {
   "cell_type": "markdown",
   "metadata": {
    "cell_id": "a4d6cdcb5eae4e859c5fd0755d0d09bd",
    "deepnote_app_coordinates": {
     "h": 5,
     "w": 12,
     "x": 0,
     "y": 0
    },
    "deepnote_cell_type": "markdown",
    "tags": []
   },
   "source": [
    "### Representación gráfica tras la eliminación de los valores faltantes"
   ]
  },
  {
   "cell_type": "code",
   "execution_count": null,
   "metadata": {
    "cell_id": "065efb39ff5a48b18216aa3569cbc60d",
    "deepnote_app_coordinates": {
     "h": 5,
     "w": 12,
     "x": 0,
     "y": 0
    },
    "deepnote_cell_type": "code",
    "deepnote_to_be_reexecuted": false,
    "execution_millis": 382,
    "execution_start": 1659559226983,
    "output_cleared": true,
    "source_hash": "7f5e7427",
    "tags": []
   },
   "outputs": [],
   "source": []
  },
  {
   "cell_type": "code",
   "execution_count": null,
   "metadata": {
    "cell_id": "b2f657285ae647fbb6f6b46a1fdeeb33",
    "deepnote_app_coordinates": {
     "h": 5,
     "w": 12,
     "x": 0,
     "y": 0
    },
    "deepnote_cell_type": "code",
    "deepnote_to_be_reexecuted": false,
    "execution_millis": 431,
    "execution_start": 1659559227374,
    "output_cleared": true,
    "source_hash": "471b0389",
    "tags": []
   },
   "outputs": [],
   "source": []
  },
  {
   "cell_type": "markdown",
   "metadata": {
    "cell_id": "d5921b0b328e4b7c966864581618d393",
    "deepnote_app_coordinates": {
     "h": 5,
     "w": 12,
     "x": 0,
     "y": 0
    },
    "deepnote_cell_type": "markdown",
    "tags": []
   },
   "source": [
    "## Imputación básica de valores faltantes"
   ]
  },
  {
   "cell_type": "markdown",
   "metadata": {
    "cell_id": "796097c898d4469cbae24cb161a23c07",
    "deepnote_app_coordinates": {
     "h": 5,
     "w": 12,
     "x": 0,
     "y": 0
    },
    "deepnote_cell_type": "markdown",
    "tags": []
   },
   "source": [
    "### Imputación con base en el contexto"
   ]
  },
  {
   "cell_type": "code",
   "execution_count": null,
   "metadata": {
    "cell_id": "b784d92efd3f4f63a1977871c8788726",
    "deepnote_app_coordinates": {
     "h": 5,
     "w": 12,
     "x": 0,
     "y": 0
    },
    "deepnote_cell_type": "code",
    "deepnote_to_be_reexecuted": false,
    "execution_millis": 0,
    "execution_start": 1659559664019,
    "output_cleared": true,
    "source_hash": "b688ade5",
    "tags": []
   },
   "outputs": [],
   "source": [
    "implicit_to_explicit_df = pd.DataFrame(\n",
    "    data={\n",
    "        \"name\": [\"lynn\", np.nan, \"zelda\", np.nan, \"shadowsong\", np.nan],\n",
    "        \"time\": [\"morning\", \"afternoon\", \"morning\", \"afternoon\", \"morning\", \"afternoon\",],\n",
    "        \"value\": [350, 310, 320, 350, 310, 320]\n",
    "    }\n",
    ")\n",
    "\n",
    "implicit_to_explicit_df"
   ]
  },
  {
   "cell_type": "code",
   "execution_count": null,
   "metadata": {
    "cell_id": "02d3f47ed0c6495a882b5f25b63b6f21",
    "deepnote_cell_type": "code",
    "deepnote_to_be_reexecuted": false,
    "execution_millis": 73,
    "execution_start": 1659559765348,
    "output_cleared": true,
    "source_hash": "684872d1",
    "tags": []
   },
   "outputs": [],
   "source": []
  },
  {
   "cell_type": "markdown",
   "metadata": {
    "cell_id": "eb7a1c98c37f40d0b3228e45ff0db3fc",
    "deepnote_app_coordinates": {
     "h": 5,
     "w": 12,
     "x": 0,
     "y": 0
    },
    "deepnote_cell_type": "markdown",
    "tags": []
   },
   "source": [
    "### Imputación de un único valor"
   ]
  },
  {
   "cell_type": "code",
   "execution_count": null,
   "metadata": {
    "cell_id": "46425fb1656b47598e5733242510da33",
    "deepnote_app_coordinates": {
     "h": 5,
     "w": 12,
     "x": 0,
     "y": 0
    },
    "deepnote_cell_type": "code",
    "deepnote_to_be_reexecuted": false,
    "execution_millis": 866,
    "execution_start": 1659559989174,
    "output_cleared": true,
    "source_hash": "f8a38757",
    "tags": []
   },
   "outputs": [],
   "source": []
  },
  {
   "cell_type": "code",
   "execution_count": null,
   "metadata": {
    "cell_id": "93e31b41432f4259b345c69f4859ff69",
    "deepnote_app_coordinates": {
     "h": 5,
     "w": 12,
     "x": 0,
     "y": 0
    },
    "deepnote_cell_type": "code",
    "deepnote_to_be_reexecuted": false,
    "execution_millis": 397,
    "execution_start": 1659560335114,
    "output_cleared": true,
    "source_hash": "e565f12",
    "tags": []
   },
   "outputs": [],
   "source": []
  },
  {
   "cell_type": "code",
   "execution_count": null,
   "metadata": {
    "cell_id": "d8e38fea1df049ceb2b5c750aba9ae0a",
    "deepnote_app_coordinates": {
     "h": 5,
     "w": 12,
     "x": 0,
     "y": 0
    },
    "deepnote_cell_type": "code",
    "deepnote_to_be_reexecuted": false,
    "execution_millis": 1758,
    "execution_start": 1659561288702,
    "output_cleared": true,
    "source_hash": "8176e865",
    "tags": []
   },
   "outputs": [],
   "source": []
  },
  {
   "cell_type": "markdown",
   "metadata": {
    "cell_id": "21cfbf821d324436a6cb7a776c86f758",
    "deepnote_app_coordinates": {
     "h": 5,
     "w": 12,
     "x": 0,
     "y": 0
    },
    "deepnote_cell_type": "markdown",
    "tags": []
   },
   "source": [
    "## Continúa aprendiendo sobre el manejo de valores faltantes"
   ]
  },
  {
   "cell_type": "markdown",
   "metadata": {
    "cell_id": "f416f72c00f44ad58ae98194be08ed8d",
    "deepnote_app_coordinates": {
     "h": 5,
     "w": 12,
     "x": 0,
     "y": 0
    },
    "deepnote_cell_type": "markdown",
    "tags": []
   },
   "source": [
    "<div class=\"alert alert-success\">\n",
    "    <b style=\"font-size: 1.5em;\">✅ ¡Felicidades por terminar el curso!</b>\n",
    "    <p>\n",
    "Has aprendido bastante sobre la exploración y manipulación de valores faltantes.\n",
    "    </p>\n",
    "    <p>\n",
    "Empezaste conociento las principales operaciones al trabajar con valores faltantes. Ahora, eres consciente de que estas operaciones no son universales y cada software decide tratar a los valores faltantes a su conveniencia.\n",
    "    </p>\n",
    "    <p>\n",
    "Y, hablando de conveniencias, comenzaste tu camino en la exploración de valores faltantes a través de una representación universal de qué es lo que faltaba. No obstante, no pasó mucho para darte cuenta de que los valores faltantes pueden existir en formas muy variables. Incluso, en formas en las que no sabemos que nos faltan estos valores en sí mismos. \n",
    "    </p>\n",
    "    <p>\n",
    "Con los valores faltantes ya expuestos, te conviertes en una persona capaz de explorarlos en profundidad de forma estadística y visual. Entendiendo así, los distintos mecanismos que pueden tener los valores faltantes: MCAR, MAR y MNAR.\n",
    "    </p>\n",
    "    <p>\n",
    "A su vez, aprendiste las bases sobre cómo tratarlos a través de la eliminación de elementos o la imputación de valores de una forma básica y sencilla. Por lo tanto, necesitarás continuar tu camino de aprendizaje con un curso que te permita profundizar en estas técnicas de tratamiento para valores faltantes.\n",
    "    </p>\n",
    "    <p>\n",
    "Te recomiendo continuar con mi <a href=\"https://platzi.com/cursos/datos-faltantes-imputacion/\">Curso de Manejo de Datos Faltantes: Imputación</a>. Estoy seguro de que tus habilidades adquiridas hasta el momento mejorarán, permitiéndote realizar análisis cada vez más complejos y cercanos al mundo real.\n",
    "    </p>\n",
    "    <p>\n",
    "    Con mucha alegría por tu logro,\n",
    "   Jesús Vélez Santiago\n",
    "    </p>\n",
    "    \n",
    "</div>"
   ]
  },
  {
   "cell_type": "markdown",
   "metadata": {
    "cell_id": "7341073166464c6a9f12899c33ae06fa",
    "deepnote_app_coordinates": {
     "h": 5,
     "w": 12,
     "x": 0,
     "y": 649
    },
    "deepnote_cell_type": "markdown",
    "tags": []
   },
   "source": [
    "## Información de sesión"
   ]
  },
  {
   "cell_type": "code",
   "execution_count": null,
   "metadata": {
    "cell_id": "f8beb34e12a04d2d93d19a32a04780f4",
    "deepnote_app_coordinates": {
     "h": 5,
     "w": 12,
     "x": 0,
     "y": 655
    },
    "deepnote_cell_type": "code",
    "deepnote_to_be_reexecuted": false,
    "execution_millis": 416,
    "execution_start": 1659215529131,
    "output_cleared": true,
    "source_hash": "e8587130",
    "tags": []
   },
   "outputs": [],
   "source": [
    "session_info.show()"
   ]
  },
  {
   "cell_type": "markdown",
   "metadata": {
    "created_in_deepnote_cell": true,
    "deepnote_cell_type": "markdown",
    "tags": []
   },
   "source": [
    "<a style='text-decoration:none;line-height:16px;display:flex;color:#5B5B62;padding:10px;justify-content:end;' href='https://deepnote.com?utm_source=created-in-deepnote-cell&projectId=00f0d7e0-2381-4186-8c56-0ffaad4cee07' target=\"_blank\">\n",
    "<img alt='Created in deepnote.com' style='display:inline;max-height:16px;margin:0px;margin-right:7.5px;' src='data:image/svg+xml;base64,PD94bWwgdmVyc2lvbj0iMS4wIiBlbmNvZGluZz0iVVRGLTgiPz4KPHN2ZyB3aWR0aD0iODBweCIgaGVpZ2h0PSI4MHB4IiB2aWV3Qm94PSIwIDAgODAgODAiIHZlcnNpb249IjEuMSIgeG1sbnM9Imh0dHA6Ly93d3cudzMub3JnLzIwMDAvc3ZnIiB4bWxuczp4bGluaz0iaHR0cDovL3d3dy53My5vcmcvMTk5OS94bGluayI+CiAgICA8IS0tIEdlbmVyYXRvcjogU2tldGNoIDU0LjEgKDc2NDkwKSAtIGh0dHBzOi8vc2tldGNoYXBwLmNvbSAtLT4KICAgIDx0aXRsZT5Hcm91cCAzPC90aXRsZT4KICAgIDxkZXNjPkNyZWF0ZWQgd2l0aCBTa2V0Y2guPC9kZXNjPgogICAgPGcgaWQ9IkxhbmRpbmciIHN0cm9rZT0ibm9uZSIgc3Ryb2tlLXdpZHRoPSIxIiBmaWxsPSJub25lIiBmaWxsLXJ1bGU9ImV2ZW5vZGQiPgogICAgICAgIDxnIGlkPSJBcnRib2FyZCIgdHJhbnNmb3JtPSJ0cmFuc2xhdGUoLTEyMzUuMDAwMDAwLCAtNzkuMDAwMDAwKSI+CiAgICAgICAgICAgIDxnIGlkPSJHcm91cC0zIiB0cmFuc2Zvcm09InRyYW5zbGF0ZSgxMjM1LjAwMDAwMCwgNzkuMDAwMDAwKSI+CiAgICAgICAgICAgICAgICA8cG9seWdvbiBpZD0iUGF0aC0yMCIgZmlsbD0iIzAyNjVCNCIgcG9pbnRzPSIyLjM3NjIzNzYyIDgwIDM4LjA0NzY2NjcgODAgNTcuODIxNzgyMiA3My44MDU3NTkyIDU3LjgyMTc4MjIgMzIuNzU5MjczOSAzOS4xNDAyMjc4IDMxLjY4MzE2ODMiPjwvcG9seWdvbj4KICAgICAgICAgICAgICAgIDxwYXRoIGQ9Ik0zNS4wMDc3MTgsODAgQzQyLjkwNjIwMDcsNzYuNDU0OTM1OCA0Ny41NjQ5MTY3LDcxLjU0MjI2NzEgNDguOTgzODY2LDY1LjI2MTk5MzkgQzUxLjExMjI4OTksNTUuODQxNTg0MiA0MS42NzcxNzk1LDQ5LjIxMjIyODQgMjUuNjIzOTg0Niw0OS4yMTIyMjg0IEMyNS40ODQ5Mjg5LDQ5LjEyNjg0NDggMjkuODI2MTI5Niw0My4yODM4MjQ4IDM4LjY0NzU4NjksMzEuNjgzMTY4MyBMNzIuODcxMjg3MSwzMi41NTQ0MjUgTDY1LjI4MDk3Myw2Ny42NzYzNDIxIEw1MS4xMTIyODk5LDc3LjM3NjE0NCBMMzUuMDA3NzE4LDgwIFoiIGlkPSJQYXRoLTIyIiBmaWxsPSIjMDAyODY4Ij48L3BhdGg+CiAgICAgICAgICAgICAgICA8cGF0aCBkPSJNMCwzNy43MzA0NDA1IEwyNy4xMTQ1MzcsMC4yNTcxMTE0MzYgQzYyLjM3MTUxMjMsLTEuOTkwNzE3MDEgODAsMTAuNTAwMzkyNyA4MCwzNy43MzA0NDA1IEM4MCw2NC45NjA0ODgyIDY0Ljc3NjUwMzgsNzkuMDUwMzQxNCAzNC4zMjk1MTEzLDgwIEM0Ny4wNTUzNDg5LDc3LjU2NzA4MDggNTMuNDE4MjY3Nyw3MC4zMTM2MTAzIDUzLjQxODI2NzcsNTguMjM5NTg4NSBDNTMuNDE4MjY3Nyw0MC4xMjg1NTU3IDM2LjMwMzk1NDQsMzcuNzMwNDQwNSAyNS4yMjc0MTcsMzcuNzMwNDQwNSBDMTcuODQzMDU4NiwzNy43MzA0NDA1IDkuNDMzOTE5NjYsMzcuNzMwNDQwNSAwLDM3LjczMDQ0MDUgWiIgaWQ9IlBhdGgtMTkiIGZpbGw9IiMzNzkzRUYiPjwvcGF0aD4KICAgICAgICAgICAgPC9nPgogICAgICAgIDwvZz4KICAgIDwvZz4KPC9zdmc+' > </img>\n",
    "Created in <span style='font-weight:600;margin-left:4px;'>Deepnote</span></a>"
   ]
  }
 ],
 "metadata": {
  "deepnote": {},
  "deepnote_app_layout": "article",
  "deepnote_execution_queue": [],
  "deepnote_notebook_id": "bffede8c57b44ddeb5935d3ce56b964d"
 },
 "nbformat": 4,
 "nbformat_minor": 0
}
