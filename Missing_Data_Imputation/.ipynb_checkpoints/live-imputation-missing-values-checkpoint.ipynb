{
 "cells": [
  {
   "cell_type": "markdown",
   "metadata": {
    "cell_id": "b4cd8031c02447ee9b8761dfbe74d10d",
    "deepnote_app_coordinates": {
     "h": 5,
     "w": 12,
     "x": 0,
     "y": 1
    },
    "deepnote_cell_type": "markdown",
    "tags": []
   },
   "source": [
    "# Curso de Manejo de Datos Faltantes: Imputación"
   ]
  },
  {
   "cell_type": "markdown",
   "metadata": {
    "cell_id": "5ab9bb095dac4c19a637e4a93114ead0",
    "deepnote_app_coordinates": {
     "h": 5,
     "w": 12,
     "x": 0,
     "y": 0
    },
    "deepnote_cell_type": "markdown",
    "deepnote_to_be_reexecuted": false,
    "execution_millis": 1,
    "execution_start": 1657216113977,
    "source_hash": "b8c03480",
    "tags": []
   },
   "source": [
    "[![Curso creado por jvelezmagic](https://img.shields.io/badge/Desarrollado%20por-%40jvelezmagic-blue?&style=for-the-badge&logo=data:image/png;base64,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)](https://jvelezmagic.com/)\n",
    "\n",
    "![Curso de Manejo de Datos Faltantes: Exploración](course-logo.jpg)"
   ]
  },
  {
   "cell_type": "markdown",
   "metadata": {
    "cell_id": "9f32933b65814569bc3ec1c5f70d281b",
    "deepnote_app_coordinates": {
     "h": 5,
     "w": 12,
     "x": 0,
     "y": 13
    },
    "deepnote_cell_type": "markdown",
    "tags": []
   },
   "source": [
    "## Configuración de ambiente de trabajo"
   ]
  },
  {
   "cell_type": "markdown",
   "metadata": {
    "cell_id": "a2bb2d2468a54ae698f34a1e4a104908",
    "deepnote_app_coordinates": {
     "h": 5,
     "w": 12,
     "x": 0,
     "y": 19
    },
    "deepnote_cell_type": "markdown",
    "tags": []
   },
   "source": [
    "```bash\n",
    "pip install --upgrade pip\n",
    "```"
   ]
  },
  {
   "cell_type": "markdown",
   "metadata": {
    "cell_id": "c5b823400cea40bab5ddc21343a8d829",
    "deepnote_app_coordinates": {
     "h": 5,
     "w": 12,
     "x": 0,
     "y": 25
    },
    "deepnote_cell_type": "markdown",
    "tags": []
   },
   "source": [
    "```bash\n",
    "pip install pyjanitor matplotlib missingno nhanes pandas scipy seaborn session-info sklearn statsmodels upsetplot\n",
    "```\n",
    "\n",
    "or \n",
    "\n",
    "```bash\n",
    "pip install -r requirements.txt\n",
    "```"
   ]
  },
  {
   "cell_type": "markdown",
   "metadata": {
    "cell_id": "07c321251de843088148c528a8e47ad3",
    "deepnote_app_coordinates": {
     "h": 5,
     "w": 12,
     "x": 0,
     "y": 31
    },
    "deepnote_cell_type": "markdown",
    "tags": []
   },
   "source": [
    "## Importar librerías"
   ]
  },
  {
   "cell_type": "code",
   "execution_count": 1,
   "metadata": {
    "cell_id": "b2cc687b60004ebeae447a5c901593fe",
    "deepnote_app_coordinates": {
     "h": 5,
     "w": 12,
     "x": 0,
     "y": 37
    },
    "deepnote_cell_type": "code",
    "deepnote_to_be_reexecuted": false,
    "execution_millis": 2000,
    "execution_start": 1674256323718,
    "output_cleared": true,
    "source_hash": "5a40ea29",
    "tags": []
   },
   "outputs": [],
   "source": [
    "import janitor\n",
    "import matplotlib.pyplot as plt\n",
    "import missingno\n",
    "import nhanes.load\n",
    "import numpy as np\n",
    "import pandas as pd\n",
    "import scipy.stats\n",
    "import seaborn as sns\n",
    "import session_info\n",
    "import sklearn.compose\n",
    "import sklearn.impute\n",
    "import sklearn.preprocessing\n",
    "import statsmodels.api as sm\n",
    "import statsmodels.datasets\n",
    "import statsmodels.formula.api as smf\n",
    "\n",
    "from sklearn.ensemble import RandomForestRegressor\n",
    "from sklearn.experimental import enable_iterative_imputer\n",
    "from sklearn.kernel_approximation import Nystroem\n",
    "from sklearn.linear_model import BayesianRidge, Ridge\n",
    "from sklearn.neighbors import KNeighborsRegressor\n",
    "from statsmodels.graphics.mosaicplot import mosaic"
   ]
  },
  {
   "cell_type": "markdown",
   "metadata": {
    "cell_id": "3dfa57f963064eeaaaad690566740f81",
    "deepnote_app_coordinates": {
     "h": 5,
     "w": 12,
     "x": 0,
     "y": 43
    },
    "deepnote_cell_type": "markdown",
    "tags": []
   },
   "source": [
    "## Importar funciones personalizadas"
   ]
  },
  {
   "cell_type": "code",
   "execution_count": 1,
   "metadata": {
    "cell_id": "936c2d224a8342a3b5377805778e43ff",
    "deepnote_app_coordinates": {
     "h": 5,
     "w": 12,
     "x": 0,
     "y": 49
    },
    "deepnote_cell_type": "code",
    "deepnote_to_be_reexecuted": false,
    "execution_millis": 3,
    "execution_start": 1674256325721,
    "output_cleared": true,
    "source_hash": "b623e53d",
    "tags": []
   },
   "outputs": [],
   "source": []
  },
  {
   "cell_type": "markdown",
   "metadata": {
    "cell_id": "e9247fe994dd43548b010dd697662cf6",
    "deepnote_app_coordinates": {
     "h": 5,
     "w": 12,
     "x": 0,
     "y": 55
    },
    "deepnote_cell_type": "markdown",
    "tags": []
   },
   "source": [
    "## Configurar el aspecto general de las gráficas del proyecto"
   ]
  },
  {
   "cell_type": "code",
   "execution_count": 2,
   "metadata": {
    "cell_id": "5534bfd55f8e4cc1a312337d4bf995ec",
    "deepnote_app_coordinates": {
     "h": 5,
     "w": 12,
     "x": 0,
     "y": 61
    },
    "deepnote_cell_type": "code",
    "deepnote_to_be_reexecuted": false,
    "execution_millis": 28,
    "execution_start": 1674256325729,
    "output_cleared": true,
    "source_hash": "f73fb2b0",
    "tags": []
   },
   "outputs": [],
   "source": [
    "%matplotlib inline\n",
    "\n",
    "sns.set(\n",
    "    rc={\n",
    "        \"figure.figsize\": (8, 6)\n",
    "    }\n",
    ")\n",
    "\n",
    "sns.set_style(\"whitegrid\")"
   ]
  },
  {
   "cell_type": "markdown",
   "metadata": {
    "cell_id": "369134dc33734c78a996690edf91e9d6",
    "deepnote_app_coordinates": {
     "h": 5,
     "w": 12,
     "x": 0,
     "y": 661
    },
    "deepnote_cell_type": "markdown",
    "tags": []
   },
   "source": [
    "## El problema de trabajar con valores faltantes"
   ]
  },
  {
   "cell_type": "code",
   "execution_count": 2,
   "metadata": {
    "cell_id": "9aeccad0c99f4330bcbb43e135a0d6e7",
    "deepnote_app_coordinates": {
     "h": 5,
     "w": 12,
     "x": 0,
     "y": 0
    },
    "deepnote_cell_type": "code",
    "deepnote_to_be_reexecuted": false,
    "execution_millis": 1,
    "execution_start": 1674256325759,
    "output_cleared": true,
    "source_hash": "b623e53d",
    "tags": []
   },
   "outputs": [],
   "source": []
  },
  {
   "cell_type": "code",
   "execution_count": 2,
   "metadata": {
    "cell_id": "c112e029fec94aedbb576c8de3a9d480",
    "deepnote_app_coordinates": {
     "h": 5,
     "w": 12,
     "x": 0,
     "y": 0
    },
    "deepnote_cell_type": "code",
    "deepnote_to_be_reexecuted": false,
    "execution_millis": 0,
    "execution_start": 1674256325763,
    "output_cleared": true,
    "source_hash": "b623e53d",
    "tags": []
   },
   "outputs": [],
   "source": []
  },
  {
   "cell_type": "code",
   "execution_count": 2,
   "metadata": {
    "cell_id": "05b94bf1ab804682ae97cd19fd3cffee",
    "deepnote_app_coordinates": {
     "h": 5,
     "w": 12,
     "x": 0,
     "y": 0
    },
    "deepnote_cell_type": "code",
    "deepnote_to_be_reexecuted": false,
    "execution_millis": 0,
    "execution_start": 1674256325810,
    "output_cleared": true,
    "source_hash": "b623e53d",
    "tags": []
   },
   "outputs": [],
   "source": []
  },
  {
   "cell_type": "markdown",
   "metadata": {
    "cell_id": "44b9a41d464943ca8c0826765cc36006",
    "deepnote_app_coordinates": {
     "h": 5,
     "w": 12,
     "x": 0,
     "y": 0
    },
    "deepnote_cell_type": "markdown",
    "tags": []
   },
   "source": [
    "### Reto: Datos de supervivientes"
   ]
  },
  {
   "cell_type": "code",
   "execution_count": 3,
   "metadata": {
    "cell_id": "fcec74eb767440efb015e1c26beed76a",
    "deepnote_app_coordinates": {
     "h": 5,
     "w": 12,
     "x": 0,
     "y": 0
    },
    "deepnote_cell_type": "code",
    "deepnote_to_be_reexecuted": false,
    "execution_millis": 306,
    "execution_start": 1674256325811,
    "output_cleared": true,
    "source_hash": "2012f9f9",
    "tags": []
   },
   "outputs": [],
   "source": [
    "survival_df = sm.datasets.get_rdataset(\"flchain\", \"survival\").data"
   ]
  },
  {
   "cell_type": "markdown",
   "metadata": {
    "cell_id": "21c4195857be457e9cf1f6744443e660",
    "deepnote_app_coordinates": {
     "h": 5,
     "w": 12,
     "x": 0,
     "y": 0
    },
    "deepnote_cell_type": "markdown",
    "tags": []
   },
   "source": [
    "Ajusta algunos modelos utilizando a las variables con valores faltantes como predictoras. ¿Qué sucede?"
   ]
  },
  {
   "cell_type": "code",
   "execution_count": 4,
   "metadata": {
    "cell_id": "2f63c4db6308452f817fdd634d8e2ac5",
    "deepnote_app_coordinates": {
     "h": 5,
     "w": 12,
     "x": 0,
     "y": 0
    },
    "deepnote_cell_type": "code",
    "deepnote_to_be_reexecuted": false,
    "execution_millis": 2,
    "execution_start": 1674256326123,
    "output_cleared": true,
    "source_hash": "2a906483",
    "tags": []
   },
   "outputs": [],
   "source": [
    "# Aquí tu código..."
   ]
  },
  {
   "cell_type": "markdown",
   "metadata": {
    "cell_id": "b4da2b4158a0465c9ce114f97d7a830e",
    "deepnote_app_coordinates": {
     "h": 5,
     "w": 12,
     "x": 0,
     "y": 0
    },
    "deepnote_cell_type": "markdown",
    "tags": []
   },
   "source": [
    "## Preparando datos: _National Health and Nutrition Examination Survey_"
   ]
  },
  {
   "cell_type": "code",
   "execution_count": 5,
   "metadata": {
    "cell_id": "eab20f8c2c8c4875a36dc55770e8cffb",
    "deepnote_cell_type": "code",
    "deepnote_to_be_reexecuted": false,
    "execution_millis": 3208,
    "execution_start": 1674256326130,
    "output_cleared": false,
    "source_hash": "a9876b5b",
    "tags": []
   },
   "outputs": [
    {
     "name": "stderr",
     "output_type": "stream",
     "text": [
      "/root/venv/lib/python3.9/site-packages/upsetplot/plotting.py:20: MatplotlibDeprecationWarning: The matplotlib.tight_layout module was deprecated in Matplotlib 3.6 and will be removed two minor releases later.\n",
      "  from matplotlib.tight_layout import get_renderer\n",
      "/root/venv/lib/python3.9/site-packages/missingno/missingno.py:73: MatplotlibDeprecationWarning: The 'b' parameter of grid() has been renamed 'visible' since Matplotlib 3.5; support for the old name will be dropped two minor releases later.\n",
      "  ax0.grid(b=False)\n",
      "/root/venv/lib/python3.9/site-packages/missingno/missingno.py:142: MatplotlibDeprecationWarning: The 'b' parameter of grid() has been renamed 'visible' since Matplotlib 3.5; support for the old name will be dropped two minor releases later.\n",
      "  ax1.grid(b=False)\n"
     ]
    },
    {
     "data": {
      "image/png": "[encoded data removed]",
      "text/plain": [
       "<Figure size 2500x1000 with 2 Axes>"
      ]
     },
     "metadata": {
      "image/png": {
       "height": 1033,
       "width": 2053
      }
     },
     "output_type": "display_data"
    },
    {
     "data": {
      "image/png": "[encoded data removed]",
      "text/plain": [
       "<Figure size 1555.56x622.222 with 4 Axes>"
      ]
     },
     "metadata": {
      "image/png": {
       "height": 527,
       "width": 1240
      }
     },
     "output_type": "display_data"
    },
    {
     "name": "stderr",
     "output_type": "stream",
     "text": [
      "/root/venv/lib/python3.9/site-packages/missingno/missingno.py:73: MatplotlibDeprecationWarning: The 'b' parameter of grid() has been renamed 'visible' since Matplotlib 3.5; support for the old name will be dropped two minor releases later.\n",
      "  ax0.grid(b=False)\n",
      "/root/venv/lib/python3.9/site-packages/missingno/missingno.py:142: MatplotlibDeprecationWarning: The 'b' parameter of grid() has been renamed 'visible' since Matplotlib 3.5; support for the old name will be dropped two minor releases later.\n",
      "  ax1.grid(b=False)\n"
     ]
    },
    {
     "data": {
      "image/png": "[encoded data removed]",
      "text/plain": [
       "<Figure size 2500x1000 with 2 Axes>"
      ]
     },
     "metadata": {
      "image/png": {
       "height": 1033,
       "width": 2053
      }
     },
     "output_type": "display_data"
    },
    {
     "data": {
      "image/png": "[encoded data removed]",
      "text/plain": [
       "<Figure size 1511.11x622.222 with 4 Axes>"
      ]
     },
     "metadata": {
      "image/png": {
       "height": 527,
       "width": 1191
      }
     },
     "output_type": "display_data"
    }
   ],
   "source": [
    "%run download-data-and-load-it.ipynb"
   ]
  },
  {
   "cell_type": "markdown",
   "metadata": {
    "cell_id": "6d826953cd374d2ab8336fc5c1166d74",
    "deepnote_app_coordinates": {
     "h": 5,
     "w": 12,
     "x": 0,
     "y": 672
    },
    "deepnote_cell_type": "markdown",
    "tags": []
   },
   "source": [
    "## Consideración y evaluación de los distintos tipos de valores faltantes"
   ]
  },
  {
   "cell_type": "markdown",
   "metadata": {
    "cell_id": "71670b2531c24bafb47657750d9c67b4",
    "deepnote_cell_type": "markdown",
    "deepnote_to_be_reexecuted": false,
    "execution_millis": 4,
    "execution_start": 1674174687357,
    "source_hash": "7a28d52f",
    "tags": []
   },
   "source": [
    "mmmCAR\n",
    "La localización de los valores faltantes en el conjunto de datos ocurren completamente al azar, estos no dependen de ningún otro dato\n",
    "\n",
    "Eliminación de valores faltantes\n",
    "\n",
    "Reducción del tamaño de muestra.\n",
    "Inferencia limitada.\n",
    "No produce sesgos\n",
    "Imputación de valores faltantes\n",
    "\n",
    "De hacerlo bien, no produce sesgos\n",
    "La imputación es recomendada sobre la deleción.\n",
    "MAR\n",
    "La localización de los valores faltantes en el conjunto de datos dependen de otros valores observados.\n",
    "\n",
    "Eliminación de valores faltantes\n",
    "\n",
    "Ignorarlos produce sesgos\n",
    "Imputación de valores faltantes\n",
    "\n",
    "La mayor parte de métodos de imputación asumen MAR\n",
    "La imputación es necesaria\n",
    "MNAR\n",
    "La localización de los valores faltantes en el conjunto de datos dependen de otros valores faltantes en sí mismos.\n",
    "\n",
    "Eliminación de valores faltantes\n",
    "\n",
    "Ignorarlos produce sesgos\n",
    "Imputación de valores faltantes\n",
    "\n",
    "La imputación es recomendada sobre la deleción.\n",
    "💡 Mejorar experimentos o realizar análisis de sensibilidad (repetir los experimentos, explorar los parámetros, ver como cambian los análisis al modificar algunos datos y establecer intervalos de confianza)"
   ]
  },
  {
   "cell_type": "markdown",
   "metadata": {
    "cell_id": "6f149a6426b34384b93d291dda31b091",
    "deepnote_app_coordinates": {
     "h": 5,
     "w": 12,
     "x": 0,
     "y": 0
    },
    "deepnote_cell_type": "markdown",
    "tags": []
   },
   "source": [
    "![](missing_data_action.jpeg)"
   ]
  },
  {
   "cell_type": "markdown",
   "metadata": {
    "cell_id": "d4ea76d051184e00bdfe24d9713b1e1a",
    "deepnote_app_coordinates": {
     "h": 5,
     "w": 12,
     "x": 0,
     "y": 0
    },
    "deepnote_cell_type": "markdown",
    "tags": []
   },
   "source": [
    "## Evaluación del mecanismo de valores faltantes por prueba de _t-test_"
   ]
  },
  {
   "cell_type": "markdown",
   "metadata": {
    "cell_id": "dd3b48e7c68d41edb6a55e0b7b6ef840",
    "deepnote_app_coordinates": {
     "h": 5,
     "w": 12,
     "x": 0,
     "y": 0
    },
    "deepnote_cell_type": "markdown",
    "tags": []
   },
   "source": [
    "<div class=\"alert alert-info\">\n",
    "    <b style=\"font-size: 1.5em;\">📘 Información</b>\n",
    "    <p>\n",
    "<code>two-sided</code>: las <b>medias</b> de las distribuciones subyacentes a las muestras son <b>desiguales</b>.<br>\n",
    "<code>less</code>: la <b>media</b> de la distribución subyacente a la <b>primera</b> muestra es <b>menor</b> que la media de la distribución subyacente a la <b>segunda</b> muestra.<br>\n",
    "<code>greater</code>: la <b>media</b> de la distribución subyacente a la <b>primera</b> muestra es <b>mayor</b> que la media de la distribución subyacente a la <b>segunda</b> muestra.<br>\n",
    "    </p>\n",
    "</div>"
   ]
  },
  {
   "cell_type": "code",
   "execution_count": 6,
   "metadata": {
    "cell_id": "d1bb076a56f84446b29bcda1d48ed345",
    "deepnote_app_coordinates": {
     "h": 5,
     "w": 12,
     "x": 0,
     "y": 0
    },
    "deepnote_cell_type": "code",
    "deepnote_to_be_reexecuted": false,
    "execution_millis": 6,
    "execution_start": 1674256329339,
    "output_cleared": false,
    "source_hash": "7f7c46b8",
    "tags": []
   },
   "outputs": [
    {
     "data": {
      "text/plain": [
       "Ttest_indResult(statistic=-0.3621032192538131, pvalue=0.7172855918077239)"
      ]
     },
     "execution_count": 6,
     "metadata": {},
     "output_type": "execute_result"
    }
   ],
   "source": [
    "female_weight, male_weight = (\n",
    "    nhanes_df\n",
    "    .select_columns(\"gender\",\"weight\")\n",
    "    .transform_column(\n",
    "\n",
    "        \"weight\", lambda x: x.isna(),\n",
    "        elementwise = False\n",
    "    )\n",
    "    .groupby(\"gender\")\n",
    "    .weight\n",
    "    .pipe(\n",
    "        lambda df: (\n",
    "            df.get_group(\"Female\"),\n",
    "            df.get_group(\"Male\")\n",
    "        )\n",
    "    )\n",
    ")\n",
    "\n",
    "\n",
    "# realizamos el t-test para preguntar si la ausencia o presencia de valores faltantes es diferente entre 2 grupos\n",
    "scipy.stats.ttest_ind(\n",
    "    a = female_weight,\n",
    "    b = male_weight,\n",
    "    alternative = \"two-sided\"\n",
    ")\n",
    "\n",
    "# pvalue nos dira si aceptamos o no la hipotesis."
   ]
  },
  {
   "cell_type": "markdown",
   "metadata": {
    "cell_id": "3807be0f192f474094dec2f295c9a9dd",
    "deepnote_app_coordinates": {
     "h": 5,
     "w": 12,
     "x": 0,
     "y": 683
    },
    "deepnote_cell_type": "markdown",
    "tags": []
   },
   "source": [
    "## Amplía tu conjunto de herramientas para explorar valores faltantes"
   ]
  },
  {
   "cell_type": "code",
   "execution_count": 25,
   "metadata": {
    "cell_id": "0cf734e1202d4661a71df3234c420053",
    "deepnote_app_coordinates": {
     "h": 5,
     "w": 12,
     "x": 0,
     "y": 0
    },
    "deepnote_cell_type": "code",
    "deepnote_to_be_reexecuted": false,
    "execution_millis": 808,
    "execution_start": 1674257188691,
    "output_cleared": false,
    "source_hash": "d98402ad",
    "tags": []
   },
   "outputs": [
    {
     "data": {
      "text/plain": [
       "''"
      ]
     },
     "execution_count": 25,
     "metadata": {},
     "output_type": "execute_result"
    },
    {
     "data": {
      "image/png": "[encoded data removed]",
      "text/plain": [
       "<Figure size 800x800 with 3 Axes>"
      ]
     },
     "metadata": {
      "image/png": {
       "height": 714,
       "width": 738
      }
     },
     "output_type": "display_data"
    }
   ],
   "source": [
    "## MOSAICO\n",
    "\n",
    "fig, ax = plt.subplots(figsize = (8,8))\n",
    "\n",
    "nhanes_df.select_columns(\"weight\", \"general_health_condition\", \"gender\").assign(\n",
    "    weight = lambda df: df.weight.isna().replace([True, False], [\"NA\", \"!NA\"])\n",
    ").groupby(\n",
    "    [\"gender\", \"general_health_condition\", \"weight\"],\n",
    "    dropna=False,\n",
    "    as_index = True\n",
    ").size().pipe(\n",
    "    lambda df: mosaic(\n",
    "        data = df,\n",
    "        properties = lambda key: {\"color\": \"r\" if \"NA\" in key else \"gray\"},\n",
    "        horizontal = True,\n",
    "        axes_label=True,\n",
    "        title=\"HOLIX\",\n",
    "        labelizer = lambda key: \"\",\n",
    "        ax = ax\n",
    "\n",
    "\n",
    "    )\n",
    ")\n",
    ";"
   ]
  },
  {
   "cell_type": "code",
   "execution_count": null,
   "metadata": {
    "cell_id": "2af195a521c7479d966572344b2cd4b2",
    "deepnote_app_coordinates": {
     "h": 5,
     "w": 12,
     "x": 0,
     "y": 0
    },
    "deepnote_cell_type": "code",
    "deepnote_to_be_reexecuted": false,
    "execution_millis": 11,
    "execution_start": 1659727198395,
    "output_cleared": true,
    "source_hash": "cec5fd3",
    "tags": []
   },
   "outputs": [],
   "source": []
  },
  {
   "cell_type": "markdown",
   "metadata": {
    "cell_id": "f920336409cf4d9ebaa3b455d6222015",
    "deepnote_app_coordinates": {
     "h": 5,
     "w": 12,
     "x": 0,
     "y": 694
    },
    "deepnote_cell_type": "markdown",
    "tags": []
   },
   "source": [
    "## Tratamiento de variables categóricas para imputación de valores faltantes"
   ]
  },
  {
   "cell_type": "code",
   "execution_count": null,
   "metadata": {
    "cell_id": "3d0f58310c2f4b0f953796e346758d87",
    "deepnote_app_coordinates": {
     "h": 5,
     "w": 12,
     "x": 0,
     "y": 0
    },
    "deepnote_cell_type": "code",
    "deepnote_to_be_reexecuted": false,
    "execution_millis": 6,
    "execution_start": 1659727198410,
    "output_cleared": true,
    "source_hash": "4e83a69b",
    "tags": []
   },
   "outputs": [],
   "source": []
  },
  {
   "cell_type": "markdown",
   "metadata": {
    "cell_id": "0b041a05fbc646c69da61baef95d68fb",
    "deepnote_app_coordinates": {
     "h": 5,
     "w": 12,
     "x": 0,
     "y": 0
    },
    "deepnote_cell_type": "markdown",
    "tags": []
   },
   "source": [
    "### Codificación ordinal"
   ]
  },
  {
   "cell_type": "markdown",
   "metadata": {
    "cell_id": "2d04b5521e77425da0f1023714303270",
    "deepnote_app_coordinates": {
     "h": 5,
     "w": 12,
     "x": 0,
     "y": 0
    },
    "deepnote_cell_type": "markdown",
    "tags": []
   },
   "source": [
    "<div class=\"alert alert-info\">\n",
    "    <b style=\"font-size: 1.5em;\">📘 Información</b>\n",
    "    <p>\n",
    "    Una codificación ordinal <b>implica</b> mapear cada etiqueta (categoría) única a un valor entero. A su vez, la codificación ordinal también es conocida como codificación entera.\n",
    "    </p>\n",
    "</div>"
   ]
  },
  {
   "cell_type": "markdown",
   "metadata": {
    "cell_id": "30097e9559124d348cf0e7c81fe46640",
    "deepnote_app_coordinates": {
     "h": 5,
     "w": 12,
     "x": 0,
     "y": 0
    },
    "deepnote_cell_type": "markdown",
    "tags": []
   },
   "source": [
    "#### Ejemplo\n",
    "\n",
    "Dado un conjunto de datos con dos características, encontraremos los valores únicos por cataracterística y los transformaremos utilizando una codificación ordinal."
   ]
  },
  {
   "cell_type": "code",
   "execution_count": null,
   "metadata": {
    "cell_id": "6b484abbc9d04377a6be4498aa6d5b9c",
    "deepnote_app_coordinates": {
     "h": 5,
     "w": 12,
     "x": 0,
     "y": 0
    },
    "deepnote_cell_type": "code",
    "deepnote_to_be_reexecuted": false,
    "execution_millis": 3,
    "execution_start": 1659727198443,
    "output_cleared": true,
    "source_hash": "f3b27465",
    "tags": []
   },
   "outputs": [],
   "source": []
  },
  {
   "cell_type": "code",
   "execution_count": null,
   "metadata": {
    "cell_id": "0916e10679aa4c47849a722c882f3df3",
    "deepnote_app_coordinates": {
     "h": 5,
     "w": 12,
     "x": 0,
     "y": 0
    },
    "deepnote_cell_type": "code",
    "deepnote_to_be_reexecuted": false,
    "execution_millis": 786637,
    "execution_start": 1659727198459,
    "output_cleared": true,
    "source_hash": "50c963d",
    "tags": []
   },
   "outputs": [],
   "source": []
  },
  {
   "cell_type": "code",
   "execution_count": null,
   "metadata": {
    "cell_id": "eb121e7edcdc44418262bfed94c3a560",
    "deepnote_app_coordinates": {
     "h": 5,
     "w": 12,
     "x": 0,
     "y": 0
    },
    "deepnote_cell_type": "code",
    "deepnote_to_be_reexecuted": false,
    "execution_millis": 786585,
    "execution_start": 1659727198470,
    "output_cleared": true,
    "source_hash": "2250c89b",
    "tags": []
   },
   "outputs": [],
   "source": []
  },
  {
   "cell_type": "code",
   "execution_count": null,
   "metadata": {
    "cell_id": "b8cd0b29a5f744e494b80b4b586f84e0",
    "deepnote_app_coordinates": {
     "h": 5,
     "w": 12,
     "x": 0,
     "y": 0
    },
    "deepnote_cell_type": "code",
    "deepnote_to_be_reexecuted": false,
    "execution_millis": 786595,
    "execution_start": 1659727198499,
    "output_cleared": true,
    "source_hash": "c7aed6f6",
    "tags": []
   },
   "outputs": [],
   "source": []
  },
  {
   "cell_type": "markdown",
   "metadata": {
    "cell_id": "3b9ec2ea387647478ebde617b8ed97a9",
    "deepnote_app_coordinates": {
     "h": 5,
     "w": 12,
     "x": 0,
     "y": 0
    },
    "deepnote_cell_type": "markdown",
    "tags": []
   },
   "source": [
    "#### Aplicando la codificación ordinal a todas tus variables categóricas"
   ]
  },
  {
   "cell_type": "code",
   "execution_count": null,
   "metadata": {
    "cell_id": "a4862e261f5e4c1abb300992ecb7816e",
    "deepnote_app_coordinates": {
     "h": 5,
     "w": 12,
     "x": 0,
     "y": 0
    },
    "deepnote_cell_type": "code",
    "deepnote_to_be_reexecuted": false,
    "execution_millis": 11,
    "execution_start": 1659727198500,
    "output_cleared": true,
    "source_hash": "d914aef9",
    "tags": []
   },
   "outputs": [],
   "source": []
  },
  {
   "cell_type": "code",
   "execution_count": null,
   "metadata": {
    "cell_id": "4d4205e00a004789a7c421f8a0324a99",
    "deepnote_app_coordinates": {
     "h": 5,
     "w": 12,
     "x": 0,
     "y": 0
    },
    "deepnote_cell_type": "code",
    "deepnote_to_be_reexecuted": false,
    "execution_millis": 607,
    "execution_start": 1659727198500,
    "output_cleared": true,
    "source_hash": "b834d0c0",
    "tags": []
   },
   "outputs": [],
   "source": []
  },
  {
   "cell_type": "code",
   "execution_count": null,
   "metadata": {
    "cell_id": "c1115f2b6b2d4d29a407de993e45d3d7",
    "deepnote_app_coordinates": {
     "h": 5,
     "w": 12,
     "x": 0,
     "y": 0
    },
    "deepnote_cell_type": "code",
    "deepnote_to_be_reexecuted": false,
    "execution_millis": 803,
    "execution_start": 1659727198501,
    "output_cleared": true,
    "source_hash": "d83e42d9",
    "tags": []
   },
   "outputs": [],
   "source": []
  },
  {
   "cell_type": "code",
   "execution_count": null,
   "metadata": {
    "cell_id": "2fc7d24edda84c2b900cddf306d02886",
    "deepnote_app_coordinates": {
     "h": 5,
     "w": 12,
     "x": 0,
     "y": 0
    },
    "deepnote_cell_type": "code",
    "deepnote_to_be_reexecuted": false,
    "execution_millis": 750,
    "execution_start": 1659727198561,
    "is_code_hidden": false,
    "output_cleared": true,
    "source_hash": "b6fe3f94",
    "tags": []
   },
   "outputs": [],
   "source": []
  },
  {
   "cell_type": "markdown",
   "metadata": {
    "cell_id": "e49a78931e2f404eaa6db092e6a816a4",
    "deepnote_app_coordinates": {
     "h": 5,
     "w": 12,
     "x": 0,
     "y": 0
    },
    "deepnote_cell_type": "markdown",
    "tags": []
   },
   "source": [
    "### _One Hot Encoding_"
   ]
  },
  {
   "cell_type": "code",
   "execution_count": null,
   "metadata": {
    "cell_id": "dcf405d568cf4d20bd59e46240d84941",
    "deepnote_app_coordinates": {
     "h": 5,
     "w": 12,
     "x": 0,
     "y": 0
    },
    "deepnote_cell_type": "code",
    "deepnote_to_be_reexecuted": false,
    "execution_millis": 2,
    "execution_start": 1659727198577,
    "output_cleared": true,
    "source_hash": "6b9d742",
    "tags": []
   },
   "outputs": [],
   "source": []
  },
  {
   "cell_type": "markdown",
   "metadata": {
    "cell_id": "9a6c86eb73b948a6885e76a47607ce2c",
    "deepnote_app_coordinates": {
     "h": 5,
     "w": 12,
     "x": 0,
     "y": 0
    },
    "deepnote_cell_type": "markdown",
    "tags": []
   },
   "source": [
    "### `pandas.get_dummies()` vs `skelearn.preprocessing.OneHotEncoder()`"
   ]
  },
  {
   "cell_type": "markdown",
   "metadata": {
    "cell_id": "df106a607fd04446b53a52e35d233604",
    "deepnote_app_coordinates": {
     "h": 5,
     "w": 12,
     "x": 0,
     "y": 0
    },
    "deepnote_cell_type": "markdown",
    "tags": []
   },
   "source": [
    "#### `pandas.get_dummies()`"
   ]
  },
  {
   "cell_type": "code",
   "execution_count": null,
   "metadata": {
    "cell_id": "f5a810703fae4bac9800e058c0097f7c",
    "deepnote_app_coordinates": {
     "h": 4,
     "w": 12,
     "x": 0,
     "y": 704
    },
    "deepnote_cell_type": "code",
    "deepnote_to_be_reexecuted": false,
    "execution_millis": 700,
    "execution_start": 1659727198616,
    "output_cleared": true,
    "owner_user_id": "bc32f83c-a807-4a78-8769-dff22df5fe36",
    "source_hash": "5cbab55e",
    "tags": []
   },
   "outputs": [],
   "source": []
  },
  {
   "cell_type": "markdown",
   "metadata": {
    "cell_id": "2572a2ab514542eb89f761a9411daad6",
    "deepnote_app_coordinates": {
     "h": 5,
     "w": 12,
     "x": 0,
     "y": 0
    },
    "deepnote_cell_type": "markdown",
    "tags": []
   },
   "source": [
    "#### `skelearn.preprocessing.OneHotEncoder()`"
   ]
  },
  {
   "cell_type": "code",
   "execution_count": null,
   "metadata": {
    "cell_id": "b41cd53458944761926ec17d625b85fe",
    "deepnote_cell_type": "code",
    "deepnote_to_be_reexecuted": false,
    "execution_millis": 2,
    "execution_start": 1659727198624,
    "output_cleared": true,
    "source_hash": "2f71130c",
    "tags": []
   },
   "outputs": [],
   "source": []
  },
  {
   "cell_type": "code",
   "execution_count": null,
   "metadata": {
    "cell_id": "8793e5c94325432f8be6507be5147b47",
    "deepnote_cell_type": "code",
    "deepnote_to_be_reexecuted": false,
    "execution_millis": 696,
    "execution_start": 1659727198632,
    "output_cleared": true,
    "source_hash": "d31afe8e",
    "tags": []
   },
   "outputs": [],
   "source": []
  },
  {
   "cell_type": "code",
   "execution_count": null,
   "metadata": {
    "cell_id": "4cd79492dde043e8a31c92740e211dbd",
    "deepnote_app_coordinates": {
     "h": 5,
     "w": 12,
     "x": 0,
     "y": 0
    },
    "deepnote_cell_type": "code",
    "deepnote_to_be_reexecuted": false,
    "execution_millis": 588,
    "execution_start": 1659727198744,
    "output_cleared": true,
    "source_hash": "2a780bd4",
    "tags": []
   },
   "outputs": [],
   "source": []
  },
  {
   "cell_type": "code",
   "execution_count": null,
   "metadata": {
    "cell_id": "d3f8f781a6f14c2fb554a1182ebfd76f",
    "deepnote_app_coordinates": {
     "h": 5,
     "w": 12,
     "x": 0,
     "y": 0
    },
    "deepnote_cell_type": "code",
    "deepnote_to_be_reexecuted": false,
    "execution_millis": 585,
    "execution_start": 1659727198755,
    "output_cleared": true,
    "source_hash": "8d5603ce",
    "tags": []
   },
   "outputs": [],
   "source": []
  },
  {
   "cell_type": "markdown",
   "metadata": {
    "cell_id": "b5c8df0e1a604b76a8c379e78a1f8627",
    "deepnote_app_coordinates": {
     "h": 3,
     "w": 12,
     "x": 0,
     "y": 700
    },
    "deepnote_cell_type": "markdown",
    "tags": []
   },
   "source": [
    "## Tipos de imputación de valores faltantes"
   ]
  },
  {
   "cell_type": "markdown",
   "metadata": {
    "cell_id": "97e2956ff0044857bed5607f96ca60e0",
    "deepnote_app_coordinates": {
     "h": 5,
     "w": 12,
     "x": 0,
     "y": 0
    },
    "deepnote_cell_type": "markdown",
    "tags": []
   },
   "source": [
    "![](imputation_methods.png)"
   ]
  },
  {
   "cell_type": "markdown",
   "metadata": {
    "cell_id": "2a9c583dc2024b458f6523e2abcb850a",
    "deepnote_app_coordinates": {
     "h": 5,
     "w": 12,
     "x": 0,
     "y": 714
    },
    "deepnote_cell_type": "markdown",
    "tags": []
   },
   "source": [
    "## Imputación de un único valor (media, mediana, moda)"
   ]
  },
  {
   "cell_type": "code",
   "execution_count": null,
   "metadata": {
    "cell_id": "7c5e993bb303443c880003b7a15d955b",
    "deepnote_app_coordinates": {
     "h": 4,
     "w": 12,
     "x": 0,
     "y": 720
    },
    "deepnote_cell_type": "code",
    "deepnote_to_be_reexecuted": false,
    "execution_millis": 545,
    "execution_start": 1659727198802,
    "output_cleared": true,
    "source_hash": "76d3464c",
    "tags": []
   },
   "outputs": [],
   "source": []
  },
  {
   "cell_type": "code",
   "execution_count": null,
   "metadata": {
    "cell_id": "73730ea79c3840aa85af885dd32bf4f3",
    "deepnote_app_coordinates": {
     "h": 5,
     "w": 12,
     "x": 0,
     "y": 0
    },
    "deepnote_cell_type": "code",
    "deepnote_to_be_reexecuted": false,
    "execution_millis": 567,
    "execution_start": 1659727198803,
    "output_cleared": true,
    "source_hash": "51efadfd",
    "tags": []
   },
   "outputs": [],
   "source": []
  },
  {
   "cell_type": "code",
   "execution_count": null,
   "metadata": {
    "cell_id": "5793eaa9d3df4e9c85ccdc40c1ef8b22",
    "deepnote_app_coordinates": {
     "h": 5,
     "w": 12,
     "x": 0,
     "y": 0
    },
    "deepnote_cell_type": "code",
    "deepnote_to_be_reexecuted": false,
    "execution_millis": 883,
    "execution_start": 1659727199273,
    "output_cleared": true,
    "source_hash": "a87158d5",
    "tags": []
   },
   "outputs": [],
   "source": []
  },
  {
   "cell_type": "markdown",
   "metadata": {
    "cell_id": "c797c2cdfce44b20bbcc8a00314aa34c",
    "deepnote_app_coordinates": {
     "h": 5,
     "w": 12,
     "x": 0,
     "y": 725
    },
    "deepnote_cell_type": "markdown",
    "tags": []
   },
   "source": [
    "## Imputación por llenado hacia atrás e imputación por llenado hacia adelante"
   ]
  },
  {
   "cell_type": "markdown",
   "metadata": {
    "cell_id": "bd18d3bb64f2424393d2b4789f8f3a1f",
    "deepnote_app_coordinates": {
     "h": 5,
     "w": 12,
     "x": 0,
     "y": 0
    },
    "deepnote_cell_type": "markdown",
    "tags": []
   },
   "source": [
    "### `fillna()` vs `ffill()` o `bfill()`"
   ]
  },
  {
   "cell_type": "code",
   "execution_count": null,
   "metadata": {
    "cell_id": "fc5f59a039cf4bd99fcdb90861cf1821",
    "deepnote_app_coordinates": {
     "h": 4,
     "w": 12,
     "x": 0,
     "y": 731
    },
    "deepnote_cell_type": "code",
    "deepnote_to_be_reexecuted": false,
    "execution_millis": 29,
    "execution_start": 1659727200152,
    "output_cleared": true,
    "source_hash": "51090d53",
    "tags": []
   },
   "outputs": [],
   "source": []
  },
  {
   "cell_type": "code",
   "execution_count": null,
   "metadata": {
    "cell_id": "04d449809e3444bcb485b8e21d8bf5cb",
    "deepnote_app_coordinates": {
     "h": 5,
     "w": 12,
     "x": 0,
     "y": 0
    },
    "deepnote_cell_type": "code",
    "deepnote_to_be_reexecuted": false,
    "execution_millis": 32,
    "execution_start": 1659727200182,
    "output_cleared": true,
    "source_hash": "bd0ddbbd",
    "tags": []
   },
   "outputs": [],
   "source": []
  },
  {
   "cell_type": "markdown",
   "metadata": {
    "cell_id": "92232c79ffda4e7ba9b145efcc372322",
    "deepnote_app_coordinates": {
     "h": 5,
     "w": 12,
     "x": 0,
     "y": 0
    },
    "deepnote_cell_type": "markdown",
    "tags": []
   },
   "source": [
    "#### Recomendaciones al imputar valores utilizando `ffill()` o `bfill()`\n",
    "\n",
    "> Imputación dentro de dominios e imputación a través de variables correlacionadas"
   ]
  },
  {
   "cell_type": "code",
   "execution_count": null,
   "metadata": {
    "cell_id": "aab21050816c4c26b80f75140774c758",
    "deepnote_app_coordinates": {
     "h": 5,
     "w": 12,
     "x": 0,
     "y": 0
    },
    "deepnote_cell_type": "code",
    "deepnote_to_be_reexecuted": false,
    "execution_millis": 42,
    "execution_start": 1659727200217,
    "output_cleared": true,
    "source_hash": "db0d0389",
    "tags": []
   },
   "outputs": [],
   "source": []
  },
  {
   "cell_type": "markdown",
   "metadata": {
    "cell_id": "f896e4d900d04f51a571b4e36abd5b73",
    "deepnote_app_coordinates": {
     "h": 3,
     "w": 12,
     "x": 0,
     "y": 736
    },
    "deepnote_cell_type": "markdown",
    "tags": []
   },
   "source": [
    "## Imputación por interpolación"
   ]
  },
  {
   "cell_type": "code",
   "execution_count": null,
   "metadata": {
    "cell_id": "706316d9f34a472e8e5294786aafd8eb",
    "deepnote_app_coordinates": {
     "h": 5,
     "w": 12,
     "x": 0,
     "y": 0
    },
    "deepnote_cell_type": "code",
    "deepnote_to_be_reexecuted": false,
    "execution_millis": 346,
    "execution_start": 1659727200264,
    "output_cleared": true,
    "source_hash": "6953e83d",
    "tags": []
   },
   "outputs": [],
   "source": []
  },
  {
   "cell_type": "code",
   "execution_count": null,
   "metadata": {
    "cell_id": "1b158220978d4257ad6f2f123bcec17d",
    "deepnote_app_coordinates": {
     "h": 5,
     "w": 12,
     "x": 0,
     "y": 0
    },
    "deepnote_cell_type": "code",
    "deepnote_to_be_reexecuted": false,
    "execution_millis": 432,
    "execution_start": 1659727200614,
    "output_cleared": true,
    "source_hash": "c88b8bc",
    "tags": []
   },
   "outputs": [],
   "source": []
  },
  {
   "cell_type": "code",
   "execution_count": null,
   "metadata": {
    "cell_id": "1423179b7ec54bbbad7f99a06a96b5be",
    "deepnote_app_coordinates": {
     "h": 5,
     "w": 12,
     "x": 0,
     "y": 0
    },
    "deepnote_cell_type": "code",
    "deepnote_to_be_reexecuted": false,
    "execution_millis": 1054,
    "execution_start": 1659727201125,
    "output_cleared": true,
    "source_hash": "39c0b06",
    "tags": []
   },
   "outputs": [],
   "source": []
  },
  {
   "cell_type": "code",
   "execution_count": null,
   "metadata": {
    "cell_id": "8057f6dc087949ce9db6c3aad27347f4",
    "deepnote_app_coordinates": {
     "h": 5,
     "w": 12,
     "x": 0,
     "y": 0
    },
    "deepnote_cell_type": "code",
    "deepnote_to_be_reexecuted": false,
    "execution_millis": 761,
    "execution_start": 1659727201433,
    "output_cleared": true,
    "source_hash": "be362e8f",
    "tags": []
   },
   "outputs": [],
   "source": []
  },
  {
   "cell_type": "code",
   "execution_count": null,
   "metadata": {
    "cell_id": "89d4353c361348249762fd0d9f90a0b4",
    "deepnote_app_coordinates": {
     "h": 5,
     "w": 12,
     "x": 0,
     "y": 0
    },
    "deepnote_cell_type": "code",
    "deepnote_to_be_reexecuted": false,
    "execution_millis": 372,
    "execution_start": 1659727201961,
    "output_cleared": true,
    "source_hash": "2b44ced0",
    "tags": []
   },
   "outputs": [],
   "source": []
  },
  {
   "cell_type": "code",
   "execution_count": null,
   "metadata": {
    "cell_id": "63b9365a7fdc4e0698304cd4ad350f74",
    "deepnote_app_coordinates": {
     "h": 5,
     "w": 12,
     "x": 0,
     "y": 0
    },
    "deepnote_cell_type": "code",
    "deepnote_to_be_reexecuted": false,
    "execution_millis": 373,
    "execution_start": 1659727202345,
    "output_cleared": true,
    "source_hash": "2455a646",
    "tags": []
   },
   "outputs": [],
   "source": []
  },
  {
   "cell_type": "code",
   "execution_count": null,
   "metadata": {
    "cell_id": "cf6398f0c4454deab5a3de619d1baf77",
    "deepnote_cell_type": "code",
    "deepnote_to_be_reexecuted": false,
    "execution_millis": 6,
    "execution_start": 1659727202724,
    "output_cleared": true,
    "source_hash": "8d0ae142",
    "tags": []
   },
   "outputs": [],
   "source": []
  },
  {
   "cell_type": "code",
   "execution_count": null,
   "metadata": {
    "cell_id": "69acab1b9d4a4ed9828f909a9f866f95",
    "deepnote_cell_type": "code",
    "deepnote_to_be_reexecuted": false,
    "execution_millis": 31,
    "execution_start": 1659727202759,
    "output_cleared": true,
    "source_hash": "c6bfe01f",
    "tags": []
   },
   "outputs": [],
   "source": []
  },
  {
   "cell_type": "markdown",
   "metadata": {
    "cell_id": "2a406c2b80774107a9a4c4ff751d592b",
    "deepnote_app_coordinates": {
     "h": 5,
     "w": 12,
     "x": 0,
     "y": 745
    },
    "deepnote_cell_type": "markdown",
    "tags": []
   },
   "source": [
    "## Imputación por algoritmo de vecinos más cercanos (KNN)"
   ]
  },
  {
   "cell_type": "code",
   "execution_count": null,
   "metadata": {
    "cell_id": "94d9785eea9f4844b39d74d8ef241143",
    "deepnote_cell_type": "code",
    "deepnote_to_be_reexecuted": false,
    "execution_millis": 58,
    "execution_start": 1659727202793,
    "output_cleared": true,
    "source_hash": "177e988e",
    "tags": []
   },
   "outputs": [],
   "source": []
  },
  {
   "cell_type": "code",
   "execution_count": null,
   "metadata": {
    "cell_id": "f2b0dad89dbf4b168e8cafa1b884c9bb",
    "deepnote_app_coordinates": {
     "h": 5,
     "w": 12,
     "x": 0,
     "y": 0
    },
    "deepnote_cell_type": "code",
    "deepnote_to_be_reexecuted": false,
    "execution_millis": 98,
    "execution_start": 1659727202853,
    "output_cleared": true,
    "source_hash": "f092304c",
    "tags": []
   },
   "outputs": [],
   "source": []
  },
  {
   "cell_type": "code",
   "execution_count": null,
   "metadata": {
    "cell_id": "ec0d8f13857149c1bffc6a2139d10db9",
    "deepnote_app_coordinates": {
     "h": 4,
     "w": 12,
     "x": 0,
     "y": 760
    },
    "deepnote_cell_type": "code",
    "deepnote_to_be_reexecuted": false,
    "execution_millis": 1679,
    "execution_start": 1659727202959,
    "output_cleared": true,
    "source_hash": "de54d66a",
    "tags": []
   },
   "outputs": [],
   "source": []
  },
  {
   "cell_type": "code",
   "execution_count": null,
   "metadata": {
    "cell_id": "08ac8c531b0c49a3b590cd2f923e899c",
    "deepnote_app_coordinates": {
     "h": 5,
     "w": 12,
     "x": 0,
     "y": 0
    },
    "deepnote_cell_type": "code",
    "deepnote_to_be_reexecuted": false,
    "execution_millis": 531,
    "execution_start": 1659727204607,
    "output_cleared": true,
    "source_hash": "9c9a25e2",
    "tags": []
   },
   "outputs": [],
   "source": []
  },
  {
   "cell_type": "markdown",
   "metadata": {
    "cell_id": "76df59deca234221b612269def099c23",
    "deepnote_app_coordinates": {
     "h": 5,
     "w": 12,
     "x": 0,
     "y": 0
    },
    "deepnote_cell_type": "markdown",
    "tags": []
   },
   "source": [
    "### Ordenamiento por cantidad de variables faltantes"
   ]
  },
  {
   "cell_type": "code",
   "execution_count": null,
   "metadata": {
    "cell_id": "cd93df042fc843a5994bc8ac868fdabe",
    "deepnote_app_coordinates": {
     "h": 5,
     "w": 12,
     "x": 0,
     "y": 0
    },
    "deepnote_cell_type": "code",
    "deepnote_to_be_reexecuted": false,
    "execution_millis": 1625,
    "execution_start": 1659727205105,
    "output_cleared": true,
    "source_hash": "1a066d31",
    "tags": []
   },
   "outputs": [],
   "source": []
  },
  {
   "cell_type": "code",
   "execution_count": null,
   "metadata": {
    "cell_id": "50850cf1fc6b426fb5d5f5779dff5786",
    "deepnote_cell_type": "code",
    "deepnote_to_be_reexecuted": false,
    "execution_millis": 1278,
    "execution_start": 1659727206732,
    "output_cleared": true,
    "source_hash": "9c9a25e2",
    "tags": []
   },
   "outputs": [],
   "source": []
  },
  {
   "cell_type": "markdown",
   "metadata": {
    "cell_id": "7a1db52e56884eb69f7862f7fec6e7ef",
    "deepnote_app_coordinates": {
     "h": 5,
     "w": 12,
     "x": 0,
     "y": 765
    },
    "deepnote_cell_type": "markdown",
    "tags": []
   },
   "source": [
    "## Imputación basada en modelos"
   ]
  },
  {
   "cell_type": "code",
   "execution_count": null,
   "metadata": {
    "cell_id": "e51b87a1974f4a27943d08332102fdb7",
    "deepnote_app_coordinates": {
     "h": 5,
     "w": 12,
     "x": 0,
     "y": 0
    },
    "deepnote_cell_type": "code",
    "deepnote_to_be_reexecuted": false,
    "execution_millis": 796,
    "execution_start": 1659727207214,
    "output_cleared": true,
    "source_hash": "e44b3376",
    "tags": []
   },
   "outputs": [],
   "source": []
  },
  {
   "cell_type": "code",
   "execution_count": null,
   "metadata": {
    "cell_id": "41c2438ba5074b2cb64dd69e6b24a053",
    "deepnote_app_coordinates": {
     "h": 4,
     "w": 12,
     "x": 0,
     "y": 771
    },
    "deepnote_cell_type": "code",
    "deepnote_to_be_reexecuted": false,
    "execution_millis": 7,
    "execution_start": 1659727207319,
    "output_cleared": true,
    "source_hash": "8f99e490",
    "tags": []
   },
   "outputs": [],
   "source": []
  },
  {
   "cell_type": "code",
   "execution_count": null,
   "metadata": {
    "cell_id": "d9f378efc13644de9fa5289de46aebbf",
    "deepnote_app_coordinates": {
     "h": 5,
     "w": 12,
     "x": 0,
     "y": 0
    },
    "deepnote_cell_type": "code",
    "deepnote_to_be_reexecuted": false,
    "execution_millis": 674,
    "execution_start": 1659727207336,
    "output_cleared": true,
    "source_hash": "1c5fb9c5",
    "tags": []
   },
   "outputs": [],
   "source": []
  },
  {
   "cell_type": "code",
   "execution_count": null,
   "metadata": {
    "cell_id": "14a1692ad084439bb95c442ad4913153",
    "deepnote_app_coordinates": {
     "h": 5,
     "w": 12,
     "x": 0,
     "y": 0
    },
    "deepnote_cell_type": "code",
    "deepnote_to_be_reexecuted": false,
    "execution_millis": 626,
    "execution_start": 1659727207386,
    "output_cleared": true,
    "source_hash": "84ca1e14",
    "tags": []
   },
   "outputs": [],
   "source": []
  },
  {
   "cell_type": "code",
   "execution_count": null,
   "metadata": {
    "cell_id": "315df4c2cd624e8284fe9a6b1b0addc3",
    "deepnote_app_coordinates": {
     "h": 5,
     "w": 12,
     "x": 0,
     "y": 0
    },
    "deepnote_cell_type": "code",
    "deepnote_to_be_reexecuted": false,
    "execution_millis": 589,
    "execution_start": 1659727207427,
    "output_cleared": true,
    "source_hash": "265c06ae",
    "tags": []
   },
   "outputs": [],
   "source": []
  },
  {
   "cell_type": "markdown",
   "metadata": {
    "cell_id": "af74f9a1c449409db179fe64f5ac5198",
    "deepnote_app_coordinates": {
     "h": 5,
     "w": 12,
     "x": 0,
     "y": 787
    },
    "deepnote_cell_type": "markdown",
    "tags": []
   },
   "source": [
    "## Imputaciones Múltiples por Ecuaciones Encadenadas (MICE)"
   ]
  },
  {
   "cell_type": "code",
   "execution_count": null,
   "metadata": {
    "cell_id": "60d0fcb4b673469b8af8116b56327327",
    "deepnote_app_coordinates": {
     "h": 4,
     "w": 12,
     "x": 0,
     "y": 793
    },
    "deepnote_cell_type": "code",
    "deepnote_to_be_reexecuted": false,
    "execution_millis": 1031,
    "execution_start": 1659727825129,
    "output_cleared": true,
    "source_hash": "1ebec24e",
    "tags": []
   },
   "outputs": [],
   "source": []
  },
  {
   "cell_type": "markdown",
   "metadata": {
    "cell_id": "784e8799460e4fa3b4256b6ea82143e0",
    "deepnote_app_coordinates": {
     "h": 5,
     "w": 12,
     "x": 0,
     "y": 0
    },
    "deepnote_cell_type": "markdown",
    "tags": []
   },
   "source": [
    "## Transformación inversa de los datos"
   ]
  },
  {
   "cell_type": "code",
   "execution_count": null,
   "metadata": {
    "cell_id": "673f9b3d675c4ab8aa59ee9d0cca0175",
    "deepnote_app_coordinates": {
     "h": 5,
     "w": 12,
     "x": 0,
     "y": 0
    },
    "deepnote_cell_type": "code",
    "deepnote_to_be_reexecuted": false,
    "execution_millis": 0,
    "execution_start": 1659728732946,
    "output_cleared": true,
    "source_hash": "745f5920",
    "tags": []
   },
   "outputs": [],
   "source": []
  },
  {
   "cell_type": "code",
   "execution_count": null,
   "metadata": {
    "cell_id": "232fe0211e4a46e9bd3af43105cd2f64",
    "deepnote_app_coordinates": {
     "h": 5,
     "w": 12,
     "x": 0,
     "y": 0
    },
    "deepnote_cell_type": "code",
    "deepnote_to_be_reexecuted": false,
    "execution_millis": 832,
    "execution_start": 1659728883725,
    "output_cleared": true,
    "source_hash": "f6a6743e",
    "tags": []
   },
   "outputs": [],
   "source": []
  },
  {
   "cell_type": "code",
   "execution_count": null,
   "metadata": {
    "cell_id": "b461ef90062745d8b13d4351ac4fccc7",
    "deepnote_app_coordinates": {
     "h": 5,
     "w": 12,
     "x": 0,
     "y": 0
    },
    "deepnote_cell_type": "code",
    "deepnote_to_be_reexecuted": false,
    "execution_millis": 21,
    "execution_start": 1659728933546,
    "output_cleared": true,
    "source_hash": "a24a687d",
    "tags": []
   },
   "outputs": [],
   "source": []
  },
  {
   "cell_type": "code",
   "execution_count": null,
   "metadata": {
    "cell_id": "434b59fb5fc84d7297a6b5a903077a74",
    "deepnote_app_coordinates": {
     "h": 5,
     "w": 12,
     "x": 0,
     "y": 0
    },
    "deepnote_cell_type": "code",
    "deepnote_to_be_reexecuted": false,
    "execution_millis": 41,
    "execution_start": 1659728959616,
    "output_cleared": true,
    "source_hash": "6c99a08d",
    "tags": []
   },
   "outputs": [],
   "source": []
  },
  {
   "cell_type": "code",
   "execution_count": null,
   "metadata": {
    "cell_id": "92922c7cceeb49e9b45e98f808a36457",
    "deepnote_cell_type": "code",
    "deepnote_to_be_reexecuted": false,
    "execution_millis": 24,
    "execution_start": 1659729006551,
    "output_cleared": true,
    "source_hash": "fbd5488c",
    "tags": []
   },
   "outputs": [],
   "source": []
  },
  {
   "cell_type": "markdown",
   "metadata": {
    "cell_id": "1544388b5d8f4d4bb69e9420b1f2ce1a",
    "deepnote_app_coordinates": {
     "h": 5,
     "w": 12,
     "x": 0,
     "y": 0
    },
    "deepnote_cell_type": "markdown",
    "tags": []
   },
   "source": [
    "## Continúa aprendiendo sobre el manejo de valores faltantes"
   ]
  },
  {
   "cell_type": "markdown",
   "metadata": {
    "cell_id": "dc406d5e30a6433bb8060a43fce8c7fe",
    "deepnote_app_coordinates": {
     "h": 5,
     "w": 12,
     "x": 0,
     "y": 0
    },
    "deepnote_cell_type": "markdown",
    "tags": []
   },
   "source": [
    "<div class=\"alert alert-success\">\n",
    "    <b style=\"font-size: 1.5em;\">✅ ¡Felicidades por terminar el curso!</b>\n",
    "    <p>\n",
    "    ¡Tu progreso es increíble! ¡Ahora eres capaz de llevar tus análisis al siguiente nivel! La barrera de los valores faltantes ya no es una limitante extrema para tu trabajo. Tú puedes explorar valores faltantes, eliminarlos e imputarlos siendo consciente de las ventajas y desventajas de cada método elegido. ¡Fantástico!\n",
    "    </p>\n",
    "    <p>\n",
    "    <b>¿Cómo puedo continuar mi aprendizaje en el análisis de valores faltantes?</b>\n",
    "    Poner en práctica lo aprendido es una excelente opción. Por lo tanto, te recomiendo repetir este curso utilizando la totalidad de los datos del <i>National Health and Nutrition Examination Survey</i>. Con este proyecto, serás capaz de explorar y analizar una cantidad de valores faltantes variadas. Podrás probar distintos algoritmos y estrategias. \n",
    "    </p>\n",
    "    <p>\n",
    "    De tal forma de que, una vez consigas tu conjunto de datos final, puedas proceder a la exploración definitiva del conjunto de datos para extraer ideas y respuestas a preguntas de tu interés. Incluso, y por qué no, podrías explorar la posibilidad de crear modelos predictivos para la diabetes. Las opciones son ilimitadas. Bienvenido al mundo de la Ciencia de Datos.\n",
    "    </p>\n",
    "    <p>\n",
    "    Con mucha alegría por tu logro,\n",
    "    Jesús Vélez Santiago\n",
    "    </p>\n",
    "</div>"
   ]
  },
  {
   "cell_type": "markdown",
   "metadata": {
    "cell_id": "a2b4c182086f45bd823bd27e3b7c2c16",
    "deepnote_app_coordinates": {
     "h": 5,
     "w": 12,
     "x": 0,
     "y": 649
    },
    "deepnote_cell_type": "markdown",
    "tags": []
   },
   "source": [
    "## Información de sesión"
   ]
  },
  {
   "cell_type": "code",
   "execution_count": null,
   "metadata": {
    "cell_id": "82223af4657d48deb629103997bbdedc",
    "deepnote_app_coordinates": {
     "h": 5,
     "w": 12,
     "x": 0,
     "y": 655
    },
    "deepnote_cell_type": "code",
    "deepnote_to_be_reexecuted": false,
    "execution_millis": 295,
    "execution_start": 1659643019430,
    "output_cleared": true,
    "source_hash": "e8587130",
    "tags": []
   },
   "outputs": [],
   "source": [
    "session_info.show()"
   ]
  },
  {
   "cell_type": "markdown",
   "metadata": {
    "created_in_deepnote_cell": true,
    "deepnote_cell_type": "markdown",
    "tags": []
   },
   "source": [
    "<a style='text-decoration:none;line-height:16px;display:flex;color:#5B5B62;padding:10px;justify-content:end;' href='https://deepnote.com?utm_source=created-in-deepnote-cell&projectId=31cf9965-6cde-4145-ba11-cc13988a23b7' target=\"_blank\">\n",
    "<img alt='Created in deepnote.com' style='display:inline;max-height:16px;margin:0px;margin-right:7.5px;' src='data:image/svg+xml;base64,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' > </img>\n",
    "Created in <span style='font-weight:600;margin-left:4px;'>Deepnote</span></a>"
   ]
  }
 ],
 "metadata": {
  "deepnote": {},
  "deepnote_app_layout": "article",
  "deepnote_execution_queue": [],
  "deepnote_notebook_id": "99dbb144b9b743899f752c71c2ff6cbc"
 },
 "nbformat": 4,
 "nbformat_minor": 0
}
