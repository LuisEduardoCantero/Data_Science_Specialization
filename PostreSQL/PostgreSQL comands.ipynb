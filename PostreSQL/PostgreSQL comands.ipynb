{
 "cells": [
  {
   "cell_type": "markdown",
   "id": "b827f070",
   "metadata": {},
   "source": [
    "**¿Qué es Postgresql?**\n",
    "\n",
    "Es un motor de base de datos. Tenemos que tener en cuenta 3 cosas importantes:\n",
    "\n",
    "Lenguaje\n",
    "Motor\n",
    "Servidor\n",
    "\n",
    "\n",
    "Postgres es el motor. Existe desde 1986. Usa Objeto Relacional.\n",
    "\n",
    "**A: Atomicity** -> Separar las funciones desarrolladas en la BD como pequeñas tareas y ejecutarlas como un todo. Si alguna tarea falla se hace un rollback(Se deshacen los cambios)\n",
    "\n",
    "**C: Consistency** -> Todo lo que se desarrolló en base al objeto relacional. Los datos tienen congruencia.\n",
    "\n",
    "**I: Isolation** -> Varias tareas ejecutándose al mismo tiempo dentro de la BD.\n",
    "\n",
    "**D: Durability** -> Puedes tener seguridad que la información no se perderá por un fallo catastrófico. PostgreSQL guarda la información en una Bitácora.\n",
    "\n",
    "\n",
    "\n",
    "**¿Por qué PostgreSQL?**\n",
    "\n",
    "**Tipos de datos**\n",
    "\n",
    "Integridad de datos\n",
    "\n",
    "Concurrencia, rendimiento\n",
    "\n",
    "Fiabilidad, recuperación antre desastres\n",
    "\n",
    "Seguridad\n",
    "\n",
    "Extensibilidad\n",
    "\n",
    "Internalización, búsqueda de texto\n",
    "\n",
    "Sitema de geolocalización"
   ]
  },
  {
   "cell_type": "markdown",
   "id": "5b8f5c63",
   "metadata": {},
   "source": [
    "**Comandos importantes:**\n",
    "\n",
    "Si quiero ver el listado de todos los comandos con \\ escribo en consola de postgres: ?\n",
    "\n",
    "Listar todas las bases de datos: \\l\n",
    "\n",
    "Ver las tablas de una base de datos: \\dt\n",
    "\n",
    "Cambiar a otra base de datos: \\c nombre_DB\n",
    "\n",
    "describir una tabla: \\d nombre_tabla\n",
    "\n",
    "Ver comandos SQL: \\h\n",
    "\n",
    "Ver como se ejecuta un comando SQL: \\h nombre_de_la_función\n",
    "\n",
    "Control + c: Cancela todo lo que hay en pantalla.\n",
    "\n",
    "Consultar versión de postgres instalada: SELECT version();\n",
    "\n",
    "Volver a ejecutar la función que acabaste de ejecutar en la consola: \\g\n",
    "\n",
    "Inicializar el contador de tiempo para que la consola diga cuanto se demoro en ejecutar ese comando : \\timing\n",
    "\n",
    "Control + L: Limpiar pantalla"
   ]
  },
  {
   "cell_type": "markdown",
   "id": "954c36d0",
   "metadata": {},
   "source": []
  },
  {
   "cell_type": "markdown",
   "id": "1d46a0a3",
   "metadata": {},
   "source": []
  },
  {
   "cell_type": "code",
   "execution_count": null,
   "id": "36809123",
   "metadata": {},
   "outputs": [],
   "source": []
  },
  {
   "cell_type": "code",
   "execution_count": null,
   "id": "dd57e31a",
   "metadata": {},
   "outputs": [],
   "source": []
  },
  {
   "cell_type": "code",
   "execution_count": null,
   "id": "1147fcdb",
   "metadata": {},
   "outputs": [],
   "source": []
  }
 ],
 "metadata": {
  "kernelspec": {
   "display_name": "Python 3 (ipykernel)",
   "language": "python",
   "name": "python3"
  },
  "language_info": {
   "codemirror_mode": {
    "name": "ipython",
    "version": 3
   },
   "file_extension": ".py",
   "mimetype": "text/x-python",
   "name": "python",
   "nbconvert_exporter": "python",
   "pygments_lexer": "ipython3",
   "version": "3.8.10"
  }
 },
 "nbformat": 4,
 "nbformat_minor": 5
}
