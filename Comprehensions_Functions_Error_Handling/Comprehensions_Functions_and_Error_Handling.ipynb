{
 "cells": [
  {
   "cell_type": "markdown",
   "id": "c6303691",
   "metadata": {},
   "source": [
    "# Sets (conjuntos)"
   ]
  },
  {
   "cell_type": "markdown",
   "id": "1e600f51",
   "metadata": {},
   "source": [
    "It havent repeated values.\n",
    "\n",
    "Similar to dictionaries..\n",
    "\n",
    "'set()' convert list, dictioanry or tuple to set "
   ]
  },
  {
   "cell_type": "markdown",
   "id": "9cf0bf11",
   "metadata": {},
   "source": [
    "## Modificar sets"
   ]
  },
  {
   "cell_type": "code",
   "execution_count": 1,
   "id": "f6f761b9",
   "metadata": {},
   "outputs": [],
   "source": [
    "set_countries = {'mex', 'col', 'bra'}"
   ]
  },
  {
   "cell_type": "code",
   "execution_count": 2,
   "id": "137c9bcb",
   "metadata": {},
   "outputs": [
    {
     "data": {
      "text/plain": [
       "False"
      ]
     },
     "execution_count": 2,
     "metadata": {},
     "output_type": "execute_result"
    }
   ],
   "source": [
    "'pe' in set_countries"
   ]
  },
  {
   "cell_type": "code",
   "execution_count": 4,
   "id": "1bd48ac0",
   "metadata": {},
   "outputs": [
    {
     "data": {
      "text/plain": [
       "{'bra', 'col', 'mex', 'pe'}"
      ]
     },
     "execution_count": 4,
     "metadata": {},
     "output_type": "execute_result"
    }
   ],
   "source": [
    "set_countries.add('pe')\n",
    "set_countries"
   ]
  },
  {
   "cell_type": "code",
   "execution_count": 5,
   "id": "3a532f93",
   "metadata": {},
   "outputs": [
    {
     "data": {
      "text/plain": [
       "{'bra', 'mex', 'pe'}"
      ]
     },
     "execution_count": 5,
     "metadata": {},
     "output_type": "execute_result"
    }
   ],
   "source": [
    "set_countries = {'mex', 'col', 'bra'}\n",
    "set_countries.remove('col')\n",
    "set_countries"
   ]
  },
  {
   "cell_type": "markdown",
   "id": "2897149b",
   "metadata": {},
   "source": [
    "### discard no genera error si la entrada no existe"
   ]
  },
  {
   "cell_type": "code",
   "execution_count": 7,
   "id": "fec10e10",
   "metadata": {},
   "outputs": [
    {
     "data": {
      "text/plain": [
       "{'bra', 'col', 'mex'}"
      ]
     },
     "execution_count": 7,
     "metadata": {},
     "output_type": "execute_result"
    }
   ],
   "source": [
    "set_countries = {'mex', 'col', 'bra'}\n",
    "set_countries.discard('per')\n",
    "set_countries"
   ]
  },
  {
   "cell_type": "code",
   "execution_count": 9,
   "id": "e070a579",
   "metadata": {},
   "outputs": [
    {
     "data": {
      "text/plain": [
       "set()"
      ]
     },
     "execution_count": 9,
     "metadata": {},
     "output_type": "execute_result"
    }
   ],
   "source": [
    "set_countries = {'mex', 'col', 'bra'}\n",
    "set_countries.clear()\n",
    "set_countries"
   ]
  },
  {
   "cell_type": "markdown",
   "id": "0ce4e81a",
   "metadata": {},
   "source": [
    "## Operaciones con conjuntos (sets)"
   ]
  },
  {
   "cell_type": "code",
   "execution_count": 10,
   "id": "4995c227",
   "metadata": {},
   "outputs": [],
   "source": [
    "set_a = {'mex', 'col', 'bra'}\n",
    "set_b = {'mex', 'per', 'usa'}\n",
    "set_c = {'hon', 'hon', 'hon'}"
   ]
  },
  {
   "cell_type": "code",
   "execution_count": 11,
   "id": "de780e20",
   "metadata": {},
   "outputs": [
    {
     "data": {
      "text/plain": [
       "{'bra', 'col', 'mex', 'per', 'usa'}"
      ]
     },
     "execution_count": 11,
     "metadata": {},
     "output_type": "execute_result"
    }
   ],
   "source": [
    "set_a.union(set_b) #union"
   ]
  },
  {
   "cell_type": "code",
   "execution_count": 13,
   "id": "ea34acfa",
   "metadata": {},
   "outputs": [
    {
     "data": {
      "text/plain": [
       "{'bra', 'col', 'mex', 'per', 'usa'}"
      ]
     },
     "execution_count": 13,
     "metadata": {},
     "output_type": "execute_result"
    }
   ],
   "source": [
    "set_a | set_b #tambien es union"
   ]
  },
  {
   "cell_type": "code",
   "execution_count": 17,
   "id": "405f2831",
   "metadata": {},
   "outputs": [
    {
     "data": {
      "text/plain": [
       "{'mex'}"
      ]
     },
     "execution_count": 17,
     "metadata": {},
     "output_type": "execute_result"
    }
   ],
   "source": [
    "set_interseccion = set_a.intersection(set_b) #interseccion\n",
    "set_interseccion"
   ]
  },
  {
   "cell_type": "code",
   "execution_count": 18,
   "id": "923ccc6b",
   "metadata": {},
   "outputs": [
    {
     "data": {
      "text/plain": [
       "{'mex'}"
      ]
     },
     "execution_count": 18,
     "metadata": {},
     "output_type": "execute_result"
    }
   ],
   "source": [
    "set_a & set_b #interseccion"
   ]
  },
  {
   "cell_type": "code",
   "execution_count": 19,
   "id": "b9bdc094",
   "metadata": {},
   "outputs": [
    {
     "data": {
      "text/plain": [
       "{'bra', 'col'}"
      ]
     },
     "execution_count": 19,
     "metadata": {},
     "output_type": "execute_result"
    }
   ],
   "source": [
    "set_diferencia= set_a.difference(set_b) # diferencia\n",
    "set_diferencia"
   ]
  },
  {
   "cell_type": "code",
   "execution_count": 20,
   "id": "6c5aa4c4",
   "metadata": {},
   "outputs": [
    {
     "data": {
      "text/plain": [
       "{'bra', 'col'}"
      ]
     },
     "execution_count": 20,
     "metadata": {},
     "output_type": "execute_result"
    }
   ],
   "source": [
    "set_a - set_b # diferencia"
   ]
  },
  {
   "cell_type": "code",
   "execution_count": 23,
   "id": "2faa8700",
   "metadata": {},
   "outputs": [
    {
     "data": {
      "text/plain": [
       "{'bra', 'col', 'per', 'usa'}"
      ]
     },
     "execution_count": 23,
     "metadata": {},
     "output_type": "execute_result"
    }
   ],
   "source": [
    "# diferencia simetrica\n",
    "set_diferencia_simetrica = set_a.symmetric_difference(set_b) \n",
    "set_diferencia_simetrica"
   ]
  },
  {
   "cell_type": "code",
   "execution_count": 22,
   "id": "7a1c535c",
   "metadata": {},
   "outputs": [
    {
     "data": {
      "text/plain": [
       "{'bra', 'col', 'per', 'usa'}"
      ]
     },
     "execution_count": 22,
     "metadata": {},
     "output_type": "execute_result"
    }
   ],
   "source": [
    "set_a ^ set_b # diferencia simetrica"
   ]
  },
  {
   "cell_type": "markdown",
   "id": "d99d6b9e",
   "metadata": {},
   "source": [
    "### tarea: crear un set con los elementos de los siguientes sets sin tener valores repetidos"
   ]
  },
  {
   "cell_type": "code",
   "execution_count": 24,
   "id": "c6efc2aa",
   "metadata": {},
   "outputs": [],
   "source": [
    "countries = {\"MX\", \"COL\", \"ARG\", \"USA\"}\n",
    "northAm = {\"USA\", \"CANADA\"}\n",
    "centralAm = {\"MX\", \"GT\", \"BZ\"}\n",
    "southAm = {\"COL\", \"BZ\", \"ARG\"}\n"
   ]
  },
  {
   "cell_type": "code",
   "execution_count": 27,
   "id": "f5128bb4",
   "metadata": {},
   "outputs": [
    {
     "data": {
      "text/plain": [
       "{'ARG', 'BZ', 'CANADA', 'COL', 'GT', 'MX', 'USA'}"
      ]
     },
     "execution_count": 27,
     "metadata": {},
     "output_type": "execute_result"
    }
   ],
   "source": [
    "new = countries | northAm | centralAm | southAm\n",
    "new"
   ]
  },
  {
   "cell_type": "markdown",
   "id": "afef664f",
   "metadata": {},
   "source": [
    "## List Comprehesion"
   ]
  },
  {
   "cell_type": "code",
   "execution_count": 30,
   "id": "f6810859",
   "metadata": {},
   "outputs": [
    {
     "data": {
      "text/plain": [
       "[1, 2, 3, 4, 5, 6, 7, 8, 9, 10]"
      ]
     },
     "execution_count": 30,
     "metadata": {},
     "output_type": "execute_result"
    }
   ],
   "source": [
    "# crear lista con 'list comprehension'\n",
    "\n",
    "numeros = [element for element in range(1, 11)] # en ves de range puede ser una tupla lista, etc\n",
    "numeros\n",
    "\n",
    "# con esto tenemos una sintaxis mas corta y mas rapido al usar python\n",
    "# sino tendriamos que iterar e ir agregando los elementos en la lista con append por ejemplo"
   ]
  },
  {
   "cell_type": "code",
   "execution_count": 31,
   "id": "12f68323",
   "metadata": {},
   "outputs": [
    {
     "data": {
      "text/plain": [
       "[2, 4, 6, 8, 10, 12, 14, 16, 18, 20]"
      ]
     },
     "execution_count": 31,
     "metadata": {},
     "output_type": "execute_result"
    }
   ],
   "source": [
    "numeros = [element*2 for element in range(1, 11)] # en ves de range puede ser una tupla lista, etc\n",
    "numeros"
   ]
  },
  {
   "cell_type": "code",
   "execution_count": 32,
   "id": "7eb708c0",
   "metadata": {},
   "outputs": [
    {
     "data": {
      "text/plain": [
       "[0.2,\n",
       " 0.4,\n",
       " 0.6000000000000001,\n",
       " 0.8,\n",
       " 1.0,\n",
       " 1.2000000000000002,\n",
       " 1.4000000000000001,\n",
       " 1.6,\n",
       " 1.8,\n",
       " 2.0]"
      ]
     },
     "execution_count": 32,
     "metadata": {},
     "output_type": "execute_result"
    }
   ],
   "source": [
    "numeros = [element*0.2 for element in range(1, 11)] # en ves de range puede ser una tupla lista, etc\n",
    "numeros"
   ]
  },
  {
   "cell_type": "code",
   "execution_count": 36,
   "id": "97299bd1",
   "metadata": {},
   "outputs": [
    {
     "data": {
      "text/plain": [
       "[2, 4, 6, 8, 10, 12, 14, 16, 18, 20, 22, 24]"
      ]
     },
     "execution_count": 36,
     "metadata": {},
     "output_type": "execute_result"
    }
   ],
   "source": [
    "# un ejemplo con un condicional\n",
    "\n",
    "numeros = [element for element in range(1, 25) if element%2==0] # en ves de range puede ser una tupla lista, etc\n",
    "numeros"
   ]
  },
  {
   "cell_type": "markdown",
   "id": "80155e99",
   "metadata": {},
   "source": [
    "## List comprehension para diccionarios"
   ]
  },
  {
   "cell_type": "code",
   "execution_count": 40,
   "id": "617f14e1",
   "metadata": {},
   "outputs": [
    {
     "data": {
      "text/plain": [
       "{1: 0.5, 2: 1.0, 3: 1.5, 4: 2.0, 5: 2.5, 6: 3.0, 7: 3.5, 8: 4.0, 9: 4.5}"
      ]
     },
     "execution_count": 40,
     "metadata": {},
     "output_type": "execute_result"
    }
   ],
   "source": [
    "dict = {}\n",
    "\n",
    "for i in range(1, 10):\n",
    "    dict[i] = i*0.5\n",
    "\n",
    "dict    "
   ]
  },
  {
   "cell_type": "code",
   "execution_count": 41,
   "id": "9b718239",
   "metadata": {},
   "outputs": [
    {
     "data": {
      "text/plain": [
       "{1: 1.0,\n",
       " 2: 2.0,\n",
       " 3: 1.5,\n",
       " 4: 2.0,\n",
       " 5: 2.5,\n",
       " 6: 3.0,\n",
       " 7: 3.5,\n",
       " 8: 4.0,\n",
       " 9: 4.5,\n",
       " 0.5: 0.5,\n",
       " 1.5: 1.5}"
      ]
     },
     "execution_count": 41,
     "metadata": {},
     "output_type": "execute_result"
    }
   ],
   "source": [
    "for i in range(1, 5):\n",
    "    dict[i*0.5] = i*0.5\n",
    "\n",
    "dict    "
   ]
  },
  {
   "cell_type": "code",
   "execution_count": 43,
   "id": "3d886838",
   "metadata": {},
   "outputs": [
    {
     "data": {
      "text/plain": [
       "{2: 1.0, 4: 2.0, 6: 3.0, 8: 4.0, 10: 5.0, 12: 6.0, 14: 7.0}"
      ]
     },
     "execution_count": 43,
     "metadata": {},
     "output_type": "execute_result"
    }
   ],
   "source": [
    "# usando dictionary comprehension\n",
    "dict = {element: element*0.5 for element in range(1, 15) if element%2==0} # en ves de range puede ser una tupla lista, etc\n",
    "dict"
   ]
  },
  {
   "cell_type": "code",
   "execution_count": 45,
   "id": "1df35328",
   "metadata": {},
   "outputs": [
    {
     "data": {
      "text/plain": [
       "{'mex': 3, 'col': 2, 'bra': 1, 'pe': 3}"
      ]
     },
     "execution_count": 45,
     "metadata": {},
     "output_type": "execute_result"
    }
   ],
   "source": [
    "import random as rd\n",
    "paises = ['mex', 'col', 'bra', 'pe']\n",
    "\n",
    "dict = {pais: rd.randint(1, 5) for pais in paises} # en ves de range puede ser una tupla lista, etc\n",
    "dict"
   ]
  },
  {
   "cell_type": "code",
   "execution_count": 46,
   "id": "1f7502e5",
   "metadata": {},
   "outputs": [
    {
     "data": {
      "text/plain": [
       "[('mex', 15.2), ('col', 13.2), ('bra', 22.3), ('pe', 4.2)]"
      ]
     },
     "execution_count": 46,
     "metadata": {},
     "output_type": "execute_result"
    }
   ],
   "source": [
    "# creando diccionario desde listas con list comprehension\n",
    "\n",
    "paises = ['mex', 'col', 'bra', 'pe']\n",
    "dinero = [15.2, 13.2, 22.3, 4.2]\n",
    "\n",
    "list(zip(paises, dinero)) # se usa zip para unir en pares las listas, ahora si las queremos en diccionario:"
   ]
  },
  {
   "cell_type": "code",
   "execution_count": 48,
   "id": "702acc84",
   "metadata": {},
   "outputs": [
    {
     "data": {
      "text/plain": [
       "{'mex': 15.2, 'col': 13.2, 'bra': 22.3, 'pe': 4.2}"
      ]
     },
     "execution_count": 48,
     "metadata": {},
     "output_type": "execute_result"
    }
   ],
   "source": [
    "diccionario = {pais: dinero for (pais, dinero) in zip(paises, dinero)}\n",
    "diccionario"
   ]
  },
  {
   "cell_type": "code",
   "execution_count": 49,
   "id": "42750b7f",
   "metadata": {},
   "outputs": [
    {
     "data": {
      "text/plain": [
       "{'col': 13.2, 'pe': 4.2}"
      ]
     },
     "execution_count": 49,
     "metadata": {},
     "output_type": "execute_result"
    }
   ],
   "source": [
    "## Ahora crear diccionario con condicionales\n",
    "\n",
    "diccionario = {pais: dinero for (pais, dinero) in zip(paises, dinero) if dinero < 15.0}\n",
    "diccionario"
   ]
  },
  {
   "cell_type": "code",
   "execution_count": 51,
   "id": "1765c2bc",
   "metadata": {},
   "outputs": [
    {
     "data": {
      "text/plain": [
       "{'e': 'E', 'o': 'O', 'a': 'A', 'i': 'I'}"
      ]
     },
     "execution_count": 51,
     "metadata": {},
     "output_type": "execute_result"
    }
   ],
   "source": [
    "texto = 'Hello I am a phycisist'\n",
    "unique = {caracter: caracter.upper() for caracter in texto if caracter in 'aeiou'}\n",
    "unique\n",
    "\n",
    "# desgraciadamente como hay vocales que se repiten python hace un reemplazo de las repeticiones, veamos como evitar esto"
   ]
  },
  {
   "cell_type": "markdown",
   "id": "4cafb5ac",
   "metadata": {},
   "source": [
    "## Functions"
   ]
  },
  {
   "cell_type": "markdown",
   "id": "937633ae",
   "metadata": {},
   "source": [
    "### Lambda"
   ]
  },
  {
   "cell_type": "code",
   "execution_count": 1,
   "id": "f8269a1f",
   "metadata": {},
   "outputs": [
    {
     "data": {
      "text/plain": [
       "15"
      ]
     },
     "execution_count": 1,
     "metadata": {},
     "output_type": "execute_result"
    }
   ],
   "source": [
    "\n",
    "multiplication = lambda x : x * 3\n",
    "\n",
    "multiplication(5)"
   ]
  },
  {
   "cell_type": "code",
   "execution_count": 5,
   "id": "e7f25290",
   "metadata": {},
   "outputs": [
    {
     "data": {
      "text/plain": [
       "'EL nombre completo es: Luis EDUARDO'"
      ]
     },
     "execution_count": 5,
     "metadata": {},
     "output_type": "execute_result"
    }
   ],
   "source": [
    "decir_nombreCompleto = lambda name, last_name: f'EL nombre completo es: {name.title()} {last_name.upper()}'\n",
    "\n",
    "decir_nombreCompleto('luis', 'eduardo')"
   ]
  },
  {
   "cell_type": "markdown",
   "id": "8ac8bec9",
   "metadata": {},
   "source": [
    "### HOF (Higher Order Function) funcion dentro de otra funcion"
   ]
  },
  {
   "cell_type": "code",
   "execution_count": 9,
   "id": "3ab20761",
   "metadata": {},
   "outputs": [
    {
     "data": {
      "text/plain": [
       "3"
      ]
     },
     "execution_count": 9,
     "metadata": {},
     "output_type": "execute_result"
    }
   ],
   "source": [
    "def suma(x):\n",
    "    return x+1\n",
    "\n",
    "def high_order_function(x, func):\n",
    "    return x + func(x)\n",
    "\n",
    "high_order_function(1, suma)"
   ]
  },
  {
   "cell_type": "code",
   "execution_count": 10,
   "id": "881fd9f1",
   "metadata": {},
   "outputs": [
    {
     "data": {
      "text/plain": [
       "5"
      ]
     },
     "execution_count": 10,
     "metadata": {},
     "output_type": "execute_result"
    }
   ],
   "source": [
    "high_order_function(2, suma)"
   ]
  },
  {
   "cell_type": "code",
   "execution_count": 13,
   "id": "6fd0af27",
   "metadata": {},
   "outputs": [
    {
     "data": {
      "text/plain": [
       "5"
      ]
     },
     "execution_count": 13,
     "metadata": {},
     "output_type": "execute_result"
    }
   ],
   "source": [
    "suma_2 = lambda x : x + 1\n",
    "\n",
    "high_order_function_2 = lambda x, funcion: x + funcion(x)\n",
    "\n",
    "high_order_function_2(2, suma_2)"
   ]
  },
  {
   "cell_type": "markdown",
   "id": "bf48a103",
   "metadata": {},
   "source": [
    "### MAP"
   ]
  },
  {
   "cell_type": "markdown",
   "id": "c9b6287a",
   "metadata": {},
   "source": [
    "Esta funcion es para transformar una lista con el mismo numero de elementos transformados"
   ]
  },
  {
   "cell_type": "code",
   "execution_count": 15,
   "id": "1f16d8a8",
   "metadata": {},
   "outputs": [],
   "source": [
    "numeros = [1, 2, 3, 4, 5]\n",
    "numeros_2 = []"
   ]
  },
  {
   "cell_type": "code",
   "execution_count": 18,
   "id": "b1761a08",
   "metadata": {},
   "outputs": [
    {
     "data": {
      "text/plain": [
       "[1, 4, 9, 16, 25]"
      ]
     },
     "execution_count": 18,
     "metadata": {},
     "output_type": "execute_result"
    }
   ],
   "source": [
    "# para no usar un for usamos map y lambda:\n",
    "\n",
    "numeros_3 = map(lambda x: x**2, numeros)\n",
    "\n",
    "list(numeros_3) # se crea un iterable por eso se tiene con vertir en una list"
   ]
  },
  {
   "cell_type": "code",
   "execution_count": 21,
   "id": "c526a623",
   "metadata": {},
   "outputs": [
    {
     "data": {
      "text/plain": [
       "[6, 9, 12, 14, 18]"
      ]
     },
     "execution_count": 21,
     "metadata": {},
     "output_type": "execute_result"
    }
   ],
   "source": [
    "lista_1 = [1, 2, 3, 4, 5]\n",
    "lista_2 = [4, 5, 6, 6, 8]\n",
    "\n",
    "numeros_4 = map(lambda x, y: x*2 + y, lista_1, lista_2)\n",
    "list(numeros_4)"
   ]
  },
  {
   "cell_type": "code",
   "execution_count": 23,
   "id": "dcf50763",
   "metadata": {},
   "outputs": [
    {
     "data": {
      "text/plain": [
       "[6, 9]"
      ]
     },
     "execution_count": 23,
     "metadata": {},
     "output_type": "execute_result"
    }
   ],
   "source": [
    "# si las listas son de diferente tamaño solo itera donde puede\n",
    "lista_1 = [1, 2, 3, 4, 5]\n",
    "lista_2 = [4, 5]\n",
    "\n",
    "numeros_4 = map(lambda x, y: x*2 + y, lista_1, lista_2)\n",
    "list(numeros_4)"
   ]
  },
  {
   "cell_type": "markdown",
   "id": "c6c5950a",
   "metadata": {},
   "source": [
    "### MAP con diccionarios"
   ]
  },
  {
   "cell_type": "code",
   "execution_count": 27,
   "id": "a02b410f",
   "metadata": {},
   "outputs": [],
   "source": [
    "items = [\n",
    "    {\n",
    "        'PRODUCT': 'CAMISA',\n",
    "        'PRICE': 100\n",
    "    },\n",
    "    {\n",
    "        'PRODUCT': 'CALCETA',\n",
    "        'PRICE': 200\n",
    "    },    \n",
    "    {\n",
    "        'PRODUCT': 'PANTA',\n",
    "        'PRICE': 300\n",
    "    },    \n",
    "]"
   ]
  },
  {
   "cell_type": "code",
   "execution_count": 29,
   "id": "7cdc3947",
   "metadata": {},
   "outputs": [
    {
     "data": {
      "text/plain": [
       "[100, 200, 300]"
      ]
     },
     "execution_count": 29,
     "metadata": {},
     "output_type": "execute_result"
    }
   ],
   "source": [
    "prices = list(map(lambda item: item['PRICE'], items))\n",
    "prices"
   ]
  },
  {
   "cell_type": "code",
   "execution_count": 31,
   "id": "53901a59",
   "metadata": {},
   "outputs": [
    {
     "data": {
      "text/plain": [
       "[{'PRODUCT': 'CAMISA', 'PRICE': 100, 'taxes': 16.0},\n",
       " {'PRODUCT': 'CALCETA', 'PRICE': 200, 'taxes': 32.0},\n",
       " {'PRODUCT': 'PANTA', 'PRICE': 300, 'taxes': 48.0}]"
      ]
     },
     "execution_count": 31,
     "metadata": {},
     "output_type": "execute_result"
    }
   ],
   "source": [
    "# ahora veamos como agregar un atributo nuevo\n",
    "\n",
    "def add_taxes(item):\n",
    "    item['taxes'] = item['PRICE'] * 0.16\n",
    "    return item\n",
    "\n",
    "nuevos_items = list(map(add_taxes, items))\n",
    "nuevos_items\n",
    "\n",
    "#notese que se modifico el array original lo cual a veces no se desea"
   ]
  },
  {
   "cell_type": "code",
   "execution_count": 33,
   "id": "67d01cba",
   "metadata": {},
   "outputs": [
    {
     "data": {
      "text/plain": [
       "[{'PRODUCT': 'CAMISA', 'PRICE': 100, 'taxes': 16.0},\n",
       " {'PRODUCT': 'CALCETA', 'PRICE': 200, 'taxes': 32.0},\n",
       " {'PRODUCT': 'PANTA', 'PRICE': 300, 'taxes': 48.0}]"
      ]
     },
     "execution_count": 33,
     "metadata": {},
     "output_type": "execute_result"
    }
   ],
   "source": [
    "# para no modificar el diccionario original, creamos una copia dentro de la funcion:\n",
    "\n",
    "def add_taxes_with_copy(item):\n",
    "    new_item = item.copy()\n",
    "    new_item['taxes'] = item['PRICE'] * 0.16\n",
    "    return item\n",
    "\n",
    "nuevos_items = list(map(add_taxes, items))\n",
    "nuevos_items"
   ]
  },
  {
   "cell_type": "code",
   "execution_count": null,
   "id": "f56570ba",
   "metadata": {},
   "outputs": [],
   "source": [
    "# importante recordar la sintaxis principal:\n",
    "\n",
    "funcion_evaluada = list(map(lambda item: item['PRICE'], items))"
   ]
  },
  {
   "cell_type": "markdown",
   "id": "3e1e9b3c",
   "metadata": {},
   "source": [
    "### Filter"
   ]
  },
  {
   "cell_type": "code",
   "execution_count": 41,
   "id": "40a51632",
   "metadata": {},
   "outputs": [
    {
     "data": {
      "text/plain": [
       "[1, 2, 3]"
      ]
     },
     "execution_count": 41,
     "metadata": {},
     "output_type": "execute_result"
    }
   ],
   "source": [
    "lista_1 = [1, 2, 3, 4, 5]\n",
    "lista_2 = [4, 5, 6, 6, 8]\n",
    "\n",
    "numeros_4 = list(filter(lambda x: x*2 < 8, lista_1))\n",
    "numeros_4"
   ]
  },
  {
   "cell_type": "code",
   "execution_count": 49,
   "id": "9994c013",
   "metadata": {},
   "outputs": [],
   "source": [
    "# filter en diccionarios\n",
    "matches = [\n",
    "  {\n",
    "    'home_team': 'Bolivia',\n",
    "    'away_team': 'Uruguay',\n",
    "    'home_team_score': 3,\n",
    "    'away_team_score': 1,\n",
    "    'home_team_result': 'Win'\n",
    "  },\n",
    "  {\n",
    "    'home_team': 'Brazil',\n",
    "    'away_team': 'Mexico',\n",
    "    'home_team_score': 1,\n",
    "    'away_team_score': 1,\n",
    "    'home_team_result': 'Draw'\n",
    "  },\n",
    "  {\n",
    "    'home_team': 'Ecuador',\n",
    "    'away_team': 'Venezuela',\n",
    "    'home_team_score': 5,\n",
    "    'away_team_score': 0,\n",
    "    'home_team_result': 'Win'\n",
    "  },\n",
    "]"
   ]
  },
  {
   "cell_type": "code",
   "execution_count": 47,
   "id": "cd4a7a70",
   "metadata": {},
   "outputs": [
    {
     "name": "stdout",
     "output_type": "stream",
     "text": [
      "[{'home_team': 'Bolivia', 'away_team': 'Uruguay', 'home_team_score': 3, 'away_team_score': 1, 'home_team_result': 'Win'}, {'home_team': 'Ecuador', 'away_team': 'Venezuela', 'home_team_score': 5, 'away_team_score': 0, 'home_team_result': 'Win'}]\n"
     ]
    }
   ],
   "source": [
    "new_list = list(filter(lambda item: item['home_team_result'] == 'Win', matches))\n",
    "\n",
    "print(new_list)\n"
   ]
  },
  {
   "cell_type": "code",
   "execution_count": 48,
   "id": "68edc185",
   "metadata": {},
   "outputs": [
    {
     "name": "stdout",
     "output_type": "stream",
     "text": [
      "2\n"
     ]
    }
   ],
   "source": [
    "print(len(new_list))"
   ]
  },
  {
   "cell_type": "markdown",
   "id": "1de11e87",
   "metadata": {},
   "source": [
    "### Reduce"
   ]
  },
  {
   "cell_type": "code",
   "execution_count": 51,
   "id": "95378bfe",
   "metadata": {},
   "outputs": [
    {
     "data": {
      "text/plain": [
       "15"
      ]
     },
     "execution_count": 51,
     "metadata": {},
     "output_type": "execute_result"
    }
   ],
   "source": [
    "import functools as ft\n",
    "lista_1 = [1, 2, 3, 4, 5]\n",
    "lista_2 = [4, 5, 6, 6, 8]\n",
    "\n",
    "result = ft.reduce(lambda counter, item: counter + item, lista_1)\n",
    "result"
   ]
  },
  {
   "cell_type": "code",
   "execution_count": 54,
   "id": "e4d197be",
   "metadata": {},
   "outputs": [
    {
     "name": "stdout",
     "output_type": "stream",
     "text": [
      "counter =>  1\n",
      "item =>  2\n",
      "counter =>  3\n",
      "item =>  3\n",
      "counter =>  6\n",
      "item =>  4\n"
     ]
    }
   ],
   "source": [
    "numbers = [1, 2, 3, 4]\n",
    "\n",
    "def accum(counter, item):\n",
    "    print('counter => ',counter)\n",
    "    print('item => ',item)\n",
    "    return counter + item\n",
    "\n",
    "result = ft.reduce(accum, numbers)"
   ]
  },
  {
   "cell_type": "markdown",
   "id": "c8cb3d14",
   "metadata": {},
   "source": [
    "### Modulos"
   ]
  },
  {
   "cell_type": "code",
   "execution_count": 55,
   "id": "119cd00a",
   "metadata": {},
   "outputs": [
    {
     "name": "stdout",
     "output_type": "stream",
     "text": [
      "['/home/luiscantero/Hola/Python/Data_Scientist_with_Python/Comprehensions_Functions_Error_Handling', '/usr/lib/python38.zip', '/usr/lib/python3.8', '/usr/lib/python3.8/lib-dynload', '', '/home/luiscantero/.local/lib/python3.8/site-packages', '/usr/local/lib/python3.8/dist-packages', '/usr/lib/python3/dist-packages']\n"
     ]
    }
   ],
   "source": [
    "import sys \n",
    "print(sys.path)"
   ]
  },
  {
   "cell_type": "code",
   "execution_count": 57,
   "id": "eb88444b",
   "metadata": {},
   "outputs": [
    {
     "data": {
      "text/plain": [
       "['3245356', '34', '3']"
      ]
     },
     "execution_count": 57,
     "metadata": {},
     "output_type": "execute_result"
    }
   ],
   "source": [
    "import re #funciones regulares\n",
    "\n",
    "text = 'Mi numero de telefono es 3245356, el codigo del pais de 34, mi numero de la suerte es e 3'\n",
    "\n",
    "result = re.findall('[0-9]+', text)\n",
    "result"
   ]
  },
  {
   "cell_type": "code",
   "execution_count": 59,
   "id": "79a5edbf",
   "metadata": {},
   "outputs": [
    {
     "data": {
      "text/plain": [
       "1672249941.0522635"
      ]
     },
     "execution_count": 59,
     "metadata": {},
     "output_type": "execute_result"
    }
   ],
   "source": [
    "import time\n",
    "timesmap = time.time()\n",
    "timesmap"
   ]
  },
  {
   "cell_type": "code",
   "execution_count": 60,
   "id": "d9294bfc",
   "metadata": {},
   "outputs": [
    {
     "data": {
      "text/plain": [
       "time.struct_time(tm_year=2022, tm_mon=12, tm_mday=28, tm_hour=11, tm_min=52, tm_sec=27, tm_wday=2, tm_yday=362, tm_isdst=0)"
      ]
     },
     "execution_count": 60,
     "metadata": {},
     "output_type": "execute_result"
    }
   ],
   "source": [
    "timesmap = time.localtime()\n",
    "timesmap"
   ]
  },
  {
   "cell_type": "code",
   "execution_count": 62,
   "id": "a21c970b",
   "metadata": {},
   "outputs": [
    {
     "data": {
      "text/plain": [
       "'Wed Dec 28 11:52:55 2022'"
      ]
     },
     "execution_count": 62,
     "metadata": {},
     "output_type": "execute_result"
    }
   ],
   "source": [
    "timesmap = time.asctime()\n",
    "timesmap # Hora de la maquina local"
   ]
  },
  {
   "cell_type": "code",
   "execution_count": 64,
   "id": "be6b9ea1",
   "metadata": {},
   "outputs": [],
   "source": [
    "import collections\n",
    "lista_1 = [1, 2, 3, 4, 5,3, 6, 3, 5, 7, 8, 9, 3, 4, 6, 3, 1]"
   ]
  },
  {
   "cell_type": "code",
   "execution_count": 65,
   "id": "08d888b7",
   "metadata": {},
   "outputs": [
    {
     "data": {
      "text/plain": [
       "Counter({1: 2, 2: 1, 3: 5, 4: 2, 5: 2, 6: 2, 7: 1, 8: 1, 9: 1})"
      ]
     },
     "execution_count": 65,
     "metadata": {},
     "output_type": "execute_result"
    }
   ],
   "source": [
    "counter = collections.Counter(lista_1)\n",
    "counter"
   ]
  },
  {
   "cell_type": "markdown",
   "id": "bdbd2993",
   "metadata": {},
   "source": [
    "## Modulos"
   ]
  },
  {
   "cell_type": "markdown",
   "id": "8fabd7eb",
   "metadata": {},
   "source": [
    "### __name__ y __main__"
   ]
  },
  {
   "cell_type": "code",
   "execution_count": null,
   "id": "ead17540",
   "metadata": {},
   "outputs": [],
   "source": [
    "# Este if dice que si es ejecutado desde la terminal, entre al run y si es ejecutado desde otro archivo, no se ejecuta.\n",
    "if __name__ == \"__main__\":\n",
    "    run()"
   ]
  },
  {
   "cell_type": "markdown",
   "id": "bcba6d77",
   "metadata": {},
   "source": [
    "## Paquetes"
   ]
  },
  {
   "cell_type": "markdown",
   "id": "406b9a3c",
   "metadata": {},
   "source": [
    "Un paquete es una carpeta donde vienen varios modulos. Para verisones de Pytho anteriores a la 3.3 se agrega un archivo llamado '__ init__.py' dentro de esa carpeta para poder usar paquetes"
   ]
  },
  {
   "cell_type": "code",
   "execution_count": 67,
   "id": "db8ac78a",
   "metadata": {},
   "outputs": [
    {
     "name": "stdout",
     "output_type": "stream",
     "text": [
      "240\n"
     ]
    }
   ],
   "source": [
    "import my_functions\n",
    "\n",
    "def get_total(orders):\n",
    "  # Tu código aquí 👇\n",
    "  totals = my_functions.get_totals(orders)\n",
    "  suma = my_functions.calc_total(totals)\n",
    "  return suma\n",
    "\n",
    "orders = [\n",
    "  {\n",
    "    \"customer_name\": \"Nicolas\",\n",
    "    \"total\": 100,\n",
    "    \"delivered\": True,\n",
    "  },\n",
    "  {\n",
    "    \"customer_name\": \"Zulema\",\n",
    "    \"total\": 120,\n",
    "    \"delivered\": False,\n",
    "  },\n",
    "  {\n",
    "    \"customer_name\": \"Santiago\",\n",
    "    \"total\": 20,\n",
    "    \"delivered\": False,\n",
    "  }\n",
    "]\n",
    "\n",
    "total = get_total(orders)\n",
    "print(total)"
   ]
  },
  {
   "cell_type": "markdown",
   "id": "b4b608dd",
   "metadata": {},
   "source": [
    "## Error Handling"
   ]
  },
  {
   "cell_type": "code",
   "execution_count": 70,
   "id": "d001ad18",
   "metadata": {},
   "outputs": [
    {
     "ename": "Exception",
     "evalue": "Edad insuficiente!!!",
     "output_type": "error",
     "traceback": [
      "\u001b[0;31m---------------------------------------------------------------------------\u001b[0m",
      "\u001b[0;31mException\u001b[0m                                 Traceback (most recent call last)",
      "Input \u001b[0;32mIn [70]\u001b[0m, in \u001b[0;36m<cell line: 4>\u001b[0;34m()\u001b[0m\n\u001b[1;32m      3\u001b[0m edad \u001b[38;5;241m=\u001b[39m \u001b[38;5;241m10\u001b[39m\n\u001b[1;32m      4\u001b[0m \u001b[38;5;28;01mif\u001b[39;00m edad \u001b[38;5;241m<\u001b[39m \u001b[38;5;241m18\u001b[39m:\n\u001b[0;32m----> 5\u001b[0m     \u001b[38;5;28;01mraise\u001b[39;00m \u001b[38;5;167;01mException\u001b[39;00m(\u001b[38;5;124m'\u001b[39m\u001b[38;5;124mEdad insuficiente!!!\u001b[39m\u001b[38;5;124m'\u001b[39m)\n",
      "\u001b[0;31mException\u001b[0m: Edad insuficiente!!!"
     ]
    }
   ],
   "source": [
    "# Para lanzar ua alerta de error:\n",
    "\n",
    "edad = 10\n",
    "if edad < 18:\n",
    "    raise Exception('Edad insuficiente!!!')"
   ]
  },
  {
   "cell_type": "markdown",
   "id": "c0c15e64",
   "metadata": {},
   "source": [
    "### Manejo de excepciones"
   ]
  },
  {
   "cell_type": "code",
   "execution_count": 72,
   "id": "fbc69445",
   "metadata": {},
   "outputs": [
    {
     "name": "stdout",
     "output_type": "stream",
     "text": [
      "hubo un error\n"
     ]
    }
   ],
   "source": [
    "try:\n",
    "    print(0/0)\n",
    "except ZeroDivisionError as error:\n",
    "        print('hubo un error')\n",
    "    "
   ]
  },
  {
   "cell_type": "code",
   "execution_count": 76,
   "id": "5bdef785",
   "metadata": {},
   "outputs": [
    {
     "ename": "AssertionError",
     "evalue": "Uno no es igual a 1",
     "output_type": "error",
     "traceback": [
      "\u001b[0;31m---------------------------------------------------------------------------\u001b[0m",
      "\u001b[0;31mAssertionError\u001b[0m                            Traceback (most recent call last)",
      "Input \u001b[0;32mIn [76]\u001b[0m, in \u001b[0;36m<cell line: 1>\u001b[0;34m()\u001b[0m\n\u001b[0;32m----> 1\u001b[0m \u001b[38;5;28;01massert\u001b[39;00m \u001b[38;5;241m1\u001b[39m \u001b[38;5;241m!=\u001b[39m \u001b[38;5;241m1\u001b[39m, \u001b[38;5;124m'\u001b[39m\u001b[38;5;124mUno no es igual a 1\u001b[39m\u001b[38;5;124m'\u001b[39m\n",
      "\u001b[0;31mAssertionError\u001b[0m: Uno no es igual a 1"
     ]
    }
   ],
   "source": [
    "assert 1 != 1, 'Uno no es igual a 1'"
   ]
  },
  {
   "cell_type": "code",
   "execution_count": 73,
   "id": "061a01e9",
   "metadata": {},
   "outputs": [
    {
     "ename": "AssertionError",
     "evalue": "Uno no es igual a 1",
     "output_type": "error",
     "traceback": [
      "\u001b[0;31m---------------------------------------------------------------------------\u001b[0m",
      "\u001b[0;31mAssertionError\u001b[0m                            Traceback (most recent call last)",
      "Input \u001b[0;32mIn [73]\u001b[0m, in \u001b[0;36m<cell line: 1>\u001b[0;34m()\u001b[0m\n\u001b[1;32m      1\u001b[0m \u001b[38;5;28;01mtry\u001b[39;00m:\n\u001b[0;32m----> 2\u001b[0m     \u001b[38;5;28;01massert\u001b[39;00m \u001b[38;5;241m1\u001b[39m \u001b[38;5;241m!=\u001b[39m \u001b[38;5;241m1\u001b[39m, \u001b[38;5;124m'\u001b[39m\u001b[38;5;124mUno no es igual a 1\u001b[39m\u001b[38;5;124m'\u001b[39m\n\u001b[1;32m      3\u001b[0m \u001b[38;5;28;01mexcept\u001b[39;00m \u001b[38;5;167;01mZeroDivisionError\u001b[39;00m \u001b[38;5;28;01mas\u001b[39;00m error:\n\u001b[1;32m      4\u001b[0m         \u001b[38;5;28mprint\u001b[39m(\u001b[38;5;124m'\u001b[39m\u001b[38;5;124mhubo un error\u001b[39m\u001b[38;5;124m'\u001b[39m)\n",
      "\u001b[0;31mAssertionError\u001b[0m: Uno no es igual a 1"
     ]
    }
   ],
   "source": [
    "try:\n",
    "    assert 1 != 1, 'Uno no es igual a 1'\n",
    "except ZeroDivisionError as error:\n",
    "        print('hubo un error')"
   ]
  },
  {
   "cell_type": "code",
   "execution_count": 77,
   "id": "767b9505",
   "metadata": {},
   "outputs": [
    {
     "name": "stdout",
     "output_type": "stream",
     "text": [
      "hubo un error de Assertion\n"
     ]
    }
   ],
   "source": [
    "# podemos capturar diferentes errores\n",
    "\n",
    "try:\n",
    "    assert 1 != 1, 'Uno no es igual a 1'\n",
    "except ZeroDivisionError as error:\n",
    "    print('hubo un error de division por cero')\n",
    "except AssertionError as error:\n",
    "    print('hubo un error de Assertion')\n",
    "except Exception as error:\n",
    "    print('hubo un error de Exception')    "
   ]
  },
  {
   "cell_type": "code",
   "execution_count": 78,
   "id": "99de357b",
   "metadata": {},
   "outputs": [
    {
     "name": "stdout",
     "output_type": "stream",
     "text": [
      "hubo un error de division por cero\n"
     ]
    }
   ],
   "source": [
    "# podemos capturar diferentes errores\n",
    "\n",
    "try:\n",
    "    0/0\n",
    "except ZeroDivisionError as error:\n",
    "    print('hubo un error de division por cero')\n",
    "except AssertionError as error:\n",
    "    print('hubo un error de Assertion')\n",
    "except Exception as error:\n",
    "    print('hubo un error de Exception')  "
   ]
  },
  {
   "cell_type": "markdown",
   "id": "647041bd",
   "metadata": {},
   "source": [
    "Tambien podemos usar pass, else y finally:\n",
    "\n",
    "El bloque else se ejecuta cuando todo lo del bloque ‘try’ se ejecuta correctamente, es decir, sin excepciones.\n",
    ".\n",
    "El bloque finally se ejcuta haya o no excepciones en el bloque ‘try’, es decir, que su ejecución es obligatoria"
   ]
  },
  {
   "cell_type": "code",
   "execution_count": null,
   "id": "b1df5640",
   "metadata": {},
   "outputs": [],
   "source": [
    "try:\n",
    "    pass\n",
    "except Exception as e:\n",
    "    raise\n",
    "else:\n",
    "    pass\n",
    "finally:\n",
    "    pass"
   ]
  },
  {
   "cell_type": "markdown",
   "id": "24adb50f",
   "metadata": {},
   "source": [
    "## Manipulacion y manejo de archivos"
   ]
  },
  {
   "cell_type": "markdown",
   "id": "d01cd4e1",
   "metadata": {},
   "source": [
    "### Abrir archivos de texto"
   ]
  },
  {
   "cell_type": "code",
   "execution_count": 103,
   "id": "176b35bb",
   "metadata": {},
   "outputs": [
    {
     "data": {
      "text/plain": [
       "<_io.TextIOWrapper name='./mi_archivo.txt' mode='r' encoding='UTF-8'>"
      ]
     },
     "execution_count": 103,
     "metadata": {},
     "output_type": "execute_result"
    }
   ],
   "source": [
    "file  = open('./mi_archivo.txt')\n",
    "file"
   ]
  },
  {
   "cell_type": "code",
   "execution_count": 97,
   "id": "a3acc6ae",
   "metadata": {},
   "outputs": [
    {
     "data": {
      "text/plain": [
       "'Hola bola de perritas\\n'"
      ]
     },
     "execution_count": 97,
     "metadata": {},
     "output_type": "execute_result"
    }
   ],
   "source": [
    "file.readline()"
   ]
  },
  {
   "cell_type": "code",
   "execution_count": 98,
   "id": "28e455b3",
   "metadata": {},
   "outputs": [
    {
     "data": {
      "text/plain": [
       "'Linea 2\\n'"
      ]
     },
     "execution_count": 98,
     "metadata": {},
     "output_type": "execute_result"
    }
   ],
   "source": [
    "file.readline()"
   ]
  },
  {
   "cell_type": "code",
   "execution_count": 104,
   "id": "ed3c9ef0",
   "metadata": {},
   "outputs": [
    {
     "name": "stdout",
     "output_type": "stream",
     "text": [
      "Hola bola de perritas\n",
      "\n",
      "Linea 2\n",
      "\n",
      "Linea 3\n",
      "\n",
      "Linea 4\n"
     ]
    }
   ],
   "source": [
    "for lineas in file:\n",
    "    print(lineas)"
   ]
  },
  {
   "cell_type": "code",
   "execution_count": 101,
   "id": "2c9a6118",
   "metadata": {},
   "outputs": [],
   "source": [
    "file.close() #cerrar el archivo"
   ]
  },
  {
   "cell_type": "code",
   "execution_count": 106,
   "id": "6e5b7c72",
   "metadata": {},
   "outputs": [
    {
     "name": "stdout",
     "output_type": "stream",
     "text": [
      "Hola bola de perritas\n",
      "\n",
      "Linea 2\n",
      "\n",
      "Linea 3\n",
      "\n",
      "Linea 4\n"
     ]
    }
   ],
   "source": [
    "# Para abrir y cerrar el archivo inmediatamente\n",
    "\n",
    "with open('./mi_archivo.txt') as file:\n",
    "    for lineas in file:\n",
    "        print(lineas)"
   ]
  },
  {
   "cell_type": "markdown",
   "id": "83fc8716",
   "metadata": {},
   "source": [
    "### Escribir en un archivo"
   ]
  },
  {
   "cell_type": "code",
   "execution_count": 115,
   "id": "74ca8537",
   "metadata": {},
   "outputs": [
    {
     "name": "stdout",
     "output_type": "stream",
     "text": [
      "Esta linea es nuevaEsta linea es nuevaEsta linea es nuevaEsta linea es nueva\n",
      "\n",
      "Esta linea tambien es nueva\n",
      "\n",
      "Esta linea es nueva\n",
      "\n",
      "Esta linea tambien es nueva\n",
      "\n",
      "<_io.TextIOWrapper name='./mi_archivo.txt' mode='r+' encoding='UTF-8'>\n"
     ]
    }
   ],
   "source": [
    "with open('./mi_archivo.txt', 'r+') as file: #agregar permisos de escritura con r+\n",
    "    for lineas in file:\n",
    "        print(lineas)\n",
    "    file.write('Esta linea es nueva\\n')\n",
    "    file.write('Esta linea tambien es nueva\\n')\n",
    "\n",
    "print(file)"
   ]
  },
  {
   "cell_type": "code",
   "execution_count": 116,
   "id": "72c2c504",
   "metadata": {},
   "outputs": [
    {
     "name": "stdout",
     "output_type": "stream",
     "text": [
      "<_io.TextIOWrapper name='./mi_archivo.txt' mode='w+' encoding='UTF-8'>\n"
     ]
    }
   ],
   "source": [
    "with open('./mi_archivo.txt', 'w+') as file: # se reemplaza el conternido en el archivo\n",
    "    for lineas in file:\n",
    "        print(lineas)\n",
    "    file.write('Esta linea es nueva\\n')\n",
    "    file.write('Esta linea tambien es nueva\\n')\n",
    "\n",
    "print(file)"
   ]
  },
  {
   "cell_type": "markdown",
   "id": "98400bec",
   "metadata": {},
   "source": [
    "### Leer un CSV y transformarlo en diccionario"
   ]
  },
  {
   "cell_type": "code",
   "execution_count": 120,
   "id": "c9f59b2c",
   "metadata": {},
   "outputs": [
    {
     "name": "stdout",
     "output_type": "stream",
     "text": [
      "[('Rank', '36'), ('CCA3', 'AFG'), ('Country/Territory', 'Afghanistan'), ('Capital', 'Kabul'), ('Continent', 'Asia'), ('2022 Population', '41128771'), ('2020 Population', '38972230'), ('2015 Population', '33753499'), ('2010 Population', '28189672'), ('2000 Population', '19542982'), ('1990 Population', '10694796'), ('1980 Population', '12486631'), ('1970 Population', '10752971'), ('Area (km²)', '652230'), ('Density (per km²)', '63.0587'), ('Growth Rate', '1.0257'), ('World Population Percentage', '0.52')]\n",
      "[('Rank', '138'), ('CCA3', 'ALB'), ('Country/Territory', 'Albania'), ('Capital', 'Tirana'), ('Continent', 'Europe'), ('2022 Population', '2842321'), ('2020 Population', '2866849'), ('2015 Population', '2882481'), ('2010 Population', '2913399'), ('2000 Population', '3182021'), ('1990 Population', '3295066'), ('1980 Population', '2941651'), ('1970 Population', '2324731'), ('Area (km²)', '28748'), ('Density (per km²)', '98.8702'), ('Growth Rate', '0.9957'), ('World Population Percentage', '0.04')]\n",
      "[('Rank', '34'), ('CCA3', 'DZA'), ('Country/Territory', 'Algeria'), ('Capital', 'Algiers'), ('Continent', 'Africa'), ('2022 Population', '44903225'), ('2020 Population', '43451666'), ('2015 Population', '39543154'), ('2010 Population', '35856344'), ('2000 Population', '30774621'), ('1990 Population', '25518074'), ('1980 Population', '18739378'), ('1970 Population', '13795915'), ('Area (km²)', '2381741'), ('Density (per km²)', '18.8531'), ('Growth Rate', '1.0164'), ('World Population Percentage', '0.56')]\n",
      "[('Rank', '213'), ('CCA3', 'ASM'), ('Country/Territory', 'American Samoa'), ('Capital', 'Pago Pago'), ('Continent', 'Oceania'), ('2022 Population', '44273'), ('2020 Population', '46189'), ('2015 Population', '51368'), ('2010 Population', '54849'), ('2000 Population', '58230'), ('1990 Population', '47818'), ('1980 Population', '32886'), ('1970 Population', '27075'), ('Area (km²)', '199'), ('Density (per km²)', '222.4774'), ('Growth Rate', '0.9831'), ('World Population Percentage', '0')]\n",
      "[('Rank', '203'), ('CCA3', 'AND'), ('Country/Territory', 'Andorra'), ('Capital', 'Andorra la Vella'), ('Continent', 'Europe'), ('2022 Population', '79824'), ('2020 Population', '77700'), ('2015 Population', '71746'), ('2010 Population', '71519'), ('2000 Population', '66097'), ('1990 Population', '53569'), ('1980 Population', '35611'), ('1970 Population', '19860'), ('Area (km²)', '468'), ('Density (per km²)', '170.5641'), ('Growth Rate', '1.01'), ('World Population Percentage', '0')]\n",
      "[('Rank', '42'), ('CCA3', 'AGO'), ('Country/Territory', 'Angola'), ('Capital', 'Luanda'), ('Continent', 'Africa'), ('2022 Population', '35588987'), ('2020 Population', '33428485'), ('2015 Population', '28127721'), ('2010 Population', '23364185'), ('2000 Population', '16394062'), ('1990 Population', '11828638'), ('1980 Population', '8330047'), ('1970 Population', '6029700'), ('Area (km²)', '1246700'), ('Density (per km²)', '28.5466'), ('Growth Rate', '1.0315'), ('World Population Percentage', '0.45')]\n",
      "[('Rank', '224'), ('CCA3', 'AIA'), ('Country/Territory', 'Anguilla'), ('Capital', 'The Valley'), ('Continent', 'North America'), ('2022 Population', '15857'), ('2020 Population', '15585'), ('2015 Population', '14525'), ('2010 Population', '13172'), ('2000 Population', '11047'), ('1990 Population', '8316'), ('1980 Population', '6560'), ('1970 Population', '6283'), ('Area (km²)', '91'), ('Density (per km²)', '174.2527'), ('Growth Rate', '1.0066'), ('World Population Percentage', '0')]\n",
      "[('Rank', '201'), ('CCA3', 'ATG'), ('Country/Territory', 'Antigua and Barbuda'), ('Capital', 'Saint John’s'), ('Continent', 'North America'), ('2022 Population', '93763'), ('2020 Population', '92664'), ('2015 Population', '89941'), ('2010 Population', '85695'), ('2000 Population', '75055'), ('1990 Population', '63328'), ('1980 Population', '64888'), ('1970 Population', '64516'), ('Area (km²)', '442'), ('Density (per km²)', '212.1335'), ('Growth Rate', '1.0058'), ('World Population Percentage', '0')]\n",
      "[('Rank', '33'), ('CCA3', 'ARG'), ('Country/Territory', 'Argentina'), ('Capital', 'Buenos Aires'), ('Continent', 'South America'), ('2022 Population', '45510318'), ('2020 Population', '45036032'), ('2015 Population', '43257065'), ('2010 Population', '41100123'), ('2000 Population', '37070774'), ('1990 Population', '32637657'), ('1980 Population', '28024803'), ('1970 Population', '23842803'), ('Area (km²)', '2780400'), ('Density (per km²)', '16.3683'), ('Growth Rate', '1.0052'), ('World Population Percentage', '0.57')]\n",
      "[('Rank', '140'), ('CCA3', 'ARM'), ('Country/Territory', 'Armenia'), ('Capital', 'Yerevan'), ('Continent', 'Asia'), ('2022 Population', '2780469'), ('2020 Population', '2805608'), ('2015 Population', '2878595'), ('2010 Population', '2946293'), ('2000 Population', '3168523'), ('1990 Population', '3556539'), ('1980 Population', '3135123'), ('1970 Population', '2534377'), ('Area (km²)', '29743'), ('Density (per km²)', '93.4831'), ('Growth Rate', '0.9962'), ('World Population Percentage', '0.03')]\n",
      "[('Rank', '198'), ('CCA3', 'ABW'), ('Country/Territory', 'Aruba'), ('Capital', 'Oranjestad'), ('Continent', 'North America'), ('2022 Population', '106445'), ('2020 Population', '106585'), ('2015 Population', '104257'), ('2010 Population', '100341'), ('2000 Population', '89101'), ('1990 Population', '65712'), ('1980 Population', '62267'), ('1970 Population', '59106'), ('Area (km²)', '180'), ('Density (per km²)', '591.3611'), ('Growth Rate', '0.9991'), ('World Population Percentage', '0')]\n",
      "[('Rank', '55'), ('CCA3', 'AUS'), ('Country/Territory', 'Australia'), ('Capital', 'Canberra'), ('Continent', 'Oceania'), ('2022 Population', '26177413'), ('2020 Population', '25670051'), ('2015 Population', '23820236'), ('2010 Population', '22019168'), ('2000 Population', '19017963'), ('1990 Population', '17048003'), ('1980 Population', '14706322'), ('1970 Population', '12595034'), ('Area (km²)', '7692024'), ('Density (per km²)', '3.4032'), ('Growth Rate', '1.0099'), ('World Population Percentage', '0.33')]\n",
      "[('Rank', '99'), ('CCA3', 'AUT'), ('Country/Territory', 'Austria'), ('Capital', 'Vienna'), ('Continent', 'Europe'), ('2022 Population', '8939617'), ('2020 Population', '8907777'), ('2015 Population', '8642421'), ('2010 Population', '8362829'), ('2000 Population', '8010428'), ('1990 Population', '7678729'), ('1980 Population', '7547561'), ('1970 Population', '7465301'), ('Area (km²)', '83871'), ('Density (per km²)', '106.5877'), ('Growth Rate', '1.002'), ('World Population Percentage', '0.11')]\n",
      "[('Rank', '91'), ('CCA3', 'AZE'), ('Country/Territory', 'Azerbaijan'), ('Capital', 'Baku'), ('Continent', 'Asia'), ('2022 Population', '10358074'), ('2020 Population', '10284951'), ('2015 Population', '9863480'), ('2010 Population', '9237202'), ('2000 Population', '8190337'), ('1990 Population', '7427836'), ('1980 Population', '6383060'), ('1970 Population', '5425317'), ('Area (km²)', '86600'), ('Density (per km²)', '119.6082'), ('Growth Rate', '1.0044'), ('World Population Percentage', '0.13')]\n",
      "[('Rank', '176'), ('CCA3', 'BHS'), ('Country/Territory', 'Bahamas'), ('Capital', 'Nassau'), ('Continent', 'North America'), ('2022 Population', '409984'), ('2020 Population', '406471'), ('2015 Population', '392697'), ('2010 Population', '373272'), ('2000 Population', '325014'), ('1990 Population', '270679'), ('1980 Population', '223752'), ('1970 Population', '179129'), ('Area (km²)', '13943'), ('Density (per km²)', '29.4043'), ('Growth Rate', '1.0051'), ('World Population Percentage', '0.01')]\n",
      "[('Rank', '154'), ('CCA3', 'BHR'), ('Country/Territory', 'Bahrain'), ('Capital', 'Manama'), ('Continent', 'Asia'), ('2022 Population', '1472233'), ('2020 Population', '1477469'), ('2015 Population', '1362142'), ('2010 Population', '1213645'), ('2000 Population', '711442'), ('1990 Population', '517418'), ('1980 Population', '362595'), ('1970 Population', '222555'), ('Area (km²)', '765'), ('Density (per km²)', '1924.4876'), ('Growth Rate', '1.0061'), ('World Population Percentage', '0.02')]\n",
      "[('Rank', '8'), ('CCA3', 'BGD'), ('Country/Territory', 'Bangladesh'), ('Capital', 'Dhaka'), ('Continent', 'Asia'), ('2022 Population', '171186372'), ('2020 Population', '167420951'), ('2015 Population', '157830000'), ('2010 Population', '148391139'), ('2000 Population', '129193327'), ('1990 Population', '107147651'), ('1980 Population', '83929765'), ('1970 Population', '67541860'), ('Area (km²)', '147570'), ('Density (per km²)', '1160.035'), ('Growth Rate', '1.0108'), ('World Population Percentage', '2.15')]\n",
      "[('Rank', '186'), ('CCA3', 'BRB'), ('Country/Territory', 'Barbados'), ('Capital', 'Bridgetown'), ('Continent', 'North America'), ('2022 Population', '281635'), ('2020 Population', '280693'), ('2015 Population', '278083'), ('2010 Population', '274711'), ('2000 Population', '264657'), ('1990 Population', '258868'), ('1980 Population', '253575'), ('1970 Population', '241397'), ('Area (km²)', '430'), ('Density (per km²)', '654.9651'), ('Growth Rate', '1.0015'), ('World Population Percentage', '0')]\n",
      "[('Rank', '96'), ('CCA3', 'BLR'), ('Country/Territory', 'Belarus'), ('Capital', 'Minsk'), ('Continent', 'Europe'), ('2022 Population', '9534954'), ('2020 Population', '9633740'), ('2015 Population', '9700609'), ('2010 Population', '9731427'), ('2000 Population', '10256483'), ('1990 Population', '10428525'), ('1980 Population', '9817257'), ('1970 Population', '9170786'), ('Area (km²)', '207600'), ('Density (per km²)', '45.9295'), ('Growth Rate', '0.9955'), ('World Population Percentage', '0.12')]\n",
      "[('Rank', '81'), ('CCA3', 'BEL'), ('Country/Territory', 'Belgium'), ('Capital', 'Brussels'), ('Continent', 'Europe'), ('2022 Population', '11655930'), ('2020 Population', '11561717'), ('2015 Population', '11248303'), ('2010 Population', '10877947'), ('2000 Population', '10264343'), ('1990 Population', '9959560'), ('1980 Population', '9828986'), ('1970 Population', '9629376'), ('Area (km²)', '30528'), ('Density (per km²)', '381.8111'), ('Growth Rate', '1.0038'), ('World Population Percentage', '0.15')]\n",
      "[('Rank', '177'), ('CCA3', 'BLZ'), ('Country/Territory', 'Belize'), ('Capital', 'Belmopan'), ('Continent', 'North America'), ('2022 Population', '405272'), ('2020 Population', '394921'), ('2015 Population', '359871'), ('2010 Population', '322106'), ('2000 Population', '240406'), ('1990 Population', '182589'), ('1980 Population', '145133'), ('1970 Population', '120905'), ('Area (km²)', '22966'), ('Density (per km²)', '17.6466'), ('Growth Rate', '1.0131'), ('World Population Percentage', '0.01')]\n",
      "[('Rank', '77'), ('CCA3', 'BEN'), ('Country/Territory', 'Benin'), ('Capital', 'Porto-Novo'), ('Continent', 'Africa'), ('2022 Population', '13352864'), ('2020 Population', '12643123'), ('2015 Population', '10932783'), ('2010 Population', '9445710'), ('2000 Population', '6998023'), ('1990 Population', '5133419'), ('1980 Population', '3833939'), ('1970 Population', '3023443'), ('Area (km²)', '112622'), ('Density (per km²)', '118.5635'), ('Growth Rate', '1.0274'), ('World Population Percentage', '0.17')]\n",
      "[('Rank', '206'), ('CCA3', 'BMU'), ('Country/Territory', 'Bermuda'), ('Capital', 'Hamilton'), ('Continent', 'North America'), ('2022 Population', '64184'), ('2020 Population', '64031'), ('2015 Population', '63144'), ('2010 Population', '63447'), ('2000 Population', '61371'), ('1990 Population', '57470'), ('1980 Population', '53565'), ('1970 Population', '52019'), ('Area (km²)', '54'), ('Density (per km²)', '1188.5926'), ('Growth Rate', '1'), ('World Population Percentage', '0')]\n",
      "[('Rank', '165'), ('CCA3', 'BTN'), ('Country/Territory', 'Bhutan'), ('Capital', 'Thimphu'), ('Continent', 'Asia'), ('2022 Population', '782455'), ('2020 Population', '772506'), ('2015 Population', '743274'), ('2010 Population', '705516'), ('2000 Population', '587207'), ('1990 Population', '558442'), ('1980 Population', '415257'), ('1970 Population', '298894'), ('Area (km²)', '38394'), ('Density (per km²)', '20.3796'), ('Growth Rate', '1.0064'), ('World Population Percentage', '0.01')]\n",
      "[('Rank', '80'), ('CCA3', 'BOL'), ('Country/Territory', 'Bolivia'), ('Capital', 'Sucre'), ('Continent', 'South America'), ('2022 Population', '12224110'), ('2020 Population', '11936162'), ('2015 Population', '11090085'), ('2010 Population', '10223270'), ('2000 Population', '8592656'), ('1990 Population', '7096194'), ('1980 Population', '5736088'), ('1970 Population', '4585693'), ('Area (km²)', '1098581'), ('Density (per km²)', '11.1272'), ('Growth Rate', '1.012'), ('World Population Percentage', '0.15')]\n",
      "[('Rank', '137'), ('CCA3', 'BIH'), ('Country/Territory', 'Bosnia and Herzegovina'), ('Capital', 'Sarajevo'), ('Continent', 'Europe'), ('2022 Population', '3233526'), ('2020 Population', '3318407'), ('2015 Population', '3524324'), ('2010 Population', '3811088'), ('2000 Population', '4179350'), ('1990 Population', '4494310'), ('1980 Population', '4199820'), ('1970 Population', '3815561'), ('Area (km²)', '51209'), ('Density (per km²)', '63.1437'), ('Growth Rate', '0.9886'), ('World Population Percentage', '0.04')]\n",
      "[('Rank', '144'), ('CCA3', 'BWA'), ('Country/Territory', 'Botswana'), ('Capital', 'Gaborone'), ('Continent', 'Africa'), ('2022 Population', '2630296'), ('2020 Population', '2546402'), ('2015 Population', '2305171'), ('2010 Population', '2091664'), ('2000 Population', '1726985'), ('1990 Population', '1341474'), ('1980 Population', '938578'), ('1970 Population', '592244'), ('Area (km²)', '582000'), ('Density (per km²)', '4.5194'), ('Growth Rate', '1.0162'), ('World Population Percentage', '0.03')]\n",
      "[('Rank', '7'), ('CCA3', 'BRA'), ('Country/Territory', 'Brazil'), ('Capital', 'Brasilia'), ('Continent', 'South America'), ('2022 Population', '215313498'), ('2020 Population', '213196304'), ('2015 Population', '205188205'), ('2010 Population', '196353492'), ('2000 Population', '175873720'), ('1990 Population', '150706446'), ('1980 Population', '122288383'), ('1970 Population', '96369875'), ('Area (km²)', '8515767'), ('Density (per km²)', '25.2841'), ('Growth Rate', '1.0046'), ('World Population Percentage', '2.7')]\n",
      "[('Rank', '221'), ('CCA3', 'VGB'), ('Country/Territory', 'British Virgin Islands'), ('Capital', 'Road Town'), ('Continent', 'North America'), ('2022 Population', '31305'), ('2020 Population', '30910'), ('2015 Population', '29366'), ('2010 Population', '27556'), ('2000 Population', '20104'), ('1990 Population', '15617'), ('1980 Population', '11109'), ('1970 Population', '9581'), ('Area (km²)', '151'), ('Density (per km²)', '207.3179'), ('Growth Rate', '1.0059'), ('World Population Percentage', '0')]\n",
      "[('Rank', '175'), ('CCA3', 'BRN'), ('Country/Territory', 'Brunei'), ('Capital', 'Bandar Seri Begawan'), ('Continent', 'Asia'), ('2022 Population', '449002'), ('2020 Population', '441725'), ('2015 Population', '421437'), ('2010 Population', '396053'), ('2000 Population', '333926'), ('1990 Population', '261928'), ('1980 Population', '187921'), ('1970 Population', '133343'), ('Area (km²)', '5765'), ('Density (per km²)', '77.8841'), ('Growth Rate', '1.0081'), ('World Population Percentage', '0.01')]\n",
      "[('Rank', '108'), ('CCA3', 'BGR'), ('Country/Territory', 'Bulgaria'), ('Capital', 'Sofia'), ('Continent', 'Europe'), ('2022 Population', '6781953'), ('2020 Population', '6979175'), ('2015 Population', '7309253'), ('2010 Population', '7592273'), ('2000 Population', '8097691'), ('1990 Population', '8767778'), ('1980 Population', '8980606'), ('1970 Population', '8582950'), ('Area (km²)', '110879'), ('Density (per km²)', '61.1654'), ('Growth Rate', '0.9849'), ('World Population Percentage', '0.09')]\n",
      "[('Rank', '58'), ('CCA3', 'BFA'), ('Country/Territory', 'Burkina Faso'), ('Capital', 'Ouagadougou'), ('Continent', 'Africa'), ('2022 Population', '22673762'), ('2020 Population', '21522626'), ('2015 Population', '18718019'), ('2010 Population', '16116845'), ('2000 Population', '11882888'), ('1990 Population', '9131361'), ('1980 Population', '6932967'), ('1970 Population', '5611666'), ('Area (km²)', '272967'), ('Density (per km²)', '83.0641'), ('Growth Rate', '1.0259'), ('World Population Percentage', '0.28')]\n",
      "[('Rank', '78'), ('CCA3', 'BDI'), ('Country/Territory', 'Burundi'), ('Capital', 'Bujumbura'), ('Continent', 'Africa'), ('2022 Population', '12889576'), ('2020 Population', '12220227'), ('2015 Population', '10727148'), ('2010 Population', '9126605'), ('2000 Population', '6307659'), ('1990 Population', '5483793'), ('1980 Population', '4312834'), ('1970 Population', '3497834'), ('Area (km²)', '27834'), ('Density (per km²)', '463.0874'), ('Growth Rate', '1.027'), ('World Population Percentage', '0.16')]\n",
      "[('Rank', '73'), ('CCA3', 'KHM'), ('Country/Territory', 'Cambodia'), ('Capital', 'Phnom Penh'), ('Continent', 'Asia'), ('2022 Population', '16767842'), ('2020 Population', '16396860'), ('2015 Population', '15417523'), ('2010 Population', '14363532'), ('2000 Population', '12118841'), ('1990 Population', '8910808'), ('1980 Population', '6198959'), ('1970 Population', '6708525'), ('Area (km²)', '181035'), ('Density (per km²)', '92.6221'), ('Growth Rate', '1.0108'), ('World Population Percentage', '0.21')]\n",
      "[('Rank', '53'), ('CCA3', 'CMR'), ('Country/Territory', 'Cameroon'), ('Capital', 'Yaounde'), ('Continent', 'Africa'), ('2022 Population', '27914536'), ('2020 Population', '26491087'), ('2015 Population', '23012646'), ('2010 Population', '19878036'), ('2000 Population', '15091594'), ('1990 Population', '11430520'), ('1980 Population', '8519891'), ('1970 Population', '6452787'), ('Area (km²)', '475442'), ('Density (per km²)', '58.7128'), ('Growth Rate', '1.0263'), ('World Population Percentage', '0.35')]\n",
      "[('Rank', '39'), ('CCA3', 'CAN'), ('Country/Territory', 'Canada'), ('Capital', 'Ottawa'), ('Continent', 'North America'), ('2022 Population', '38454327'), ('2020 Population', '37888705'), ('2015 Population', '35732126'), ('2010 Population', '33963412'), ('2000 Population', '30683313'), ('1990 Population', '27657204'), ('1980 Population', '24511510'), ('1970 Population', '21434577'), ('Area (km²)', '9984670'), ('Density (per km²)', '3.8513'), ('Growth Rate', '1.0078'), ('World Population Percentage', '0.48')]\n",
      "[('Rank', '171'), ('CCA3', 'CPV'), ('Country/Territory', 'Cape Verde'), ('Capital', 'Praia'), ('Continent', 'Africa'), ('2022 Population', '593149'), ('2020 Population', '582640'), ('2015 Population', '552166'), ('2010 Population', '521212'), ('2000 Population', '458251'), ('1990 Population', '364563'), ('1980 Population', '317234'), ('1970 Population', '287262'), ('Area (km²)', '4033'), ('Density (per km²)', '147.0739'), ('Growth Rate', '1.0089'), ('World Population Percentage', '0.01')]\n",
      "[('Rank', '205'), ('CCA3', 'CYM'), ('Country/Territory', 'Cayman Islands'), ('Capital', 'George Town'), ('Continent', 'North America'), ('2022 Population', '68706'), ('2020 Population', '67311'), ('2015 Population', '60911'), ('2010 Population', '54074'), ('2000 Population', '39658'), ('1990 Population', '26027'), ('1980 Population', '17100'), ('1970 Population', '10533'), ('Area (km²)', '264'), ('Density (per km²)', '260.25'), ('Growth Rate', '1.0084'), ('World Population Percentage', '0')]\n",
      "[('Rank', '117'), ('CCA3', 'CAF'), ('Country/Territory', 'Central African Republic'), ('Capital', 'Bangui'), ('Continent', 'Africa'), ('2022 Population', '5579144'), ('2020 Population', '5343020'), ('2015 Population', '4819333'), ('2010 Population', '4660067'), ('2000 Population', '3759170'), ('1990 Population', '2809221'), ('1980 Population', '2415276'), ('1970 Population', '2067356'), ('Area (km²)', '622984'), ('Density (per km²)', '8.9555'), ('Growth Rate', '1.0224'), ('World Population Percentage', '0.07')]\n",
      "[('Rank', '69'), ('CCA3', 'TCD'), ('Country/Territory', 'Chad'), ('Capital', \"N'Djamena\"), ('Continent', 'Africa'), ('2022 Population', '17723315'), ('2020 Population', '16644701'), ('2015 Population', '14140274'), ('2010 Population', '11894727'), ('2000 Population', '8259137'), ('1990 Population', '5827069'), ('1980 Population', '4408230'), ('1970 Population', '3667394'), ('Area (km²)', '1284000'), ('Density (per km²)', '13.8032'), ('Growth Rate', '1.0316'), ('World Population Percentage', '0.22')]\n",
      "[('Rank', '65'), ('CCA3', 'CHL'), ('Country/Territory', 'Chile'), ('Capital', 'Santiago'), ('Continent', 'South America'), ('2022 Population', '19603733'), ('2020 Population', '19300315'), ('2015 Population', '17870124'), ('2010 Population', '17004162'), ('2000 Population', '15351799'), ('1990 Population', '13342868'), ('1980 Population', '11469828'), ('1970 Population', '9820481'), ('Area (km²)', '756102'), ('Density (per km²)', '25.9274'), ('Growth Rate', '1.0057'), ('World Population Percentage', '0.25')]\n",
      "[('Rank', '1'), ('CCA3', 'CHN'), ('Country/Territory', 'China'), ('Capital', 'Beijing'), ('Continent', 'Asia'), ('2022 Population', '1425887337'), ('2020 Population', '1424929781'), ('2015 Population', '1393715448'), ('2010 Population', '1348191368'), ('2000 Population', '1264099069'), ('1990 Population', '1153704252'), ('1980 Population', '982372466'), ('1970 Population', '822534450'), ('Area (km²)', '9706961'), ('Density (per km²)', '146.8933'), ('Growth Rate', '1'), ('World Population Percentage', '17.88')]\n",
      "[('Rank', '28'), ('CCA3', 'COL'), ('Country/Territory', 'Colombia'), ('Capital', 'Bogota'), ('Continent', 'South America'), ('2022 Population', '51874024'), ('2020 Population', '50930662'), ('2015 Population', '47119728'), ('2010 Population', '44816108'), ('2000 Population', '39215135'), ('1990 Population', '32601393'), ('1980 Population', '26176195'), ('1970 Population', '20905254'), ('Area (km²)', '1141748'), ('Density (per km²)', '45.4339'), ('Growth Rate', '1.0069'), ('World Population Percentage', '0.65')]\n",
      "[('Rank', '163'), ('CCA3', 'COM'), ('Country/Territory', 'Comoros'), ('Capital', 'Moroni'), ('Continent', 'Africa'), ('2022 Population', '836774'), ('2020 Population', '806166'), ('2015 Population', '730216'), ('2010 Population', '656024'), ('2000 Population', '536758'), ('1990 Population', '431119'), ('1980 Population', '328328'), ('1970 Population', '242351'), ('Area (km²)', '1862'), ('Density (per km²)', '449.3953'), ('Growth Rate', '1.0184'), ('World Population Percentage', '0.01')]\n",
      "[('Rank', '223'), ('CCA3', 'COK'), ('Country/Territory', 'Cook Islands'), ('Capital', 'Avarua'), ('Continent', 'Oceania'), ('2022 Population', '17011'), ('2020 Population', '17029'), ('2015 Population', '17695'), ('2010 Population', '17212'), ('2000 Population', '15897'), ('1990 Population', '17123'), ('1980 Population', '17651'), ('1970 Population', '20470'), ('Area (km²)', '236'), ('Density (per km²)', '72.0805'), ('Growth Rate', '1.0005'), ('World Population Percentage', '0')]\n",
      "[('Rank', '124'), ('CCA3', 'CRI'), ('Country/Territory', 'Costa Rica'), ('Capital', 'San José'), ('Continent', 'North America'), ('2022 Population', '5180829'), ('2020 Population', '5123105'), ('2015 Population', '4895242'), ('2010 Population', '4622252'), ('2000 Population', '3979193'), ('1990 Population', '3158253'), ('1980 Population', '2414303'), ('1970 Population', '1855697'), ('Area (km²)', '51100'), ('Density (per km²)', '101.3861'), ('Growth Rate', '1.0052'), ('World Population Percentage', '0.06')]\n",
      "[('Rank', '130'), ('CCA3', 'HRV'), ('Country/Territory', 'Croatia'), ('Capital', 'Zagreb'), ('Continent', 'Europe'), ('2022 Population', '4030358'), ('2020 Population', '4096868'), ('2015 Population', '4254815'), ('2010 Population', '4368682'), ('2000 Population', '4548434'), ('1990 Population', '4873707'), ('1980 Population', '4680144'), ('1970 Population', '4492638'), ('Area (km²)', '56594'), ('Density (per km²)', '71.2153'), ('Growth Rate', '0.9927'), ('World Population Percentage', '0.05')]\n",
      "[('Rank', '85'), ('CCA3', 'CUB'), ('Country/Territory', 'Cuba'), ('Capital', 'Havana'), ('Continent', 'North America'), ('2022 Population', '11212191'), ('2020 Population', '11300698'), ('2015 Population', '11339894'), ('2010 Population', '11290417'), ('2000 Population', '11105791'), ('1990 Population', '10626680'), ('1980 Population', '9809107'), ('1970 Population', '8869636'), ('Area (km²)', '109884'), ('Density (per km²)', '102.0366'), ('Growth Rate', '0.9961'), ('World Population Percentage', '0.14')]\n",
      "[('Rank', '189'), ('CCA3', 'CUW'), ('Country/Territory', 'Curacao'), ('Capital', 'Willemstad'), ('Continent', 'North America'), ('2022 Population', '191163'), ('2020 Population', '189288'), ('2015 Population', '169572'), ('2010 Population', '159380'), ('2000 Population', '141424'), ('1990 Population', '155446'), ('1980 Population', '156851'), ('1970 Population', '150385'), ('Area (km²)', '444'), ('Density (per km²)', '430.5473'), ('Growth Rate', '1.0043'), ('World Population Percentage', '0')]\n",
      "[('Rank', '158'), ('CCA3', 'CYP'), ('Country/Territory', 'Cyprus'), ('Capital', 'Nicosia'), ('Continent', 'Europe'), ('2022 Population', '1251488'), ('2020 Population', '1237537'), ('2015 Population', '1187280'), ('2010 Population', '1129686'), ('2000 Population', '948237'), ('1990 Population', '788500'), ('1980 Population', '679327'), ('1970 Population', '640804'), ('Area (km²)', '9251'), ('Density (per km²)', '135.2814'), ('Growth Rate', '1.0059'), ('World Population Percentage', '0.02')]\n",
      "[('Rank', '88'), ('CCA3', 'CZE'), ('Country/Territory', 'Czech Republic'), ('Capital', 'Prague'), ('Continent', 'Europe'), ('2022 Population', '10493986'), ('2020 Population', '10530953'), ('2015 Population', '10523798'), ('2010 Population', '10464749'), ('2000 Population', '10234710'), ('1990 Population', '10301192'), ('1980 Population', '10270060'), ('1970 Population', '9795744'), ('Area (km²)', '78865'), ('Density (per km²)', '133.0627'), ('Growth Rate', '0.9984'), ('World Population Percentage', '0.13')]\n",
      "[('Rank', '115'), ('CCA3', 'DNK'), ('Country/Territory', 'Denmark'), ('Capital', 'Copenhagen'), ('Continent', 'Europe'), ('2022 Population', '5882261'), ('2020 Population', '5825641'), ('2015 Population', '5677796'), ('2010 Population', '5550849'), ('2000 Population', '5340655'), ('1990 Population', '5144623'), ('1980 Population', '5125392'), ('1970 Population', '4922963'), ('Area (km²)', '43094'), ('Density (per km²)', '136.4984'), ('Growth Rate', '1.0048'), ('World Population Percentage', '0.07')]\n",
      "[('Rank', '160'), ('CCA3', 'DJI'), ('Country/Territory', 'Djibouti'), ('Capital', 'Djibouti'), ('Continent', 'Africa'), ('2022 Population', '1120849'), ('2020 Population', '1090156'), ('2015 Population', '1006259'), ('2010 Population', '919199'), ('2000 Population', '742033'), ('1990 Population', '577173'), ('1980 Population', '324121'), ('1970 Population', '144379'), ('Area (km²)', '23200'), ('Density (per km²)', '48.3125'), ('Growth Rate', '1.0138'), ('World Population Percentage', '0.01')]\n",
      "[('Rank', '204'), ('CCA3', 'DMA'), ('Country/Territory', 'Dominica'), ('Capital', 'Roseau'), ('Continent', 'North America'), ('2022 Population', '72737'), ('2020 Population', '71995'), ('2015 Population', '70007'), ('2010 Population', '68755'), ('2000 Population', '68346'), ('1990 Population', '69481'), ('1980 Population', '72978'), ('1970 Population', '68895'), ('Area (km²)', '751'), ('Density (per km²)', '96.8535'), ('Growth Rate', '1.0045'), ('World Population Percentage', '0')]\n",
      "[('Rank', '84'), ('CCA3', 'DOM'), ('Country/Territory', 'Dominican Republic'), ('Capital', 'Santo Domingo'), ('Continent', 'North America'), ('2022 Population', '11228821'), ('2020 Population', '10999664'), ('2015 Population', '10405832'), ('2010 Population', '9775755'), ('2000 Population', '8540791'), ('1990 Population', '7129004'), ('1980 Population', '5755800'), ('1970 Population', '4475871'), ('Area (km²)', '48671'), ('Density (per km²)', '230.7087'), ('Growth Rate', '1.01'), ('World Population Percentage', '0.14')]\n",
      "[('Rank', '15'), ('CCA3', 'COD'), ('Country/Territory', 'DR Congo'), ('Capital', 'Kinshasa'), ('Continent', 'Africa'), ('2022 Population', '99010212'), ('2020 Population', '92853164'), ('2015 Population', '78656904'), ('2010 Population', '66391257'), ('2000 Population', '48616317'), ('1990 Population', '35987541'), ('1980 Population', '26708686'), ('1970 Population', '20151733'), ('Area (km²)', '2344858'), ('Density (per km²)', '42.2244'), ('Growth Rate', '1.0325'), ('World Population Percentage', '1.24')]\n",
      "[('Rank', '67'), ('CCA3', 'ECU'), ('Country/Territory', 'Ecuador'), ('Capital', 'Quito'), ('Continent', 'South America'), ('2022 Population', '18001000'), ('2020 Population', '17588595'), ('2015 Population', '16195902'), ('2010 Population', '14989585'), ('2000 Population', '12626507'), ('1990 Population', '10449837'), ('1980 Population', '8135845'), ('1970 Population', '6172215'), ('Area (km²)', '276841'), ('Density (per km²)', '65.0229'), ('Growth Rate', '1.0114'), ('World Population Percentage', '0.23')]\n",
      "[('Rank', '14'), ('CCA3', 'EGY'), ('Country/Territory', 'Egypt'), ('Capital', 'Cairo'), ('Continent', 'Africa'), ('2022 Population', '110990103'), ('2020 Population', '107465134'), ('2015 Population', '97723799'), ('2010 Population', '87252413'), ('2000 Population', '71371371'), ('1990 Population', '57214630'), ('1980 Population', '43748556'), ('1970 Population', '34781986'), ('Area (km²)', '1002450'), ('Density (per km²)', '110.7188'), ('Growth Rate', '1.0158'), ('World Population Percentage', '1.39')]\n",
      "[('Rank', '112'), ('CCA3', 'SLV'), ('Country/Territory', 'El Salvador'), ('Capital', 'San Salvador'), ('Continent', 'North America'), ('2022 Population', '6336392'), ('2020 Population', '6292731'), ('2015 Population', '6231066'), ('2010 Population', '6114034'), ('2000 Population', '5958482'), ('1990 Population', '5367179'), ('1980 Population', '4508992'), ('1970 Population', '3619090'), ('Area (km²)', '21041'), ('Density (per km²)', '301.145'), ('Growth Rate', '1.0035'), ('World Population Percentage', '0.08')]\n",
      "[('Rank', '152'), ('CCA3', 'GNQ'), ('Country/Territory', 'Equatorial Guinea'), ('Capital', 'Malabo'), ('Continent', 'Africa'), ('2022 Population', '1674908'), ('2020 Population', '1596049'), ('2015 Population', '1346973'), ('2010 Population', '1094524'), ('2000 Population', '684977'), ('1990 Population', '465549'), ('1980 Population', '282509'), ('1970 Population', '316955'), ('Area (km²)', '28051'), ('Density (per km²)', '59.7094'), ('Growth Rate', '1.0247'), ('World Population Percentage', '0.02')]\n",
      "[('Rank', '132'), ('CCA3', 'ERI'), ('Country/Territory', 'Eritrea'), ('Capital', 'Asmara'), ('Continent', 'Africa'), ('2022 Population', '3684032'), ('2020 Population', '3555868'), ('2015 Population', '3340006'), ('2010 Population', '3147727'), ('2000 Population', '2392880'), ('1990 Population', '2149960'), ('1980 Population', '1657982'), ('1970 Population', '1272748'), ('Area (km²)', '117600'), ('Density (per km²)', '31.3268'), ('Growth Rate', '1.0176'), ('World Population Percentage', '0.05')]\n",
      "[('Rank', '156'), ('CCA3', 'EST'), ('Country/Territory', 'Estonia'), ('Capital', 'Tallinn'), ('Continent', 'Europe'), ('2022 Population', '1326062'), ('2020 Population', '1329444'), ('2015 Population', '1314657'), ('2010 Population', '1331535'), ('2000 Population', '1396877'), ('1990 Population', '1570674'), ('1980 Population', '1476983'), ('1970 Population', '1361999'), ('Area (km²)', '45227'), ('Density (per km²)', '29.3201'), ('Growth Rate', '0.998'), ('World Population Percentage', '0.02')]\n",
      "[('Rank', '159'), ('CCA3', 'SWZ'), ('Country/Territory', 'Eswatini'), ('Capital', 'Mbabane'), ('Continent', 'Africa'), ('2022 Population', '1201670'), ('2020 Population', '1180655'), ('2015 Population', '1133936'), ('2010 Population', '1099920'), ('2000 Population', '1030496'), ('1990 Population', '854011'), ('1980 Population', '598564'), ('1970 Population', '442865'), ('Area (km²)', '17364'), ('Density (per km²)', '69.2047'), ('Growth Rate', '1.0079'), ('World Population Percentage', '0.02')]\n",
      "[('Rank', '12'), ('CCA3', 'ETH'), ('Country/Territory', 'Ethiopia'), ('Capital', 'Addis Ababa'), ('Continent', 'Africa'), ('2022 Population', '123379924'), ('2020 Population', '117190911'), ('2015 Population', '102471895'), ('2010 Population', '89237791'), ('2000 Population', '67031867'), ('1990 Population', '47878073'), ('1980 Population', '34945469'), ('1970 Population', '28308246'), ('Area (km²)', '1104300'), ('Density (per km²)', '111.7268'), ('Growth Rate', '1.0257'), ('World Population Percentage', '1.55')]\n",
      "[('Rank', '231'), ('CCA3', 'FLK'), ('Country/Territory', 'Falkland Islands'), ('Capital', 'Stanley'), ('Continent', 'South America'), ('2022 Population', '3780'), ('2020 Population', '3747'), ('2015 Population', '3408'), ('2010 Population', '3187'), ('2000 Population', '3080'), ('1990 Population', '2332'), ('1980 Population', '2240'), ('1970 Population', '2274'), ('Area (km²)', '12173'), ('Density (per km²)', '0.3105'), ('Growth Rate', '1.0043'), ('World Population Percentage', '0')]\n",
      "[('Rank', '209'), ('CCA3', 'FRO'), ('Country/Territory', 'Faroe Islands'), ('Capital', 'Tórshavn'), ('Continent', 'Europe'), ('2022 Population', '53090'), ('2020 Population', '52415'), ('2015 Population', '48816'), ('2010 Population', '48410'), ('2000 Population', '45660'), ('1990 Population', '47479'), ('1980 Population', '43054'), ('1970 Population', '38416'), ('Area (km²)', '1393'), ('Density (per km²)', '38.112'), ('Growth Rate', '1.0038'), ('World Population Percentage', '0')]\n",
      "[('Rank', '162'), ('CCA3', 'FJI'), ('Country/Territory', 'Fiji'), ('Capital', 'Suva'), ('Continent', 'Oceania'), ('2022 Population', '929766'), ('2020 Population', '920422'), ('2015 Population', '917200'), ('2010 Population', '905169'), ('2000 Population', '832509'), ('1990 Population', '780430'), ('1980 Population', '644582'), ('1970 Population', '527634'), ('Area (km²)', '18272'), ('Density (per km²)', '50.8847'), ('Growth Rate', '1.0056'), ('World Population Percentage', '0.01')]\n",
      "[('Rank', '118'), ('CCA3', 'FIN'), ('Country/Territory', 'Finland'), ('Capital', 'Helsinki'), ('Continent', 'Europe'), ('2022 Population', '5540745'), ('2020 Population', '5529468'), ('2015 Population', '5479461'), ('2010 Population', '5363271'), ('2000 Population', '5176209'), ('1990 Population', '4986545'), ('1980 Population', '4779418'), ('1970 Population', '4606621'), ('Area (km²)', '338424'), ('Density (per km²)', '16.3722'), ('Growth Rate', '1.0009'), ('World Population Percentage', '0.07')]\n",
      "[('Rank', '23'), ('CCA3', 'FRA'), ('Country/Territory', 'France'), ('Capital', 'Paris'), ('Continent', 'Europe'), ('2022 Population', '64626628'), ('2020 Population', '64480053'), ('2015 Population', '63809769'), ('2010 Population', '62444567'), ('2000 Population', '58665453'), ('1990 Population', '56412897'), ('1980 Population', '53713830'), ('1970 Population', '50523586'), ('Area (km²)', '551695'), ('Density (per km²)', '117.1419'), ('Growth Rate', '1.0015'), ('World Population Percentage', '0.81')]\n",
      "[('Rank', '184'), ('CCA3', 'GUF'), ('Country/Territory', 'French Guiana'), ('Capital', 'Cayenne'), ('Continent', 'South America'), ('2022 Population', '304557'), ('2020 Population', '290969'), ('2015 Population', '257026'), ('2010 Population', '228453'), ('2000 Population', '164351'), ('1990 Population', '113931'), ('1980 Population', '66825'), ('1970 Population', '46484'), ('Area (km²)', '83534'), ('Density (per km²)', '3.6459'), ('Growth Rate', '1.0239'), ('World Population Percentage', '0')]\n",
      "[('Rank', '183'), ('CCA3', 'PYF'), ('Country/Territory', 'French Polynesia'), ('Capital', 'Papeete'), ('Continent', 'Oceania'), ('2022 Population', '306279'), ('2020 Population', '301920'), ('2015 Population', '291787'), ('2010 Population', '283788'), ('2000 Population', '250927'), ('1990 Population', '211089'), ('1980 Population', '163591'), ('1970 Population', '117891'), ('Area (km²)', '4167'), ('Density (per km²)', '73.5011'), ('Growth Rate', '1.0074'), ('World Population Percentage', '0')]\n",
      "[('Rank', '146'), ('CCA3', 'GAB'), ('Country/Territory', 'Gabon'), ('Capital', 'Libreville'), ('Continent', 'Africa'), ('2022 Population', '2388992'), ('2020 Population', '2292573'), ('2015 Population', '2028517'), ('2010 Population', '1711105'), ('2000 Population', '1272935'), ('1990 Population', '983028'), ('1980 Population', '749078'), ('1970 Population', '597192'), ('Area (km²)', '267668'), ('Density (per km²)', '8.9252'), ('Growth Rate', '1.0204'), ('World Population Percentage', '0.03')]\n",
      "[('Rank', '142'), ('CCA3', 'GMB'), ('Country/Territory', 'Gambia'), ('Capital', 'Banjul'), ('Continent', 'Africa'), ('2022 Population', '2705992'), ('2020 Population', '2573995'), ('2015 Population', '2253133'), ('2010 Population', '1937275'), ('2000 Population', '1437539'), ('1990 Population', '1040616'), ('1980 Population', '718586'), ('1970 Population', '528731'), ('Area (km²)', '10689'), ('Density (per km²)', '253.1567'), ('Growth Rate', '1.025'), ('World Population Percentage', '0.03')]\n",
      "[('Rank', '131'), ('CCA3', 'GEO'), ('Country/Territory', 'Georgia'), ('Capital', 'Tbilisi'), ('Continent', 'Asia'), ('2022 Population', '3744385'), ('2020 Population', '3765912'), ('2015 Population', '3771132'), ('2010 Population', '3836831'), ('2000 Population', '4265172'), ('1990 Population', '5391636'), ('1980 Population', '5145843'), ('1970 Population', '4800426'), ('Area (km²)', '69700'), ('Density (per km²)', '53.7214'), ('Growth Rate', '0.9964'), ('World Population Percentage', '0.05')]\n",
      "[('Rank', '19'), ('CCA3', 'DEU'), ('Country/Territory', 'Germany'), ('Capital', 'Berlin'), ('Continent', 'Europe'), ('2022 Population', '83369843'), ('2020 Population', '83328988'), ('2015 Population', '82073226'), ('2010 Population', '81325090'), ('2000 Population', '81551677'), ('1990 Population', '79370196'), ('1980 Population', '77786703'), ('1970 Population', '78294583'), ('Area (km²)', '357114'), ('Density (per km²)', '233.4544'), ('Growth Rate', '0.9995'), ('World Population Percentage', '1.05')]\n",
      "[('Rank', '47'), ('CCA3', 'GHA'), ('Country/Territory', 'Ghana'), ('Capital', 'Accra'), ('Continent', 'Africa'), ('2022 Population', '33475870'), ('2020 Population', '32180401'), ('2015 Population', '28870939'), ('2010 Population', '25574719'), ('2000 Population', '19665502'), ('1990 Population', '15446982'), ('1980 Population', '11865246'), ('1970 Population', '8861895'), ('Area (km²)', '238533'), ('Density (per km²)', '140.3406'), ('Growth Rate', '1.0196'), ('World Population Percentage', '0.42')]\n",
      "[('Rank', '219'), ('CCA3', 'GIB'), ('Country/Territory', 'Gibraltar'), ('Capital', 'Gibraltar'), ('Continent', 'Europe'), ('2022 Population', '32649'), ('2020 Population', '32709'), ('2015 Population', '32520'), ('2010 Population', '31262'), ('2000 Population', '27741'), ('1990 Population', '27317'), ('1980 Population', '28734'), ('1970 Population', '26685'), ('Area (km²)', '6'), ('Density (per km²)', '5441.5'), ('Growth Rate', '0.9994'), ('World Population Percentage', '0')]\n",
      "[('Rank', '90'), ('CCA3', 'GRC'), ('Country/Territory', 'Greece'), ('Capital', 'Athens'), ('Continent', 'Europe'), ('2022 Population', '10384971'), ('2020 Population', '10512232'), ('2015 Population', '10806641'), ('2010 Population', '11033783'), ('2000 Population', '11038109'), ('1990 Population', '10302255'), ('1980 Population', '9307148'), ('1970 Population', '8544873'), ('Area (km²)', '131990'), ('Density (per km²)', '78.68'), ('Growth Rate', '0.9942'), ('World Population Percentage', '0.13')]\n",
      "[('Rank', '208'), ('CCA3', 'GRL'), ('Country/Territory', 'Greenland'), ('Capital', 'Nuuk'), ('Continent', 'North America'), ('2022 Population', '56466'), ('2020 Population', '56026'), ('2015 Population', '55895'), ('2010 Population', '56351'), ('2000 Population', '56184'), ('1990 Population', '55599'), ('1980 Population', '50106'), ('1970 Population', '45434'), ('Area (km²)', '2166086'), ('Density (per km²)', '0.0261'), ('Growth Rate', '1.004'), ('World Population Percentage', '0')]\n",
      "[('Rank', '193'), ('CCA3', 'GRD'), ('Country/Territory', 'Grenada'), ('Capital', \"Saint George's\"), ('Continent', 'North America'), ('2022 Population', '125438'), ('2020 Population', '123663'), ('2015 Population', '118980'), ('2010 Population', '114039'), ('2000 Population', '107432'), ('1990 Population', '99047'), ('1980 Population', '94838'), ('1970 Population', '98794'), ('Area (km²)', '344'), ('Density (per km²)', '364.6453'), ('Growth Rate', '1.0066'), ('World Population Percentage', '0')]\n",
      "[('Rank', '178'), ('CCA3', 'GLP'), ('Country/Territory', 'Guadeloupe'), ('Capital', 'Basse-Terre'), ('Continent', 'North America'), ('2022 Population', '395752'), ('2020 Population', '395642'), ('2015 Population', '399089'), ('2010 Population', '403072'), ('2000 Population', '424067'), ('1990 Population', '391951'), ('1980 Population', '334234'), ('1970 Population', '318310'), ('Area (km²)', '1628'), ('Density (per km²)', '243.0909'), ('Growth Rate', '0.9992'), ('World Population Percentage', '0')]\n",
      "[('Rank', '191'), ('CCA3', 'GUM'), ('Country/Territory', 'Guam'), ('Capital', 'Hagåtña'), ('Continent', 'Oceania'), ('2022 Population', '171774'), ('2020 Population', '169231'), ('2015 Population', '167978'), ('2010 Population', '164905'), ('2000 Population', '160188'), ('1990 Population', '138263'), ('1980 Population', '110286'), ('1970 Population', '88300'), ('Area (km²)', '549'), ('Density (per km²)', '312.8852'), ('Growth Rate', '1.0073'), ('World Population Percentage', '0')]\n",
      "[('Rank', '68'), ('CCA3', 'GTM'), ('Country/Territory', 'Guatemala'), ('Capital', 'Guatemala City'), ('Continent', 'North America'), ('2022 Population', '17843908'), ('2020 Population', '17362718'), ('2015 Population', '16001107'), ('2010 Population', '14543121'), ('2000 Population', '11735894'), ('1990 Population', '9084780'), ('1980 Population', '6987767'), ('1970 Population', '5453208'), ('Area (km²)', '108889'), ('Density (per km²)', '163.8725'), ('Growth Rate', '1.0134'), ('World Population Percentage', '0.22')]\n",
      "[('Rank', '207'), ('CCA3', 'GGY'), ('Country/Territory', 'Guernsey'), ('Capital', 'Saint Peter Port'), ('Continent', 'Europe'), ('2022 Population', '63301'), ('2020 Population', '62794'), ('2015 Population', '61629'), ('2010 Population', '60782'), ('2000 Population', '59114'), ('1990 Population', '57727'), ('1980 Population', '52860'), ('1970 Population', '52656'), ('Area (km²)', '78'), ('Density (per km²)', '811.5513'), ('Growth Rate', '1.0037'), ('World Population Percentage', '0')]\n",
      "[('Rank', '75'), ('CCA3', 'GIN'), ('Country/Territory', 'Guinea'), ('Capital', 'Conakry'), ('Continent', 'Africa'), ('2022 Population', '13859341'), ('2020 Population', '13205153'), ('2015 Population', '11625998'), ('2010 Population', '10270728'), ('2000 Population', '8336967'), ('1990 Population', '6354145'), ('1980 Population', '4972609'), ('1970 Population', '4222374'), ('Area (km²)', '245857'), ('Density (per km²)', '56.3716'), ('Growth Rate', '1.0242'), ('World Population Percentage', '0.17')]\n",
      "[('Rank', '149'), ('CCA3', 'GNB'), ('Country/Territory', 'Guinea-Bissau'), ('Capital', 'Bissau'), ('Continent', 'Africa'), ('2022 Population', '2105566'), ('2020 Population', '2015828'), ('2015 Population', '1788919'), ('2010 Population', '1567220'), ('2000 Population', '1230849'), ('1990 Population', '973551'), ('1980 Population', '831462'), ('1970 Population', '591663'), ('Area (km²)', '36125'), ('Density (per km²)', '58.2856'), ('Growth Rate', '1.0218'), ('World Population Percentage', '0.03')]\n",
      "[('Rank', '164'), ('CCA3', 'GUY'), ('Country/Territory', 'Guyana'), ('Capital', 'Georgetown'), ('Continent', 'South America'), ('2022 Population', '808726'), ('2020 Population', '797202'), ('2015 Population', '755031'), ('2010 Population', '747932'), ('2000 Population', '759051'), ('1990 Population', '747116'), ('1980 Population', '778176'), ('1970 Population', '705261'), ('Area (km²)', '214969'), ('Density (per km²)', '3.7621'), ('Growth Rate', '1.0052'), ('World Population Percentage', '0.01')]\n",
      "[('Rank', '82'), ('CCA3', 'HTI'), ('Country/Territory', 'Haiti'), ('Capital', 'Port-au-Prince'), ('Continent', 'North America'), ('2022 Population', '11584996'), ('2020 Population', '11306801'), ('2015 Population', '10563757'), ('2010 Population', '9842880'), ('2000 Population', '8360225'), ('1990 Population', '6925331'), ('1980 Population', '5646676'), ('1970 Population', '4680812'), ('Area (km²)', '27750'), ('Density (per km²)', '417.4773'), ('Growth Rate', '1.012'), ('World Population Percentage', '0.15')]\n",
      "[('Rank', '89'), ('CCA3', 'HND'), ('Country/Territory', 'Honduras'), ('Capital', 'Tegucigalpa'), ('Continent', 'North America'), ('2022 Population', '10432860'), ('2020 Population', '10121763'), ('2015 Population', '9294505'), ('2010 Population', '8450933'), ('2000 Population', '6656725'), ('1990 Population', '5053234'), ('1980 Population', '3777990'), ('1970 Population', '2782753'), ('Area (km²)', '112492'), ('Density (per km²)', '92.7431'), ('Growth Rate', '1.015'), ('World Population Percentage', '0.13')]\n",
      "[('Rank', '104'), ('CCA3', 'HKG'), ('Country/Territory', 'Hong Kong'), ('Capital', 'Hong Kong'), ('Continent', 'Asia'), ('2022 Population', '7488865'), ('2020 Population', '7500958'), ('2015 Population', '7399838'), ('2010 Population', '7132438'), ('2000 Population', '6731195'), ('1990 Population', '5838574'), ('1980 Population', '4978544'), ('1970 Population', '3955072'), ('Area (km²)', '1104'), ('Density (per km²)', '6783.3922'), ('Growth Rate', '0.9992'), ('World Population Percentage', '0.09')]\n",
      "[('Rank', '94'), ('CCA3', 'HUN'), ('Country/Territory', 'Hungary'), ('Capital', 'Budapest'), ('Continent', 'Europe'), ('2022 Population', '9967308'), ('2020 Population', '9750573'), ('2015 Population', '9844246'), ('2010 Population', '9986825'), ('2000 Population', '10202055'), ('1990 Population', '10375989'), ('1980 Population', '10698679'), ('1970 Population', '10315366'), ('Area (km²)', '93028'), ('Density (per km²)', '107.1431'), ('Growth Rate', '1.0265'), ('World Population Percentage', '0.12')]\n",
      "[('Rank', '179'), ('CCA3', 'ISL'), ('Country/Territory', 'Iceland'), ('Capital', 'Reykjavík'), ('Continent', 'Europe'), ('2022 Population', '372899'), ('2020 Population', '366669'), ('2015 Population', '331060'), ('2010 Population', '318333'), ('2000 Population', '281462'), ('1990 Population', '255019'), ('1980 Population', '228263'), ('1970 Population', '204468'), ('Area (km²)', '103000'), ('Density (per km²)', '3.6204'), ('Growth Rate', '1.0069'), ('World Population Percentage', '0')]\n",
      "[('Rank', '2'), ('CCA3', 'IND'), ('Country/Territory', 'India'), ('Capital', 'New Delhi'), ('Continent', 'Asia'), ('2022 Population', '1417173173'), ('2020 Population', '1396387127'), ('2015 Population', '1322866505'), ('2010 Population', '1240613620'), ('2000 Population', '1059633675'), ('1990 Population', '870452165'), ('1980 Population', '696828385'), ('1970 Population', '557501301'), ('Area (km²)', '3287590'), ('Density (per km²)', '431.0675'), ('Growth Rate', '1.0068'), ('World Population Percentage', '17.77')]\n",
      "[('Rank', '4'), ('CCA3', 'IDN'), ('Country/Territory', 'Indonesia'), ('Capital', 'Jakarta'), ('Continent', 'Asia'), ('2022 Population', '275501339'), ('2020 Population', '271857970'), ('2015 Population', '259091970'), ('2010 Population', '244016173'), ('2000 Population', '214072421'), ('1990 Population', '182159874'), ('1980 Population', '148177096'), ('1970 Population', '115228394'), ('Area (km²)', '1904569'), ('Density (per km²)', '144.6529'), ('Growth Rate', '1.0064'), ('World Population Percentage', '3.45')]\n",
      "[('Rank', '17'), ('CCA3', 'IRN'), ('Country/Territory', 'Iran'), ('Capital', 'Tehran'), ('Continent', 'Asia'), ('2022 Population', '88550570'), ('2020 Population', '87290193'), ('2015 Population', '81790841'), ('2010 Population', '75373855'), ('2000 Population', '65544383'), ('1990 Population', '55793629'), ('1980 Population', '38520664'), ('1970 Population', '28449705'), ('Area (km²)', '1648195'), ('Density (per km²)', '53.7258'), ('Growth Rate', '1.0071'), ('World Population Percentage', '1.11')]\n",
      "[('Rank', '35'), ('CCA3', 'IRQ'), ('Country/Territory', 'Iraq'), ('Capital', 'Baghdad'), ('Continent', 'Asia'), ('2022 Population', '44496122'), ('2020 Population', '42556984'), ('2015 Population', '37757813'), ('2010 Population', '31264875'), ('2000 Population', '24628858'), ('1990 Population', '17658381'), ('1980 Population', '13653369'), ('1970 Population', '9811347'), ('Area (km²)', '438317'), ('Density (per km²)', '101.5158'), ('Growth Rate', '1.0221'), ('World Population Percentage', '0.56')]\n",
      "[('Rank', '125'), ('CCA3', 'IRL'), ('Country/Territory', 'Ireland'), ('Capital', 'Dublin'), ('Continent', 'Europe'), ('2022 Population', '5023109'), ('2020 Population', '4946119'), ('2015 Population', '4665760'), ('2010 Population', '4524585'), ('2000 Population', '3768950'), ('1990 Population', '3485374'), ('1980 Population', '3391387'), ('1970 Population', '2937637'), ('Area (km²)', '70273'), ('Density (per km²)', '71.4799'), ('Growth Rate', '1.0073'), ('World Population Percentage', '0.06')]\n",
      "[('Rank', '202'), ('CCA3', 'IMN'), ('Country/Territory', 'Isle of Man'), ('Capital', 'Douglas'), ('Continent', 'Europe'), ('2022 Population', '84519'), ('2020 Population', '84046'), ('2015 Population', '83593'), ('2010 Population', '83828'), ('2000 Population', '75562'), ('1990 Population', '68865'), ('1980 Population', '64022'), ('1970 Population', '55298'), ('Area (km²)', '572'), ('Density (per km²)', '147.7605'), ('Growth Rate', '1.003'), ('World Population Percentage', '0')]\n",
      "[('Rank', '98'), ('CCA3', 'ISR'), ('Country/Territory', 'Israel'), ('Capital', 'Jerusalem'), ('Continent', 'Asia'), ('2022 Population', '9038309'), ('2020 Population', '8757489'), ('2015 Population', '8007778'), ('2010 Population', '7328445'), ('2000 Population', '6116958'), ('1990 Population', '4803254'), ('1980 Population', '3744608'), ('1970 Population', '2907307'), ('Area (km²)', '20770'), ('Density (per km²)', '435.1617'), ('Growth Rate', '1.0155'), ('World Population Percentage', '0.11')]\n",
      "[('Rank', '25'), ('CCA3', 'ITA'), ('Country/Territory', 'Italy'), ('Capital', 'Rome'), ('Continent', 'Europe'), ('2022 Population', '59037474'), ('2020 Population', '59500579'), ('2015 Population', '60232906'), ('2010 Population', '59822450'), ('2000 Population', '56966397'), ('1990 Population', '56756561'), ('1980 Population', '56329482'), ('1970 Population', '53324036'), ('Area (km²)', '301336'), ('Density (per km²)', '195.9191'), ('Growth Rate', '0.9966'), ('World Population Percentage', '0.74')]\n",
      "[('Rank', '52'), ('CCA3', 'CIV'), ('Country/Territory', 'Ivory Coast'), ('Capital', 'Yamoussoukro'), ('Continent', 'Africa'), ('2022 Population', '28160542'), ('2020 Population', '26811790'), ('2015 Population', '23596741'), ('2010 Population', '21120042'), ('2000 Population', '16799670'), ('1990 Population', '11910540'), ('1980 Population', '8303809'), ('1970 Population', '5477086'), ('Area (km²)', '322463'), ('Density (per km²)', '87.3295'), ('Growth Rate', '1.0248'), ('World Population Percentage', '0.35')]\n",
      "[('Rank', '139'), ('CCA3', 'JAM'), ('Country/Territory', 'Jamaica'), ('Capital', 'Kingston'), ('Continent', 'North America'), ('2022 Population', '2827377'), ('2020 Population', '2820436'), ('2015 Population', '2794445'), ('2010 Population', '2733896'), ('2000 Population', '2612205'), ('1990 Population', '2392030'), ('1980 Population', '2135546'), ('1970 Population', '1859091'), ('Area (km²)', '10991'), ('Density (per km²)', '257.2447'), ('Growth Rate', '0.9999'), ('World Population Percentage', '0.04')]\n",
      "[('Rank', '11'), ('CCA3', 'JPN'), ('Country/Territory', 'Japan'), ('Capital', 'Tokyo'), ('Continent', 'Asia'), ('2022 Population', '123951692'), ('2020 Population', '125244761'), ('2015 Population', '127250933'), ('2010 Population', '128105431'), ('2000 Population', '126803861'), ('1990 Population', '123686321'), ('1980 Population', '117624196'), ('1970 Population', '105416839'), ('Area (km²)', '377930'), ('Density (per km²)', '327.9753'), ('Growth Rate', '0.9947'), ('World Population Percentage', '1.55')]\n",
      "[('Rank', '195'), ('CCA3', 'JEY'), ('Country/Territory', 'Jersey'), ('Capital', 'Saint Helier'), ('Continent', 'Europe'), ('2022 Population', '110778'), ('2020 Population', '108319'), ('2015 Population', '100561'), ('2010 Population', '96151'), ('2000 Population', '86192'), ('1990 Population', '82874'), ('1980 Population', '75124'), ('1970 Population', '68347'), ('Area (km²)', '116'), ('Density (per km²)', '954.9828'), ('Growth Rate', '1.0106'), ('World Population Percentage', '0')]\n",
      "[('Rank', '83'), ('CCA3', 'JOR'), ('Country/Territory', 'Jordan'), ('Capital', 'Amman'), ('Continent', 'Asia'), ('2022 Population', '11285869'), ('2020 Population', '10928721'), ('2015 Population', '9494246'), ('2010 Population', '6931258'), ('2000 Population', '5056174'), ('1990 Population', '3480587'), ('1980 Population', '2216903'), ('1970 Population', '1557374'), ('Area (km²)', '89342'), ('Density (per km²)', '126.3221'), ('Growth Rate', '1.0123'), ('World Population Percentage', '0.14')]\n",
      "[('Rank', '66'), ('CCA3', 'KAZ'), ('Country/Territory', 'Kazakhstan'), ('Capital', 'Nursultan'), ('Continent', 'Asia'), ('2022 Population', '19397998'), ('2020 Population', '18979243'), ('2015 Population', '17835909'), ('2010 Population', '16627837'), ('2000 Population', '15236253'), ('1990 Population', '16866563'), ('1980 Population', '14172710'), ('1970 Population', '12265305'), ('Area (km²)', '2724900'), ('Density (per km²)', '7.1188'), ('Growth Rate', '1.0105'), ('World Population Percentage', '0.24')]\n",
      "[('Rank', '27'), ('CCA3', 'KEN'), ('Country/Territory', 'Kenya'), ('Capital', 'Nairobi'), ('Continent', 'Africa'), ('2022 Population', '54027487'), ('2020 Population', '51985780'), ('2015 Population', '46851488'), ('2010 Population', '41517895'), ('2000 Population', '30851606'), ('1990 Population', '23162269'), ('1980 Population', '16187124'), ('1970 Population', '11473087'), ('Area (km²)', '580367'), ('Density (per km²)', '93.0919'), ('Growth Rate', '1.0193'), ('World Population Percentage', '0.68')]\n",
      "[('Rank', '192'), ('CCA3', 'KIR'), ('Country/Territory', 'Kiribati'), ('Capital', 'Tarawa'), ('Continent', 'Oceania'), ('2022 Population', '131232'), ('2020 Population', '126463'), ('2015 Population', '116707'), ('2010 Population', '107995'), ('2000 Population', '88826'), ('1990 Population', '75124'), ('1980 Population', '60813'), ('1970 Population', '57437'), ('Area (km²)', '811'), ('Density (per km²)', '161.815'), ('Growth Rate', '1.0183'), ('World Population Percentage', '0')]\n",
      "[('Rank', '129'), ('CCA3', 'KWT'), ('Country/Territory', 'Kuwait'), ('Capital', 'Kuwait City'), ('Continent', 'Asia'), ('2022 Population', '4268873'), ('2020 Population', '4360444'), ('2015 Population', '3908743'), ('2010 Population', '2943356'), ('2000 Population', '1934901'), ('1990 Population', '1674938'), ('1980 Population', '1493870'), ('1970 Population', '802786'), ('Area (km²)', '17818'), ('Density (per km²)', '239.5821'), ('Growth Rate', '1.0044'), ('World Population Percentage', '0.05')]\n",
      "[('Rank', '110'), ('CCA3', 'KGZ'), ('Country/Territory', 'Kyrgyzstan'), ('Capital', 'Bishkek'), ('Continent', 'Asia'), ('2022 Population', '6630623'), ('2020 Population', '6424874'), ('2015 Population', '5914980'), ('2010 Population', '5483774'), ('2000 Population', '4935182'), ('1990 Population', '4394734'), ('1980 Population', '3691209'), ('1970 Population', '3016384'), ('Area (km²)', '199951'), ('Density (per km²)', '33.1612'), ('Growth Rate', '1.0158'), ('World Population Percentage', '0.08')]\n",
      "[('Rank', '103'), ('CCA3', 'LAO'), ('Country/Territory', 'Laos'), ('Capital', 'Vientiane'), ('Continent', 'Asia'), ('2022 Population', '7529475'), ('2020 Population', '7319399'), ('2015 Population', '6787419'), ('2010 Population', '6323418'), ('2000 Population', '5430853'), ('1990 Population', '4314443'), ('1980 Population', '3297519'), ('1970 Population', '2675283'), ('Area (km²)', '236800'), ('Density (per km²)', '31.7968'), ('Growth Rate', '1.0141'), ('World Population Percentage', '0.09')]\n",
      "[('Rank', '151'), ('CCA3', 'LVA'), ('Country/Territory', 'Latvia'), ('Capital', 'Riga'), ('Continent', 'Europe'), ('2022 Population', '1850651'), ('2020 Population', '1897052'), ('2015 Population', '1991955'), ('2010 Population', '2101530'), ('2000 Population', '2392530'), ('1990 Population', '2689391'), ('1980 Population', '2572037'), ('1970 Population', '2397414'), ('Area (km²)', '64559'), ('Density (per km²)', '28.666'), ('Growth Rate', '0.9876'), ('World Population Percentage', '0.02')]\n",
      "[('Rank', '119'), ('CCA3', 'LBN'), ('Country/Territory', 'Lebanon'), ('Capital', 'Beirut'), ('Continent', 'Asia'), ('2022 Population', '5489739'), ('2020 Population', '5662923'), ('2015 Population', '6398940'), ('2010 Population', '4995800'), ('2000 Population', '4320642'), ('1990 Population', '3593700'), ('1980 Population', '2963702'), ('1970 Population', '2381791'), ('Area (km²)', '10452'), ('Density (per km²)', '525.2334'), ('Growth Rate', '0.9816'), ('World Population Percentage', '0.07')]\n",
      "[('Rank', '147'), ('CCA3', 'LSO'), ('Country/Territory', 'Lesotho'), ('Capital', 'Maseru'), ('Continent', 'Africa'), ('2022 Population', '2305825'), ('2020 Population', '2254100'), ('2015 Population', '2118521'), ('2010 Population', '2022747'), ('2000 Population', '1998630'), ('1990 Population', '1798997'), ('1980 Population', '1407672'), ('1970 Population', '1023481'), ('Area (km²)', '30355'), ('Density (per km²)', '75.962'), ('Growth Rate', '1.0107'), ('World Population Percentage', '0.03')]\n",
      "[('Rank', '121'), ('CCA3', 'LBR'), ('Country/Territory', 'Liberia'), ('Capital', 'Monrovia'), ('Continent', 'Africa'), ('2022 Population', '5302681'), ('2020 Population', '5087584'), ('2015 Population', '4612329'), ('2010 Population', '4019956'), ('2000 Population', '2895224'), ('1990 Population', '2209731'), ('1980 Population', '1932169'), ('1970 Population', '1463563'), ('Area (km²)', '111369'), ('Density (per km²)', '47.6136'), ('Growth Rate', '1.021'), ('World Population Percentage', '0.07')]\n",
      "[('Rank', '107'), ('CCA3', 'LBY'), ('Country/Territory', 'Libya'), ('Capital', 'Tripoli'), ('Continent', 'Africa'), ('2022 Population', '6812341'), ('2020 Population', '6653942'), ('2015 Population', '6192235'), ('2010 Population', '6491988'), ('2000 Population', '5154790'), ('1990 Population', '4236983'), ('1980 Population', '2962720'), ('1970 Population', '1909177'), ('Area (km²)', '1759540'), ('Density (per km²)', '3.8717'), ('Growth Rate', '1.0114'), ('World Population Percentage', '0.09')]\n",
      "[('Rank', '216'), ('CCA3', 'LIE'), ('Country/Territory', 'Liechtenstein'), ('Capital', 'Vaduz'), ('Continent', 'Europe'), ('2022 Population', '39327'), ('2020 Population', '38756'), ('2015 Population', '37355'), ('2010 Population', '35926'), ('2000 Population', '33026'), ('1990 Population', '28765'), ('1980 Population', '25003'), ('1970 Population', '21089'), ('Area (km²)', '160'), ('Density (per km²)', '245.7937'), ('Growth Rate', '1.0074'), ('World Population Percentage', '0')]\n",
      "[('Rank', '141'), ('CCA3', 'LTU'), ('Country/Territory', 'Lithuania'), ('Capital', 'Vilnius'), ('Continent', 'Europe'), ('2022 Population', '2750055'), ('2020 Population', '2820267'), ('2015 Population', '2963765'), ('2010 Population', '3139019'), ('2000 Population', '3599637'), ('1990 Population', '3785847'), ('1980 Population', '3521206'), ('1970 Population', '3210147'), ('Area (km²)', '65300'), ('Density (per km²)', '42.1142'), ('Growth Rate', '0.9869'), ('World Population Percentage', '0.03')]\n",
      "[('Rank', '168'), ('CCA3', 'LUX'), ('Country/Territory', 'Luxembourg'), ('Capital', 'Luxembourg'), ('Continent', 'Europe'), ('2022 Population', '647599'), ('2020 Population', '630399'), ('2015 Population', '569408'), ('2010 Population', '507070'), ('2000 Population', '435628'), ('1990 Population', '381267'), ('1980 Population', '363741'), ('1970 Population', '339342'), ('Area (km²)', '2586'), ('Density (per km²)', '250.425'), ('Growth Rate', '1.0129'), ('World Population Percentage', '0.01')]\n",
      "[('Rank', '167'), ('CCA3', 'MAC'), ('Country/Territory', 'Macau'), ('Capital', 'Concelho de Macau'), ('Continent', 'Asia'), ('2022 Population', '695168'), ('2020 Population', '676283'), ('2015 Population', '615239'), ('2010 Population', '557297'), ('2000 Population', '431896'), ('1990 Population', '350227'), ('1980 Population', '245332'), ('1970 Population', '247284'), ('Area (km²)', '30'), ('Density (per km²)', '23172.2667'), ('Growth Rate', '1.0125'), ('World Population Percentage', '0.01')]\n",
      "[('Rank', '50'), ('CCA3', 'MDG'), ('Country/Territory', 'Madagascar'), ('Capital', 'Antananarivo'), ('Continent', 'Africa'), ('2022 Population', '29611714'), ('2020 Population', '28225177'), ('2015 Population', '24850912'), ('2010 Population', '21731053'), ('2000 Population', '16216431'), ('1990 Population', '11882762'), ('1980 Population', '8948162'), ('1970 Population', '6639751'), ('Area (km²)', '587041'), ('Density (per km²)', '50.4423'), ('Growth Rate', '1.0241'), ('World Population Percentage', '0.37')]\n",
      "[('Rank', '62'), ('CCA3', 'MWI'), ('Country/Territory', 'Malawi'), ('Capital', 'Lilongwe'), ('Continent', 'Africa'), ('2022 Population', '20405317'), ('2020 Population', '19377061'), ('2015 Population', '16938942'), ('2010 Population', '14718422'), ('2000 Population', '11229387'), ('1990 Population', '9539665'), ('1980 Population', '6267369'), ('1970 Population', '4625141'), ('Area (km²)', '118484'), ('Density (per km²)', '172.22'), ('Growth Rate', '1.0259'), ('World Population Percentage', '0.26')]\n",
      "[('Rank', '45'), ('CCA3', 'MYS'), ('Country/Territory', 'Malaysia'), ('Capital', 'Kuala Lumpur'), ('Continent', 'Asia'), ('2022 Population', '33938221'), ('2020 Population', '33199993'), ('2015 Population', '31068833'), ('2010 Population', '28717731'), ('2000 Population', '22945150'), ('1990 Population', '17517054'), ('1980 Population', '13215707'), ('1970 Population', '10306508'), ('Area (km²)', '330803'), ('Density (per km²)', '102.5934'), ('Growth Rate', '1.0109'), ('World Population Percentage', '0.43')]\n",
      "[('Rank', '174'), ('CCA3', 'MDV'), ('Country/Territory', 'Maldives'), ('Capital', 'Malé'), ('Continent', 'Asia'), ('2022 Population', '523787'), ('2020 Population', '514438'), ('2015 Population', '435582'), ('2010 Population', '361575'), ('2000 Population', '282507'), ('1990 Population', '224957'), ('1980 Population', '164887'), ('1970 Population', '123243'), ('Area (km²)', '300'), ('Density (per km²)', '1745.9567'), ('Growth Rate', '1.0045'), ('World Population Percentage', '0.01')]\n",
      "[('Rank', '59'), ('CCA3', 'MLI'), ('Country/Territory', 'Mali'), ('Capital', 'Bamako'), ('Continent', 'Africa'), ('2022 Population', '22593590'), ('2020 Population', '21224040'), ('2015 Population', '18112907'), ('2010 Population', '15529181'), ('2000 Population', '11239101'), ('1990 Population', '8945026'), ('1980 Population', '7372581'), ('1970 Population', '6153587'), ('Area (km²)', '1240192'), ('Density (per km²)', '18.2178'), ('Growth Rate', '1.0314'), ('World Population Percentage', '0.28')]\n",
      "[('Rank', '173'), ('CCA3', 'MLT'), ('Country/Territory', 'Malta'), ('Capital', 'Valletta'), ('Continent', 'Europe'), ('2022 Population', '533286'), ('2020 Population', '515357'), ('2015 Population', '456579'), ('2010 Population', '418755'), ('2000 Population', '399212'), ('1990 Population', '365392'), ('1980 Population', '333587'), ('1970 Population', '315414'), ('Area (km²)', '316'), ('Density (per km²)', '1687.6139'), ('Growth Rate', '1.0124'), ('World Population Percentage', '0.01')]\n",
      "[('Rank', '215'), ('CCA3', 'MHL'), ('Country/Territory', 'Marshall Islands'), ('Capital', 'Majuro'), ('Continent', 'Oceania'), ('2022 Population', '41569'), ('2020 Population', '43413'), ('2015 Population', '49410'), ('2010 Population', '53416'), ('2000 Population', '54224'), ('1990 Population', '46047'), ('1980 Population', '31988'), ('1970 Population', '23969'), ('Area (km²)', '181'), ('Density (per km²)', '229.663'), ('Growth Rate', '0.9886'), ('World Population Percentage', '0')]\n",
      "[('Rank', '180'), ('CCA3', 'MTQ'), ('Country/Territory', 'Martinique'), ('Capital', 'Fort-de-France'), ('Continent', 'North America'), ('2022 Population', '367507'), ('2020 Population', '370391'), ('2015 Population', '383515'), ('2010 Population', '392181'), ('2000 Population', '432543'), ('1990 Population', '374271'), ('1980 Population', '333786'), ('1970 Population', '326428'), ('Area (km²)', '1128'), ('Density (per km²)', '325.8041'), ('Growth Rate', '0.9965'), ('World Population Percentage', '0')]\n",
      "[('Rank', '126'), ('CCA3', 'MRT'), ('Country/Territory', 'Mauritania'), ('Capital', 'Nouakchott'), ('Continent', 'Africa'), ('2022 Population', '4736139'), ('2020 Population', '4498604'), ('2015 Population', '3946220'), ('2010 Population', '3419461'), ('2000 Population', '2695003'), ('1990 Population', '2006027'), ('1980 Population', '1506694'), ('1970 Population', '1122198'), ('Area (km²)', '1030700'), ('Density (per km²)', '4.5951'), ('Growth Rate', '1.0263'), ('World Population Percentage', '0.06')]\n",
      "[('Rank', '157'), ('CCA3', 'MUS'), ('Country/Territory', 'Mauritius'), ('Capital', 'Port Louis'), ('Continent', 'Africa'), ('2022 Population', '1299469'), ('2020 Population', '1297828'), ('2015 Population', '1293153'), ('2010 Population', '1283330'), ('2000 Population', '1215930'), ('1990 Population', '1090290'), ('1980 Population', '954865'), ('1970 Population', '830115'), ('Area (km²)', '2040'), ('Density (per km²)', '636.9946'), ('Growth Rate', '1.0004'), ('World Population Percentage', '0.02')]\n",
      "[('Rank', '182'), ('CCA3', 'MYT'), ('Country/Territory', 'Mayotte'), ('Capital', 'Mamoudzou'), ('Continent', 'Africa'), ('2022 Population', '326101'), ('2020 Population', '305587'), ('2015 Population', '249545'), ('2010 Population', '211786'), ('2000 Population', '159215'), ('1990 Population', '92659'), ('1980 Population', '52233'), ('1970 Population', '35383'), ('Area (km²)', '374'), ('Density (per km²)', '871.9278'), ('Growth Rate', '1.0319'), ('World Population Percentage', '0')]\n",
      "[('Rank', '10'), ('CCA3', 'MEX'), ('Country/Territory', 'Mexico'), ('Capital', 'Mexico City'), ('Continent', 'North America'), ('2022 Population', '127504125'), ('2020 Population', '125998302'), ('2015 Population', '120149897'), ('2010 Population', '112532401'), ('2000 Population', '97873442'), ('1990 Population', '81720428'), ('1980 Population', '67705186'), ('1970 Population', '50289306'), ('Area (km²)', '1964375'), ('Density (per km²)', '64.9082'), ('Growth Rate', '1.0063'), ('World Population Percentage', '1.6')]\n",
      "[('Rank', '194'), ('CCA3', 'FSM'), ('Country/Territory', 'Micronesia'), ('Capital', 'Palikir'), ('Continent', 'Oceania'), ('2022 Population', '114164'), ('2020 Population', '112106'), ('2015 Population', '109462'), ('2010 Population', '107588'), ('2000 Population', '111709'), ('1990 Population', '98603'), ('1980 Population', '76299'), ('1970 Population', '58989'), ('Area (km²)', '702'), ('Density (per km²)', '162.6268'), ('Growth Rate', '1.0091'), ('World Population Percentage', '0')]\n",
      "[('Rank', '135'), ('CCA3', 'MDA'), ('Country/Territory', 'Moldova'), ('Capital', 'Chisinau'), ('Continent', 'Europe'), ('2022 Population', '3272996'), ('2020 Population', '3084847'), ('2015 Population', '3277388'), ('2010 Population', '3678186'), ('2000 Population', '4251573'), ('1990 Population', '4480199'), ('1980 Population', '4103240'), ('1970 Population', '3711140'), ('Area (km²)', '33846'), ('Density (per km²)', '96.7026'), ('Growth Rate', '1.0691'), ('World Population Percentage', '0.04')]\n",
      "[('Rank', '217'), ('CCA3', 'MCO'), ('Country/Territory', 'Monaco'), ('Capital', 'Monaco'), ('Continent', 'Europe'), ('2022 Population', '36469'), ('2020 Population', '36922'), ('2015 Population', '36760'), ('2010 Population', '33178'), ('2000 Population', '32465'), ('1990 Population', '30329'), ('1980 Population', '27076'), ('1970 Population', '24270'), ('Area (km²)', '2'), ('Density (per km²)', '18234.5'), ('Growth Rate', '0.9941'), ('World Population Percentage', '0')]\n",
      "[('Rank', '134'), ('CCA3', 'MNG'), ('Country/Territory', 'Mongolia'), ('Capital', 'Ulaanbaatar'), ('Continent', 'Asia'), ('2022 Population', '3398366'), ('2020 Population', '3294335'), ('2015 Population', '2964749'), ('2010 Population', '2702520'), ('2000 Population', '2450979'), ('1990 Population', '2161433'), ('1980 Population', '1697780'), ('1970 Population', '1293880'), ('Area (km²)', '1564110'), ('Density (per km²)', '2.1727'), ('Growth Rate', '1.0151'), ('World Population Percentage', '0.04')]\n",
      "[('Rank', '169'), ('CCA3', 'MNE'), ('Country/Territory', 'Montenegro'), ('Capital', 'Podgorica'), ('Continent', 'Europe'), ('2022 Population', '627082'), ('2020 Population', '629048'), ('2015 Population', '633966'), ('2010 Population', '631044'), ('2000 Population', '633324'), ('1990 Population', '621442'), ('1980 Population', '589324'), ('1970 Population', '530268'), ('Area (km²)', '13812'), ('Density (per km²)', '45.4012'), ('Growth Rate', '0.9988'), ('World Population Percentage', '0.01')]\n",
      "[('Rank', '230'), ('CCA3', 'MSR'), ('Country/Territory', 'Montserrat'), ('Capital', 'Brades'), ('Continent', 'North America'), ('2022 Population', '4390'), ('2020 Population', '4500'), ('2015 Population', '5059'), ('2010 Population', '4938'), ('2000 Population', '5138'), ('1990 Population', '10805'), ('1980 Population', '11452'), ('1970 Population', '11402'), ('Area (km²)', '102'), ('Density (per km²)', '43.0392'), ('Growth Rate', '0.9939'), ('World Population Percentage', '0')]\n",
      "[('Rank', '40'), ('CCA3', 'MAR'), ('Country/Territory', 'Morocco'), ('Capital', 'Rabat'), ('Continent', 'Africa'), ('2022 Population', '37457971'), ('2020 Population', '36688772'), ('2015 Population', '34680458'), ('2010 Population', '32464865'), ('2000 Population', '28554415'), ('1990 Population', '24570814'), ('1980 Population', '19678444'), ('1970 Population', '15274351'), ('Area (km²)', '446550'), ('Density (per km²)', '83.883'), ('Growth Rate', '1.0103'), ('World Population Percentage', '0.47')]\n",
      "[('Rank', '48'), ('CCA3', 'MOZ'), ('Country/Territory', 'Mozambique'), ('Capital', 'Maputo'), ('Continent', 'Africa'), ('2022 Population', '32969517'), ('2020 Population', '31178239'), ('2015 Population', '26843246'), ('2010 Population', '23073723'), ('2000 Population', '17768505'), ('1990 Population', '13303459'), ('1980 Population', '11413587'), ('1970 Population', '8411676'), ('Area (km²)', '801590'), ('Density (per km²)', '41.1302'), ('Growth Rate', '1.0278'), ('World Population Percentage', '0.41')]\n",
      "[('Rank', '26'), ('CCA3', 'MMR'), ('Country/Territory', 'Myanmar'), ('Capital', 'Nay Pyi Taw'), ('Continent', 'Asia'), ('2022 Population', '54179306'), ('2020 Population', '53423198'), ('2015 Population', '51483949'), ('2010 Population', '49390988'), ('2000 Population', '45538332'), ('1990 Population', '40099553'), ('1980 Population', '33465781'), ('1970 Population', '27284112'), ('Area (km²)', '676578'), ('Density (per km²)', '80.0784'), ('Growth Rate', '1.0071'), ('World Population Percentage', '0.68')]\n",
      "[('Rank', '145'), ('CCA3', 'NAM'), ('Country/Territory', 'Namibia'), ('Capital', 'Windhoek'), ('Continent', 'Africa'), ('2022 Population', '2567012'), ('2020 Population', '2489098'), ('2015 Population', '2282704'), ('2010 Population', '2099271'), ('2000 Population', '1819141'), ('1990 Population', '1369011'), ('1980 Population', '975994'), ('1970 Population', '754467'), ('Area (km²)', '825615'), ('Density (per km²)', '3.1092'), ('Growth Rate', '1.0146'), ('World Population Percentage', '0.03')]\n",
      "[('Rank', '225'), ('CCA3', 'NRU'), ('Country/Territory', 'Nauru'), ('Capital', 'Yaren'), ('Continent', 'Oceania'), ('2022 Population', '12668'), ('2020 Population', '12315'), ('2015 Population', '11185'), ('2010 Population', '10241'), ('2000 Population', '10377'), ('1990 Population', '9598'), ('1980 Population', '7635'), ('1970 Population', '6663'), ('Area (km²)', '21'), ('Density (per km²)', '603.2381'), ('Growth Rate', '1.0125'), ('World Population Percentage', '0')]\n",
      "[('Rank', '49'), ('CCA3', 'NPL'), ('Country/Territory', 'Nepal'), ('Capital', 'Kathmandu'), ('Continent', 'Asia'), ('2022 Population', '30547580'), ('2020 Population', '29348627'), ('2015 Population', '27610325'), ('2010 Population', '27161567'), ('2000 Population', '24559500'), ('1990 Population', '19616530'), ('1980 Population', '15600442'), ('1970 Population', '12501285'), ('Area (km²)', '147181'), ('Density (per km²)', '207.5511'), ('Growth Rate', '1.0171'), ('World Population Percentage', '0.38')]\n",
      "[('Rank', '71'), ('CCA3', 'NLD'), ('Country/Territory', 'Netherlands'), ('Capital', 'Amsterdam'), ('Continent', 'Europe'), ('2022 Population', '17564014'), ('2020 Population', '17434557'), ('2015 Population', '17041107'), ('2010 Population', '16617116'), ('2000 Population', '15899135'), ('1990 Population', '14944548'), ('1980 Population', '14130387'), ('1970 Population', '13037686'), ('Area (km²)', '41850'), ('Density (per km²)', '419.6897'), ('Growth Rate', '1.0036'), ('World Population Percentage', '0.22')]\n",
      "[('Rank', '185'), ('CCA3', 'NCL'), ('Country/Territory', 'New Caledonia'), ('Capital', 'Nouméa'), ('Continent', 'Oceania'), ('2022 Population', '289950'), ('2020 Population', '286403'), ('2015 Population', '283032'), ('2010 Population', '261426'), ('2000 Population', '221537'), ('1990 Population', '177264'), ('1980 Population', '148599'), ('1970 Population', '110982'), ('Area (km²)', '18575'), ('Density (per km²)', '15.6097'), ('Growth Rate', '1.0075'), ('World Population Percentage', '0')]\n",
      "[('Rank', '123'), ('CCA3', 'NZL'), ('Country/Territory', 'New Zealand'), ('Capital', 'Wellington'), ('Continent', 'Oceania'), ('2022 Population', '5185288'), ('2020 Population', '5061133'), ('2015 Population', '4590590'), ('2010 Population', '4346338'), ('2000 Population', '3855266'), ('1990 Population', '3397389'), ('1980 Population', '3147168'), ('1970 Population', '2824061'), ('Area (km²)', '270467'), ('Density (per km²)', '19.1716'), ('Growth Rate', '1.0108'), ('World Population Percentage', '0.07')]\n",
      "[('Rank', '106'), ('CCA3', 'NIC'), ('Country/Territory', 'Nicaragua'), ('Capital', 'Managua'), ('Continent', 'North America'), ('2022 Population', '6948392'), ('2020 Population', '6755895'), ('2015 Population', '6298598'), ('2010 Population', '5855734'), ('2000 Population', '5123222'), ('1990 Population', '4227820'), ('1980 Population', '3303309'), ('1970 Population', '2444767'), ('Area (km²)', '130373'), ('Density (per km²)', '53.2962'), ('Growth Rate', '1.0143'), ('World Population Percentage', '0.09')]\n",
      "[('Rank', '54'), ('CCA3', 'NER'), ('Country/Territory', 'Niger'), ('Capital', 'Niamey'), ('Continent', 'Africa'), ('2022 Population', '26207977'), ('2020 Population', '24333639'), ('2015 Population', '20128124'), ('2010 Population', '16647543'), ('2000 Population', '11622665'), ('1990 Population', '8370647'), ('1980 Population', '6173177'), ('1970 Population', '4669708'), ('Area (km²)', '1267000'), ('Density (per km²)', '20.6851'), ('Growth Rate', '1.0378'), ('World Population Percentage', '0.33')]\n",
      "[('Rank', '6'), ('CCA3', 'NGA'), ('Country/Territory', 'Nigeria'), ('Capital', 'Abuja'), ('Continent', 'Africa'), ('2022 Population', '218541212'), ('2020 Population', '208327405'), ('2015 Population', '183995785'), ('2010 Population', '160952853'), ('2000 Population', '122851984'), ('1990 Population', '95214257'), ('1980 Population', '72951439'), ('1970 Population', '55569264'), ('Area (km²)', '923768'), ('Density (per km²)', '236.5759'), ('Growth Rate', '1.0241'), ('World Population Percentage', '2.74')]\n",
      "[('Rank', '232'), ('CCA3', 'NIU'), ('Country/Territory', 'Niue'), ('Capital', 'Alofi'), ('Continent', 'Oceania'), ('2022 Population', '1934'), ('2020 Population', '1942'), ('2015 Population', '1847'), ('2010 Population', '1812'), ('2000 Population', '2074'), ('1990 Population', '2533'), ('1980 Population', '3637'), ('1970 Population', '5185'), ('Area (km²)', '260'), ('Density (per km²)', '7.4385'), ('Growth Rate', '0.9985'), ('World Population Percentage', '0')]\n",
      "[('Rank', '56'), ('CCA3', 'PRK'), ('Country/Territory', 'North Korea'), ('Capital', 'Pyongyang'), ('Continent', 'Asia'), ('2022 Population', '26069416'), ('2020 Population', '25867467'), ('2015 Population', '25258015'), ('2010 Population', '24686435'), ('2000 Population', '23367059'), ('1990 Population', '20799523'), ('1980 Population', '17973650'), ('1970 Population', '14996879'), ('Area (km²)', '120538'), ('Density (per km²)', '216.2755'), ('Growth Rate', '1.0038'), ('World Population Percentage', '0.33')]\n",
      "[('Rank', '150'), ('CCA3', 'MKD'), ('Country/Territory', 'North Macedonia'), ('Capital', 'Skopje'), ('Continent', 'Europe'), ('2022 Population', '2093599'), ('2020 Population', '2111072'), ('2015 Population', '2107962'), ('2010 Population', '2093828'), ('2000 Population', '2037936'), ('1990 Population', '2044174'), ('1980 Population', '1907023'), ('1970 Population', '1656783'), ('Area (km²)', '25713'), ('Density (per km²)', '81.4218'), ('Growth Rate', '0.9954'), ('World Population Percentage', '0.03')]\n",
      "[('Rank', '210'), ('CCA3', 'NFK'), ('Country/Territory', 'Northern Mariana Islands'), ('Capital', 'Saipan'), ('Continent', 'Oceania'), ('2022 Population', '49551'), ('2020 Population', '49587'), ('2015 Population', '51514'), ('2010 Population', '54087'), ('2000 Population', '80338'), ('1990 Population', '48002'), ('1980 Population', '17613'), ('1970 Population', '10143'), ('Area (km²)', '464'), ('Density (per km²)', '106.7909'), ('Growth Rate', '1.0014'), ('World Population Percentage', '0')]\n",
      "[('Rank', '120'), ('CCA3', 'NOR'), ('Country/Territory', 'Norway'), ('Capital', 'Oslo'), ('Continent', 'Europe'), ('2022 Population', '5434319'), ('2020 Population', '5379839'), ('2015 Population', '5190356'), ('2010 Population', '4889741'), ('2000 Population', '4491202'), ('1990 Population', '4241636'), ('1980 Population', '4085776'), ('1970 Population', '3875546'), ('Area (km²)', '323802'), ('Density (per km²)', '16.7828'), ('Growth Rate', '1.0058'), ('World Population Percentage', '0.07')]\n",
      "[('Rank', '127'), ('CCA3', 'OMN'), ('Country/Territory', 'Oman'), ('Capital', 'Muscat'), ('Continent', 'Asia'), ('2022 Population', '4576298'), ('2020 Population', '4543399'), ('2015 Population', '4191776'), ('2010 Population', '2881914'), ('2000 Population', '2344253'), ('1990 Population', '1804524'), ('1980 Population', '1017462'), ('1970 Population', '670693'), ('Area (km²)', '309500'), ('Density (per km²)', '14.7861'), ('Growth Rate', '1.0123'), ('World Population Percentage', '0.06')]\n",
      "[('Rank', '5'), ('CCA3', 'PAK'), ('Country/Territory', 'Pakistan'), ('Capital', 'Islamabad'), ('Continent', 'Asia'), ('2022 Population', '235824862'), ('2020 Population', '227196741'), ('2015 Population', '210969298'), ('2010 Population', '194454498'), ('2000 Population', '154369924'), ('1990 Population', '115414069'), ('1980 Population', '80624057'), ('1970 Population', '59290872'), ('Area (km²)', '881912'), ('Density (per km²)', '267.4018'), ('Growth Rate', '1.0191'), ('World Population Percentage', '2.96')]\n",
      "[('Rank', '222'), ('CCA3', 'PLW'), ('Country/Territory', 'Palau'), ('Capital', 'Ngerulmud'), ('Continent', 'Oceania'), ('2022 Population', '18055'), ('2020 Population', '17972'), ('2015 Population', '17794'), ('2010 Population', '18540'), ('2000 Population', '19726'), ('1990 Population', '15293'), ('1980 Population', '12252'), ('1970 Population', '11366'), ('Area (km²)', '459'), ('Density (per km²)', '39.3355'), ('Growth Rate', '1.0017'), ('World Population Percentage', '0')]\n",
      "[('Rank', '122'), ('CCA3', 'PSE'), ('Country/Territory', 'Palestine'), ('Capital', 'Ramallah'), ('Continent', 'Asia'), ('2022 Population', '5250072'), ('2020 Population', '5019401'), ('2015 Population', '4484614'), ('2010 Population', '3992278'), ('2000 Population', '3139954'), ('1990 Population', '2124609'), ('1980 Population', '1453620'), ('1970 Population', '1118241'), ('Area (km²)', '6220'), ('Density (per km²)', '844.063'), ('Growth Rate', '1.0227'), ('World Population Percentage', '0.07')]\n",
      "[('Rank', '128'), ('CCA3', 'PAN'), ('Country/Territory', 'Panama'), ('Capital', 'Panama City'), ('Continent', 'North America'), ('2022 Population', '4408581'), ('2020 Population', '4294396'), ('2015 Population', '3957099'), ('2010 Population', '3623617'), ('2000 Population', '3001731'), ('1990 Population', '2449968'), ('1980 Population', '1956987'), ('1970 Population', '1516188'), ('Area (km²)', '75417'), ('Density (per km²)', '58.4561'), ('Growth Rate', '1.0132'), ('World Population Percentage', '0.06')]\n",
      "[('Rank', '93'), ('CCA3', 'PNG'), ('Country/Territory', 'Papua New Guinea'), ('Capital', 'Port Moresby'), ('Continent', 'Oceania'), ('2022 Population', '10142619'), ('2020 Population', '9749640'), ('2015 Population', '8682174'), ('2010 Population', '7583269'), ('2000 Population', '5508297'), ('1990 Population', '3864972'), ('1980 Population', '3104788'), ('1970 Population', '2489059'), ('Area (km²)', '462840'), ('Density (per km²)', '21.9139'), ('Growth Rate', '1.0194'), ('World Population Percentage', '0.13')]\n",
      "[('Rank', '109'), ('CCA3', 'PRY'), ('Country/Territory', 'Paraguay'), ('Capital', 'Asunción'), ('Continent', 'South America'), ('2022 Population', '6780744'), ('2020 Population', '6618695'), ('2015 Population', '6177950'), ('2010 Population', '5768613'), ('2000 Population', '5123819'), ('1990 Population', '4059195'), ('1980 Population', '3078912'), ('1970 Population', '2408787'), ('Area (km²)', '406752'), ('Density (per km²)', '16.6705'), ('Growth Rate', '1.0115'), ('World Population Percentage', '0.09')]\n",
      "[('Rank', '44'), ('CCA3', 'PER'), ('Country/Territory', 'Peru'), ('Capital', 'Lima'), ('Continent', 'South America'), ('2022 Population', '34049588'), ('2020 Population', '33304756'), ('2015 Population', '30711863'), ('2010 Population', '29229572'), ('2000 Population', '26654439'), ('1990 Population', '22109099'), ('1980 Population', '17492406'), ('1970 Population', '13562371'), ('Area (km²)', '1285216'), ('Density (per km²)', '26.4933'), ('Growth Rate', '1.0099'), ('World Population Percentage', '0.43')]\n",
      "[('Rank', '13'), ('CCA3', 'PHL'), ('Country/Territory', 'Philippines'), ('Capital', 'Manila'), ('Continent', 'Asia'), ('2022 Population', '115559009'), ('2020 Population', '112190977'), ('2015 Population', '103031365'), ('2010 Population', '94636700'), ('2000 Population', '77958223'), ('1990 Population', '61558898'), ('1980 Population', '48419546'), ('1970 Population', '37435586'), ('Area (km²)', '342353'), ('Density (per km²)', '337.5434'), ('Growth Rate', '1.0147'), ('World Population Percentage', '1.45')]\n",
      "[('Rank', '37'), ('CCA3', 'POL'), ('Country/Territory', 'Poland'), ('Capital', 'Warsaw'), ('Continent', 'Europe'), ('2022 Population', '39857145'), ('2020 Population', '38428366'), ('2015 Population', '38553146'), ('2010 Population', '38597353'), ('2000 Population', '38504431'), ('1990 Population', '38064255'), ('1980 Population', '35521429'), ('1970 Population', '32482943'), ('Area (km²)', '312679'), ('Density (per km²)', '127.4698'), ('Growth Rate', '1.0404'), ('World Population Percentage', '0.5')]\n",
      "[('Rank', '92'), ('CCA3', 'PRT'), ('Country/Territory', 'Portugal'), ('Capital', 'Lisbon'), ('Continent', 'Europe'), ('2022 Population', '10270865'), ('2020 Population', '10298192'), ('2015 Population', '10365435'), ('2010 Population', '10588401'), ('2000 Population', '10300626'), ('1990 Population', '10007346'), ('1980 Population', '9785252'), ('1970 Population', '8683631'), ('Area (km²)', '92090'), ('Density (per km²)', '111.5307'), ('Growth Rate', '0.9981'), ('World Population Percentage', '0.13')]\n",
      "[('Rank', '136'), ('CCA3', 'PRI'), ('Country/Territory', 'Puerto Rico'), ('Capital', 'San Juan'), ('Continent', 'North America'), ('2022 Population', '3252407'), ('2020 Population', '3271564'), ('2015 Population', '3497335'), ('2010 Population', '3717922'), ('2000 Population', '3827108'), ('1990 Population', '3543776'), ('1980 Population', '3214568'), ('1970 Population', '2737619'), ('Area (km²)', '8870'), ('Density (per km²)', '366.675'), ('Growth Rate', '0.9989'), ('World Population Percentage', '0.04')]\n",
      "[('Rank', '143'), ('CCA3', 'QAT'), ('Country/Territory', 'Qatar'), ('Capital', 'Doha'), ('Continent', 'Asia'), ('2022 Population', '2695122'), ('2020 Population', '2760385'), ('2015 Population', '2414573'), ('2010 Population', '1713504'), ('2000 Population', '645937'), ('1990 Population', '441675'), ('1980 Population', '277450'), ('1970 Population', '118007'), ('Area (km²)', '11586'), ('Density (per km²)', '232.6189'), ('Growth Rate', '1.0026'), ('World Population Percentage', '0.03')]\n",
      "[('Rank', '114'), ('CCA3', 'COG'), ('Country/Territory', 'Republic of the Congo'), ('Capital', 'Brazzaville'), ('Continent', 'Africa'), ('2022 Population', '5970424'), ('2020 Population', '5702174'), ('2015 Population', '5064386'), ('2010 Population', '4437884'), ('2000 Population', '3134030'), ('1990 Population', '2385435'), ('1980 Population', '1829256'), ('1970 Population', '1396989'), ('Area (km²)', '342000'), ('Density (per km²)', '17.4574'), ('Growth Rate', '1.0231'), ('World Population Percentage', '0.07')]\n",
      "[('Rank', '161'), ('CCA3', 'REU'), ('Country/Territory', 'Reunion'), ('Capital', 'Saint-Denis'), ('Continent', 'Africa'), ('2022 Population', '974052'), ('2020 Population', '957822'), ('2015 Population', '922495'), ('2010 Population', '890130'), ('2000 Population', '785424'), ('1990 Population', '658992'), ('1980 Population', '551674'), ('1970 Population', '473925'), ('Area (km²)', '2511'), ('Density (per km²)', '387.914'), ('Growth Rate', '1.0082'), ('World Population Percentage', '0.01')]\n",
      "[('Rank', '64'), ('CCA3', 'ROU'), ('Country/Territory', 'Romania'), ('Capital', 'Bucharest'), ('Continent', 'Europe'), ('2022 Population', '19659267'), ('2020 Population', '19442038'), ('2015 Population', '19906079'), ('2010 Population', '20335211'), ('2000 Population', '21919876'), ('1990 Population', '22836234'), ('1980 Population', '22125224'), ('1970 Population', '19922618'), ('Area (km²)', '238391'), ('Density (per km²)', '82.4665'), ('Growth Rate', '1.0171'), ('World Population Percentage', '0.25')]\n",
      "[('Rank', '9'), ('CCA3', 'RUS'), ('Country/Territory', 'Russia'), ('Capital', 'Moscow'), ('Continent', 'Europe'), ('2022 Population', '144713314'), ('2020 Population', '145617329'), ('2015 Population', '144668389'), ('2010 Population', '143242599'), ('2000 Population', '146844839'), ('1990 Population', '148005704'), ('1980 Population', '138257420'), ('1970 Population', '130093010'), ('Area (km²)', '17098242'), ('Density (per km²)', '8.4636'), ('Growth Rate', '0.9973'), ('World Population Percentage', '1.81')]\n",
      "[('Rank', '76'), ('CCA3', 'RWA'), ('Country/Territory', 'Rwanda'), ('Capital', 'Kigali'), ('Continent', 'Africa'), ('2022 Population', '13776698'), ('2020 Population', '13146362'), ('2015 Population', '11642959'), ('2010 Population', '10309031'), ('2000 Population', '8109989'), ('1990 Population', '7319962'), ('1980 Population', '5247532'), ('1970 Population', '3896367'), ('Area (km²)', '26338'), ('Density (per km²)', '523.0731'), ('Growth Rate', '1.0234'), ('World Population Percentage', '0.17')]\n",
      "[('Rank', '228'), ('CCA3', 'BLM'), ('Country/Territory', 'Saint Barthelemy'), ('Capital', 'Gustavia'), ('Continent', 'North America'), ('2022 Population', '10967'), ('2020 Population', '10681'), ('2015 Population', '9643'), ('2010 Population', '8988'), ('2000 Population', '7082'), ('1990 Population', '5168'), ('1980 Population', '2983'), ('1970 Population', '2417'), ('Area (km²)', '21'), ('Density (per km²)', '522.2381'), ('Growth Rate', '1.0098'), ('World Population Percentage', '0')]\n",
      "[('Rank', '211'), ('CCA3', 'KNA'), ('Country/Territory', 'Saint Kitts and Nevis'), ('Capital', 'Basseterre'), ('Continent', 'North America'), ('2022 Population', '47657'), ('2020 Population', '47642'), ('2015 Population', '47790'), ('2010 Population', '47403'), ('2000 Population', '45461'), ('1990 Population', '40636'), ('1980 Population', '43097'), ('1970 Population', '44968'), ('Area (km²)', '261'), ('Density (per km²)', '182.5939'), ('Growth Rate', '1.0011'), ('World Population Percentage', '0')]\n",
      "[('Rank', '190'), ('CCA3', 'LCA'), ('Country/Territory', 'Saint Lucia'), ('Capital', 'Castries'), ('Continent', 'North America'), ('2022 Population', '179857'), ('2020 Population', '179237'), ('2015 Population', '175623'), ('2010 Population', '170935'), ('2000 Population', '159500'), ('1990 Population', '142301'), ('1980 Population', '121633'), ('1970 Population', '103090'), ('Area (km²)', '616'), ('Density (per km²)', '291.9756'), ('Growth Rate', '1.0011'), ('World Population Percentage', '0')]\n",
      "[('Rank', '220'), ('CCA3', 'MAF'), ('Country/Territory', 'Saint Martin'), ('Capital', 'Marigot'), ('Continent', 'North America'), ('2022 Population', '31791'), ('2020 Population', '32552'), ('2015 Population', '35020'), ('2010 Population', '36458'), ('2000 Population', '29610'), ('1990 Population', '28127'), ('1980 Population', '7776'), ('1970 Population', '5802'), ('Area (km²)', '53'), ('Density (per km²)', '599.8302'), ('Growth Rate', '0.9951'), ('World Population Percentage', '0')]\n",
      "[('Rank', '229'), ('CCA3', 'SPM'), ('Country/Territory', 'Saint Pierre and Miquelon'), ('Capital', 'Saint-Pierre'), ('Continent', 'North America'), ('2022 Population', '5862'), ('2020 Population', '5906'), ('2015 Population', '5978'), ('2010 Population', '6052'), ('2000 Population', '6274'), ('1990 Population', '6324'), ('1980 Population', '6106'), ('1970 Population', '5537'), ('Area (km²)', '242'), ('Density (per km²)', '24.2231'), ('Growth Rate', '0.9964'), ('World Population Percentage', '0')]\n",
      "[('Rank', '199'), ('CCA3', 'VCT'), ('Country/Territory', 'Saint Vincent and the Grenadines'), ('Capital', 'Kingstown'), ('Continent', 'North America'), ('2022 Population', '103948'), ('2020 Population', '104632'), ('2015 Population', '106482'), ('2010 Population', '109308'), ('2000 Population', '113813'), ('1990 Population', '112487'), ('1980 Population', '107480'), ('1970 Population', '98459'), ('Area (km²)', '389'), ('Density (per km²)', '267.2185'), ('Growth Rate', '0.9963'), ('World Population Percentage', '0')]\n",
      "[('Rank', '188'), ('CCA3', 'WSM'), ('Country/Territory', 'Samoa'), ('Capital', 'Apia'), ('Continent', 'Oceania'), ('2022 Population', '222382'), ('2020 Population', '214929'), ('2015 Population', '203571'), ('2010 Population', '194672'), ('2000 Population', '184008'), ('1990 Population', '168186'), ('1980 Population', '164905'), ('1970 Population', '142771'), ('Area (km²)', '2842'), ('Density (per km²)', '78.2484'), ('Growth Rate', '1.0165'), ('World Population Percentage', '0')]\n",
      "[('Rank', '218'), ('CCA3', 'SMR'), ('Country/Territory', 'San Marino'), ('Capital', 'San Marino'), ('Continent', 'Europe'), ('2022 Population', '33660'), ('2020 Population', '34007'), ('2015 Population', '33570'), ('2010 Population', '31608'), ('2000 Population', '26823'), ('1990 Population', '23132'), ('1980 Population', '21346'), ('1970 Population', '18169'), ('Area (km²)', '61'), ('Density (per km²)', '551.8033'), ('Growth Rate', '0.9975'), ('World Population Percentage', '0')]\n",
      "[('Rank', '187'), ('CCA3', 'STP'), ('Country/Territory', 'Sao Tome and Principe'), ('Capital', 'São Tomé'), ('Continent', 'Africa'), ('2022 Population', '227380'), ('2020 Population', '218641'), ('2015 Population', '201124'), ('2010 Population', '182138'), ('2000 Population', '143714'), ('1990 Population', '120343'), ('1980 Population', '97210'), ('1970 Population', '77583'), ('Area (km²)', '964'), ('Density (per km²)', '235.8714'), ('Growth Rate', '1.0192'), ('World Population Percentage', '0')]\n",
      "[('Rank', '41'), ('CCA3', 'SAU'), ('Country/Territory', 'Saudi Arabia'), ('Capital', 'Riyadh'), ('Continent', 'Asia'), ('2022 Population', '36408820'), ('2020 Population', '35997107'), ('2015 Population', '32749848'), ('2010 Population', '29411929'), ('2000 Population', '21547390'), ('1990 Population', '16004763'), ('1980 Population', '10171710'), ('1970 Population', '6106191'), ('Area (km²)', '2149690'), ('Density (per km²)', '16.9368'), ('Growth Rate', '1.0128'), ('World Population Percentage', '0.46')]\n",
      "[('Rank', '72'), ('CCA3', 'SEN'), ('Country/Territory', 'Senegal'), ('Capital', 'Dakar'), ('Continent', 'Africa'), ('2022 Population', '17316449'), ('2020 Population', '16436119'), ('2015 Population', '14356181'), ('2010 Population', '12530121'), ('2000 Population', '9704287'), ('1990 Population', '7536001'), ('1980 Population', '5703869'), ('1970 Population', '4367744'), ('Area (km²)', '196722'), ('Density (per km²)', '88.025'), ('Growth Rate', '1.0261'), ('World Population Percentage', '0.22')]\n",
      "[('Rank', '105'), ('CCA3', 'SRB'), ('Country/Territory', 'Serbia'), ('Capital', 'Belgrade'), ('Continent', 'Europe'), ('2022 Population', '7221365'), ('2020 Population', '7358005'), ('2015 Population', '7519496'), ('2010 Population', '7653748'), ('2000 Population', '7935022'), ('1990 Population', '7987529'), ('1980 Population', '7777010'), ('1970 Population', '7193533'), ('Area (km²)', '88361'), ('Density (per km²)', '81.7257'), ('Growth Rate', '0.9897'), ('World Population Percentage', '0.09')]\n",
      "[('Rank', '196'), ('CCA3', 'SYC'), ('Country/Territory', 'Seychelles'), ('Capital', 'Victoria'), ('Continent', 'Africa'), ('2022 Population', '107118'), ('2020 Population', '105530'), ('2015 Population', '99240'), ('2010 Population', '92409'), ('2000 Population', '80060'), ('1990 Population', '71057'), ('1980 Population', '65290'), ('1970 Population', '54379'), ('Area (km²)', '452'), ('Density (per km²)', '236.9867'), ('Growth Rate', '1.0061'), ('World Population Percentage', '0')]\n",
      "[('Rank', '102'), ('CCA3', 'SLE'), ('Country/Territory', 'Sierra Leone'), ('Capital', 'Freetown'), ('Continent', 'Africa'), ('2022 Population', '8605718'), ('2020 Population', '8233969'), ('2015 Population', '7314773'), ('2010 Population', '6436698'), ('2000 Population', '4584067'), ('1990 Population', '4325388'), ('1980 Population', '3367477'), ('1970 Population', '2778557'), ('Area (km²)', '71740'), ('Density (per km²)', '119.957'), ('Growth Rate', '1.022'), ('World Population Percentage', '0.11')]\n",
      "[('Rank', '113'), ('CCA3', 'SGP'), ('Country/Territory', 'Singapore'), ('Capital', 'Singapore'), ('Continent', 'Asia'), ('2022 Population', '5975689'), ('2020 Population', '5909869'), ('2015 Population', '5650018'), ('2010 Population', '5163590'), ('2000 Population', '4053602'), ('1990 Population', '3022209'), ('1980 Population', '2400729'), ('1970 Population', '2061831'), ('Area (km²)', '710'), ('Density (per km²)', '8416.4634'), ('Growth Rate', '1.0058'), ('World Population Percentage', '0.07')]\n",
      "[('Rank', '214'), ('CCA3', 'SXM'), ('Country/Territory', 'Sint Maarten'), ('Capital', 'Philipsburg'), ('Continent', 'North America'), ('2022 Population', '44175'), ('2020 Population', '43621'), ('2015 Population', '40205'), ('2010 Population', '33034'), ('2000 Population', '30489'), ('1990 Population', '27845'), ('1980 Population', '12243'), ('1970 Population', '6260'), ('Area (km²)', '34'), ('Density (per km²)', '1299.2647'), ('Growth Rate', '1.003'), ('World Population Percentage', '0')]\n",
      "[('Rank', '116'), ('CCA3', 'SVK'), ('Country/Territory', 'Slovakia'), ('Capital', 'Bratislava'), ('Continent', 'Europe'), ('2022 Population', '5643453'), ('2020 Population', '5456681'), ('2015 Population', '5424444'), ('2010 Population', '5396424'), ('2000 Population', '5376690'), ('1990 Population', '5261305'), ('1980 Population', '4973883'), ('1970 Population', '4522867'), ('Area (km²)', '49037'), ('Density (per km²)', '115.0856'), ('Growth Rate', '1.0359'), ('World Population Percentage', '0.07')]\n",
      "[('Rank', '148'), ('CCA3', 'SVN'), ('Country/Territory', 'Slovenia'), ('Capital', 'Ljubljana'), ('Continent', 'Europe'), ('2022 Population', '2119844'), ('2020 Population', '2117641'), ('2015 Population', '2080862'), ('2010 Population', '2057286'), ('2000 Population', '1984339'), ('1990 Population', '1986024'), ('1980 Population', '1901570'), ('1970 Population', '1741286'), ('Area (km²)', '20273'), ('Density (per km²)', '104.5649'), ('Growth Rate', '1.0002'), ('World Population Percentage', '0.03')]\n",
      "[('Rank', '166'), ('CCA3', 'SLB'), ('Country/Territory', 'Solomon Islands'), ('Capital', 'Honiara'), ('Continent', 'Oceania'), ('2022 Population', '724273'), ('2020 Population', '691191'), ('2015 Population', '612660'), ('2010 Population', '540394'), ('2000 Population', '429978'), ('1990 Population', '324171'), ('1980 Population', '233668'), ('1970 Population', '172833'), ('Area (km²)', '28896'), ('Density (per km²)', '25.0648'), ('Growth Rate', '1.0232'), ('World Population Percentage', '0.01')]\n",
      "[('Rank', '70'), ('CCA3', 'SOM'), ('Country/Territory', 'Somalia'), ('Capital', 'Mogadishu'), ('Continent', 'Africa'), ('2022 Population', '17597511'), ('2020 Population', '16537016'), ('2015 Population', '13763906'), ('2010 Population', '12026649'), ('2000 Population', '8721465'), ('1990 Population', '6999096'), ('1980 Population', '5892224'), ('1970 Population', '3720977'), ('Area (km²)', '637657'), ('Density (per km²)', '27.5971'), ('Growth Rate', '1.0312'), ('World Population Percentage', '0.22')]\n",
      "[('Rank', '24'), ('CCA3', 'ZAF'), ('Country/Territory', 'South Africa'), ('Capital', 'Pretoria'), ('Continent', 'Africa'), ('2022 Population', '59893885'), ('2020 Population', '58801927'), ('2015 Population', '55876504'), ('2010 Population', '51784921'), ('2000 Population', '46813266'), ('1990 Population', '39877570'), ('1980 Population', '29463549'), ('1970 Population', '22368306'), ('Area (km²)', '1221037'), ('Density (per km²)', '49.0517'), ('Growth Rate', '1.0084'), ('World Population Percentage', '0.75')]\n",
      "[('Rank', '29'), ('CCA3', 'KOR'), ('Country/Territory', 'South Korea'), ('Capital', 'Seoul'), ('Continent', 'Asia'), ('2022 Population', '51815810'), ('2020 Population', '51844690'), ('2015 Population', '50994401'), ('2010 Population', '48813042'), ('2000 Population', '46788591'), ('1990 Population', '44120039'), ('1980 Population', '38170501'), ('1970 Population', '32601143'), ('Area (km²)', '100210'), ('Density (per km²)', '517.0722'), ('Growth Rate', '0.9997'), ('World Population Percentage', '0.65')]\n",
      "[('Rank', '86'), ('CCA3', 'SSD'), ('Country/Territory', 'South Sudan'), ('Capital', 'Juba'), ('Continent', 'Africa'), ('2022 Population', '10913164'), ('2020 Population', '10606227'), ('2015 Population', '11194299'), ('2010 Population', '9714419'), ('2000 Population', '6114440'), ('1990 Population', '4750817'), ('1980 Population', '4192011'), ('1970 Population', '3342410'), ('Area (km²)', '619745'), ('Density (per km²)', '17.6091'), ('Growth Rate', '1.0153'), ('World Population Percentage', '0.14')]\n",
      "[('Rank', '30'), ('CCA3', 'ESP'), ('Country/Territory', 'Spain'), ('Capital', 'Madrid'), ('Continent', 'Europe'), ('2022 Population', '47558630'), ('2020 Population', '47363807'), ('2015 Population', '46431342'), ('2010 Population', '46572772'), ('2000 Population', '40741651'), ('1990 Population', '38889889'), ('1980 Population', '37491666'), ('1970 Population', '33792617'), ('Area (km²)', '505992'), ('Density (per km²)', '93.9909'), ('Growth Rate', '1.0015'), ('World Population Percentage', '0.6')]\n",
      "[('Rank', '61'), ('CCA3', 'LKA'), ('Country/Territory', 'Sri Lanka'), ('Capital', 'Colombo'), ('Continent', 'Asia'), ('2022 Population', '21832143'), ('2020 Population', '21715079'), ('2015 Population', '21336697'), ('2010 Population', '20668557'), ('2000 Population', '18776371'), ('1990 Population', '17204094'), ('1980 Population', '14943645'), ('1970 Population', '12388769'), ('Area (km²)', '65610'), ('Density (per km²)', '332.7563'), ('Growth Rate', '1.0027'), ('World Population Percentage', '0.27')]\n",
      "[('Rank', '32'), ('CCA3', 'SDN'), ('Country/Territory', 'Sudan'), ('Capital', 'Khartoum'), ('Continent', 'Africa'), ('2022 Population', '46874204'), ('2020 Population', '44440486'), ('2015 Population', '38171178'), ('2010 Population', '33739933'), ('2000 Population', '26298773'), ('1990 Population', '21090886'), ('1980 Population', '16673586'), ('1970 Population', '11305206'), ('Area (km²)', '1886068'), ('Density (per km²)', '24.8529'), ('Growth Rate', '1.0267'), ('World Population Percentage', '0.59')]\n",
      "[('Rank', '170'), ('CCA3', 'SUR'), ('Country/Territory', 'Suriname'), ('Capital', 'Paramaribo'), ('Continent', 'South America'), ('2022 Population', '618040'), ('2020 Population', '607065'), ('2015 Population', '575475'), ('2010 Population', '546080'), ('2000 Population', '478998'), ('1990 Population', '412756'), ('1980 Population', '375112'), ('1970 Population', '379918'), ('Area (km²)', '163820'), ('Density (per km²)', '3.7727'), ('Growth Rate', '1.0082'), ('World Population Percentage', '0.01')]\n",
      "[('Rank', '87'), ('CCA3', 'SWE'), ('Country/Territory', 'Sweden'), ('Capital', 'Stockholm'), ('Continent', 'Europe'), ('2022 Population', '10549347'), ('2020 Population', '10368969'), ('2015 Population', '9849349'), ('2010 Population', '9381729'), ('2000 Population', '8871043'), ('1990 Population', '8548406'), ('1980 Population', '8311763'), ('1970 Population', '8027702'), ('Area (km²)', '450295'), ('Density (per km²)', '23.4276'), ('Growth Rate', '1.0079'), ('World Population Percentage', '0.13')]\n",
      "[('Rank', '101'), ('CCA3', 'CHE'), ('Country/Territory', 'Switzerland'), ('Capital', 'Bern'), ('Continent', 'Europe'), ('2022 Population', '8740472'), ('2020 Population', '8638613'), ('2015 Population', '8281732'), ('2010 Population', '7822435'), ('2000 Population', '7182059'), ('1990 Population', '6711693'), ('1980 Population', '6319113'), ('1970 Population', '6181227'), ('Area (km²)', '41284'), ('Density (per km²)', '211.7157'), ('Growth Rate', '1.0056'), ('World Population Percentage', '0.11')]\n",
      "[('Rank', '60'), ('CCA3', 'SYR'), ('Country/Territory', 'Syria'), ('Capital', 'Damascus'), ('Continent', 'Asia'), ('2022 Population', '22125249'), ('2020 Population', '20772595'), ('2015 Population', '19205178'), ('2010 Population', '22337563'), ('2000 Population', '16307654'), ('1990 Population', '12408996'), ('1980 Population', '8898954'), ('1970 Population', '6319199'), ('Area (km²)', '185180'), ('Density (per km²)', '119.4797'), ('Growth Rate', '1.0376'), ('World Population Percentage', '0.28')]\n",
      "[('Rank', '57'), ('CCA3', 'TWN'), ('Country/Territory', 'Taiwan'), ('Capital', 'Taipei'), ('Continent', 'Asia'), ('2022 Population', '23893394'), ('2020 Population', '23821464'), ('2015 Population', '23512136'), ('2010 Population', '23083083'), ('2000 Population', '22194731'), ('1990 Population', '20586174'), ('1980 Population', '18100281'), ('1970 Population', '14957870'), ('Area (km²)', '36193'), ('Density (per km²)', '660.1662'), ('Growth Rate', '1.0014'), ('World Population Percentage', '0.3')]\n",
      "[('Rank', '95'), ('CCA3', 'TJK'), ('Country/Territory', 'Tajikistan'), ('Capital', 'Dushanbe'), ('Continent', 'Asia'), ('2022 Population', '9952787'), ('2020 Population', '9543207'), ('2015 Population', '8524063'), ('2010 Population', '7621779'), ('2000 Population', '6272998'), ('1990 Population', '5417860'), ('1980 Population', '4045965'), ('1970 Population', '2993019'), ('Area (km²)', '143100'), ('Density (per km²)', '69.5513'), ('Growth Rate', '1.0208'), ('World Population Percentage', '0.12')]\n",
      "[('Rank', '22'), ('CCA3', 'TZA'), ('Country/Territory', 'Tanzania'), ('Capital', 'Dodoma'), ('Continent', 'Africa'), ('2022 Population', '65497748'), ('2020 Population', '61704518'), ('2015 Population', '52542823'), ('2010 Population', '45110527'), ('2000 Population', '34463704'), ('1990 Population', '26206012'), ('1980 Population', '19297659'), ('1970 Population', '13618192'), ('Area (km²)', '945087'), ('Density (per km²)', '69.3034'), ('Growth Rate', '1.03'), ('World Population Percentage', '0.82')]\n",
      "[('Rank', '20'), ('CCA3', 'THA'), ('Country/Territory', 'Thailand'), ('Capital', 'Bangkok'), ('Continent', 'Asia'), ('2022 Population', '71697030'), ('2020 Population', '71475664'), ('2015 Population', '70294397'), ('2010 Population', '68270489'), ('2000 Population', '63066603'), ('1990 Population', '55228410'), ('1980 Population', '45737753'), ('1970 Population', '35791728'), ('Area (km²)', '513120'), ('Density (per km²)', '139.7276'), ('Growth Rate', '1.0013'), ('World Population Percentage', '0.9')]\n",
      "[('Rank', '155'), ('CCA3', 'TLS'), ('Country/Territory', 'Timor-Leste'), ('Capital', 'Dili'), ('Continent', 'Asia'), ('2022 Population', '1341296'), ('2020 Population', '1299995'), ('2015 Population', '1205813'), ('2010 Population', '1088486'), ('2000 Population', '878360'), ('1990 Population', '758106'), ('1980 Population', '642224'), ('1970 Population', '554021'), ('Area (km²)', '14874'), ('Density (per km²)', '90.1772'), ('Growth Rate', '1.0154'), ('World Population Percentage', '0.02')]\n",
      "[('Rank', '100'), ('CCA3', 'TGO'), ('Country/Territory', 'Togo'), ('Capital', 'Lomé'), ('Continent', 'Africa'), ('2022 Population', '8848699'), ('2020 Population', '8442580'), ('2015 Population', '7473229'), ('2010 Population', '6571855'), ('2000 Population', '5008035'), ('1990 Population', '3875947'), ('1980 Population', '2838110'), ('1970 Population', '2197383'), ('Area (km²)', '56785'), ('Density (per km²)', '155.8281'), ('Growth Rate', '1.0236'), ('World Population Percentage', '0.11')]\n",
      "[('Rank', '233'), ('CCA3', 'TKL'), ('Country/Territory', 'Tokelau'), ('Capital', 'Nukunonu'), ('Continent', 'Oceania'), ('2022 Population', '1871'), ('2020 Population', '1827'), ('2015 Population', '1454'), ('2010 Population', '1367'), ('2000 Population', '1666'), ('1990 Population', '1669'), ('1980 Population', '1647'), ('1970 Population', '1714'), ('Area (km²)', '12'), ('Density (per km²)', '155.9167'), ('Growth Rate', '1.0119'), ('World Population Percentage', '0')]\n",
      "[('Rank', '197'), ('CCA3', 'TON'), ('Country/Territory', 'Tonga'), ('Capital', 'Nuku‘alofa'), ('Continent', 'Oceania'), ('2022 Population', '106858'), ('2020 Population', '105254'), ('2015 Population', '106122'), ('2010 Population', '107383'), ('2000 Population', '102603'), ('1990 Population', '98727'), ('1980 Population', '96708'), ('1970 Population', '86484'), ('Area (km²)', '747'), ('Density (per km²)', '143.0495'), ('Growth Rate', '1.0079'), ('World Population Percentage', '0')]\n",
      "[('Rank', '153'), ('CCA3', 'TTO'), ('Country/Territory', 'Trinidad and Tobago'), ('Capital', 'Port-of-Spain'), ('Continent', 'North America'), ('2022 Population', '1531044'), ('2020 Population', '1518147'), ('2015 Population', '1460177'), ('2010 Population', '1410296'), ('2000 Population', '1332203'), ('1990 Population', '1266518'), ('1980 Population', '1127852'), ('1970 Population', '988890'), ('Area (km²)', '5130'), ('Density (per km²)', '298.4491'), ('Growth Rate', '1.0035'), ('World Population Percentage', '0.02')]\n",
      "[('Rank', '79'), ('CCA3', 'TUN'), ('Country/Territory', 'Tunisia'), ('Capital', 'Tunis'), ('Continent', 'Africa'), ('2022 Population', '12356117'), ('2020 Population', '12161723'), ('2015 Population', '11557779'), ('2010 Population', '10895063'), ('2000 Population', '9893316'), ('1990 Population', '8440023'), ('1980 Population', '6578156'), ('1970 Population', '5047404'), ('Area (km²)', '163610'), ('Density (per km²)', '75.5218'), ('Growth Rate', '1.0076'), ('World Population Percentage', '0.15')]\n",
      "[('Rank', '18'), ('CCA3', 'TUR'), ('Country/Territory', 'Turkey'), ('Capital', 'Ankara'), ('Continent', 'Asia'), ('2022 Population', '85341241'), ('2020 Population', '84135428'), ('2015 Population', '79646178'), ('2010 Population', '73195345'), ('2000 Population', '64113547'), ('1990 Population', '54324142'), ('1980 Population', '44089069'), ('1970 Population', '35540990'), ('Area (km²)', '783562'), ('Density (per km²)', '108.9145'), ('Growth Rate', '1.0067'), ('World Population Percentage', '1.07')]\n",
      "[('Rank', '111'), ('CCA3', 'TKM'), ('Country/Territory', 'Turkmenistan'), ('Capital', 'Ashgabat'), ('Continent', 'Asia'), ('2022 Population', '6430770'), ('2020 Population', '6250438'), ('2015 Population', '5766431'), ('2010 Population', '5267970'), ('2000 Population', '4569132'), ('1990 Population', '3720278'), ('1980 Population', '2862903'), ('1970 Population', '2201432'), ('Area (km²)', '488100'), ('Density (per km²)', '13.1751'), ('Growth Rate', '1.014'), ('World Population Percentage', '0.08')]\n",
      "[('Rank', '212'), ('CCA3', 'TCA'), ('Country/Territory', 'Turks and Caicos Islands'), ('Capital', 'Cockburn Town'), ('Continent', 'North America'), ('2022 Population', '45703'), ('2020 Population', '44276'), ('2015 Population', '36538'), ('2010 Population', '29726'), ('2000 Population', '18744'), ('1990 Population', '11709'), ('1980 Population', '7598'), ('1970 Population', '5665'), ('Area (km²)', '948'), ('Density (per km²)', '48.2099'), ('Growth Rate', '1.0131'), ('World Population Percentage', '0')]\n",
      "[('Rank', '227'), ('CCA3', 'TUV'), ('Country/Territory', 'Tuvalu'), ('Capital', 'Funafuti'), ('Continent', 'Oceania'), ('2022 Population', '11312'), ('2020 Population', '11069'), ('2015 Population', '10877'), ('2010 Population', '10550'), ('2000 Population', '9638'), ('1990 Population', '9182'), ('1980 Population', '7731'), ('1970 Population', '5814'), ('Area (km²)', '26'), ('Density (per km²)', '435.0769'), ('Growth Rate', '1.0096'), ('World Population Percentage', '0')]\n",
      "[('Rank', '31'), ('CCA3', 'UGA'), ('Country/Territory', 'Uganda'), ('Capital', 'Kampala'), ('Continent', 'Africa'), ('2022 Population', '47249585'), ('2020 Population', '44404611'), ('2015 Population', '37477356'), ('2010 Population', '32341728'), ('2000 Population', '24020697'), ('1990 Population', '17586630'), ('1980 Population', '13284026'), ('1970 Population', '10317212'), ('Area (km²)', '241550'), ('Density (per km²)', '195.61'), ('Growth Rate', '1.0304'), ('World Population Percentage', '0.59')]\n",
      "[('Rank', '38'), ('CCA3', 'UKR'), ('Country/Territory', 'Ukraine'), ('Capital', 'Kiev'), ('Continent', 'Europe'), ('2022 Population', '39701739'), ('2020 Population', '43909666'), ('2015 Population', '44982564'), ('2010 Population', '45683020'), ('2000 Population', '48879755'), ('1990 Population', '51589817'), ('1980 Population', '49973920'), ('1970 Population', '47279086'), ('Area (km²)', '603500'), ('Density (per km²)', '65.7858'), ('Growth Rate', '0.912'), ('World Population Percentage', '0.5')]\n",
      "[('Rank', '97'), ('CCA3', 'ARE'), ('Country/Territory', 'United Arab Emirates'), ('Capital', 'Abu Dhabi'), ('Continent', 'Asia'), ('2022 Population', '9441129'), ('2020 Population', '9287289'), ('2015 Population', '8916899'), ('2010 Population', '8481771'), ('2000 Population', '3275333'), ('1990 Population', '1900151'), ('1980 Population', '1014048'), ('1970 Population', '298084'), ('Area (km²)', '83600'), ('Density (per km²)', '112.9322'), ('Growth Rate', '1.0081'), ('World Population Percentage', '0.12')]\n",
      "[('Rank', '21'), ('CCA3', 'GBR'), ('Country/Territory', 'United Kingdom'), ('Capital', 'London'), ('Continent', 'Europe'), ('2022 Population', '67508936'), ('2020 Population', '67059474'), ('2015 Population', '65224364'), ('2010 Population', '62760039'), ('2000 Population', '58850043'), ('1990 Population', '57210442'), ('1980 Population', '56326328'), ('1970 Population', '55650166'), ('Area (km²)', '242900'), ('Density (per km²)', '277.9289'), ('Growth Rate', '1.0034'), ('World Population Percentage', '0.85')]\n",
      "[('Rank', '3'), ('CCA3', 'USA'), ('Country/Territory', 'United States'), ('Capital', 'Washington, D.C.'), ('Continent', 'North America'), ('2022 Population', '338289857'), ('2020 Population', '335942003'), ('2015 Population', '324607776'), ('2010 Population', '311182845'), ('2000 Population', '282398554'), ('1990 Population', '248083732'), ('1980 Population', '223140018'), ('1970 Population', '200328340'), ('Area (km²)', '9372610'), ('Density (per km²)', '36.0935'), ('Growth Rate', '1.0038'), ('World Population Percentage', '4.24')]\n",
      "[('Rank', '200'), ('CCA3', 'VIR'), ('Country/Territory', 'United States Virgin Islands'), ('Capital', 'Charlotte Amalie'), ('Continent', 'North America'), ('2022 Population', '99465'), ('2020 Population', '100442'), ('2015 Population', '102803'), ('2010 Population', '106142'), ('2000 Population', '108185'), ('1990 Population', '100685'), ('1980 Population', '96640'), ('1970 Population', '63446'), ('Area (km²)', '347'), ('Density (per km²)', '286.6427'), ('Growth Rate', '0.9937'), ('World Population Percentage', '0')]\n",
      "[('Rank', '133'), ('CCA3', 'URY'), ('Country/Territory', 'Uruguay'), ('Capital', 'Montevideo'), ('Continent', 'South America'), ('2022 Population', '3422794'), ('2020 Population', '3429086'), ('2015 Population', '3402818'), ('2010 Population', '3352651'), ('2000 Population', '3292224'), ('1990 Population', '3117012'), ('1980 Population', '2953750'), ('1970 Population', '2790265'), ('Area (km²)', '181034'), ('Density (per km²)', '18.9069'), ('Growth Rate', '0.999'), ('World Population Percentage', '0.04')]\n",
      "[('Rank', '43'), ('CCA3', 'UZB'), ('Country/Territory', 'Uzbekistan'), ('Capital', 'Tashkent'), ('Continent', 'Asia'), ('2022 Population', '34627652'), ('2020 Population', '33526656'), ('2015 Population', '30949417'), ('2010 Population', '28614227'), ('2000 Population', '24925554'), ('1990 Population', '20579100'), ('1980 Population', '15947129'), ('1970 Population', '12011361'), ('Area (km²)', '447400'), ('Density (per km²)', '77.3975'), ('Growth Rate', '1.016'), ('World Population Percentage', '0.43')]\n",
      "[('Rank', '181'), ('CCA3', 'VUT'), ('Country/Territory', 'Vanuatu'), ('Capital', 'Port-Vila'), ('Continent', 'Oceania'), ('2022 Population', '326740'), ('2020 Population', '311685'), ('2015 Population', '276438'), ('2010 Population', '245453'), ('2000 Population', '192074'), ('1990 Population', '150882'), ('1980 Population', '118156'), ('1970 Population', '87019'), ('Area (km²)', '12189'), ('Density (per km²)', '26.8061'), ('Growth Rate', '1.0238'), ('World Population Percentage', '0')]\n",
      "[('Rank', '234'), ('CCA3', 'VAT'), ('Country/Territory', 'Vatican City'), ('Capital', 'Vatican City'), ('Continent', 'Europe'), ('2022 Population', '510'), ('2020 Population', '520'), ('2015 Population', '564'), ('2010 Population', '596'), ('2000 Population', '651'), ('1990 Population', '700'), ('1980 Population', '733'), ('1970 Population', '752'), ('Area (km²)', '1'), ('Density (per km²)', '510'), ('Growth Rate', '0.998'), ('World Population Percentage', '0')]\n",
      "[('Rank', '51'), ('CCA3', 'VEN'), ('Country/Territory', 'Venezuela'), ('Capital', 'Caracas'), ('Continent', 'South America'), ('2022 Population', '28301696'), ('2020 Population', '28490453'), ('2015 Population', '30529716'), ('2010 Population', '28715022'), ('2000 Population', '24427729'), ('1990 Population', '19750579'), ('1980 Population', '15210443'), ('1970 Population', '11355475'), ('Area (km²)', '916445'), ('Density (per km²)', '30.882'), ('Growth Rate', '1.0036'), ('World Population Percentage', '0.35')]\n",
      "[('Rank', '16'), ('CCA3', 'VNM'), ('Country/Territory', 'Vietnam'), ('Capital', 'Hanoi'), ('Continent', 'Asia'), ('2022 Population', '98186856'), ('2020 Population', '96648685'), ('2015 Population', '92191398'), ('2010 Population', '87411012'), ('2000 Population', '79001142'), ('1990 Population', '66912613'), ('1980 Population', '52968270'), ('1970 Population', '41928849'), ('Area (km²)', '331212'), ('Density (per km²)', '296.4472'), ('Growth Rate', '1.0074'), ('World Population Percentage', '1.23')]\n",
      "[('Rank', '226'), ('CCA3', 'WLF'), ('Country/Territory', 'Wallis and Futuna'), ('Capital', 'Mata-Utu'), ('Continent', 'Oceania'), ('2022 Population', '11572'), ('2020 Population', '11655'), ('2015 Population', '12182'), ('2010 Population', '13142'), ('2000 Population', '14723'), ('1990 Population', '13454'), ('1980 Population', '11315'), ('1970 Population', '9377'), ('Area (km²)', '142'), ('Density (per km²)', '81.493'), ('Growth Rate', '0.9953'), ('World Population Percentage', '0')]\n",
      "[('Rank', '172'), ('CCA3', 'ESH'), ('Country/Territory', 'Western Sahara'), ('Capital', 'El Aaiún'), ('Continent', 'Africa'), ('2022 Population', '575986'), ('2020 Population', '556048'), ('2015 Population', '491824'), ('2010 Population', '413296'), ('2000 Population', '270375'), ('1990 Population', '178529'), ('1980 Population', '116775'), ('1970 Population', '76371'), ('Area (km²)', '266000'), ('Density (per km²)', '2.1654'), ('Growth Rate', '1.0184'), ('World Population Percentage', '0.01')]\n",
      "[('Rank', '46'), ('CCA3', 'YEM'), ('Country/Territory', 'Yemen'), ('Capital', 'Sanaa'), ('Continent', 'Asia'), ('2022 Population', '33696614'), ('2020 Population', '32284046'), ('2015 Population', '28516545'), ('2010 Population', '24743946'), ('2000 Population', '18628700'), ('1990 Population', '13375121'), ('1980 Population', '9204938'), ('1970 Population', '6843607'), ('Area (km²)', '527968'), ('Density (per km²)', '63.8232'), ('Growth Rate', '1.0217'), ('World Population Percentage', '0.42')]\n",
      "[('Rank', '63'), ('CCA3', 'ZMB'), ('Country/Territory', 'Zambia'), ('Capital', 'Lusaka'), ('Continent', 'Africa'), ('2022 Population', '20017675'), ('2020 Population', '18927715'), ('2015 Population', '16248230'), ('2010 Population', '13792086'), ('2000 Population', '9891136'), ('1990 Population', '7686401'), ('1980 Population', '5720438'), ('1970 Population', '4281671'), ('Area (km²)', '752612'), ('Density (per km²)', '26.5976'), ('Growth Rate', '1.028'), ('World Population Percentage', '0.25')]\n",
      "[('Rank', '74'), ('CCA3', 'ZWE'), ('Country/Territory', 'Zimbabwe'), ('Capital', 'Harare'), ('Continent', 'Africa'), ('2022 Population', '16320537'), ('2020 Population', '15669666'), ('2015 Population', '14154937'), ('2010 Population', '12839771'), ('2000 Population', '11834676'), ('1990 Population', '10113893'), ('1980 Population', '7049926'), ('1970 Population', '5202918'), ('Area (km²)', '390757'), ('Density (per km²)', '41.7665'), ('Growth Rate', '1.0204'), ('World Population Percentage', '0.2')]\n"
     ]
    }
   ],
   "source": [
    "import csv\n",
    "\n",
    "def read_csv(path):\n",
    "    with open(path, 'r') as csvfile:\n",
    "        reader = csv.reader(csvfile, delimiter=',')\n",
    "        header = next(reader)\n",
    "        #print(header)\n",
    "        for row in reader:\n",
    "            iterable = zip(header, row) # se construye un array de tuplas\n",
    "            print(list(iterable))\n",
    "            \n",
    "read_csv('./world_population.csv')            "
   ]
  },
  {
   "cell_type": "code",
   "execution_count": 125,
   "id": "fdace4af",
   "metadata": {},
   "outputs": [
    {
     "data": {
      "text/plain": [
       "{'Rank': '36',\n",
       " 'CCA3': 'AFG',\n",
       " 'Country/Territory': 'Afghanistan',\n",
       " 'Capital': 'Kabul',\n",
       " 'Continent': 'Asia',\n",
       " '2022 Population': '41128771',\n",
       " '2020 Population': '38972230',\n",
       " '2015 Population': '33753499',\n",
       " '2010 Population': '28189672',\n",
       " '2000 Population': '19542982',\n",
       " '1990 Population': '10694796',\n",
       " '1980 Population': '12486631',\n",
       " '1970 Population': '10752971',\n",
       " 'Area (km²)': '652230',\n",
       " 'Density (per km²)': '63.0587',\n",
       " 'Growth Rate': '1.0257',\n",
       " 'World Population Percentage': '0.52'}"
      ]
     },
     "execution_count": 125,
     "metadata": {},
     "output_type": "execute_result"
    }
   ],
   "source": [
    "# ahora heneramos un diccionario a partir de este iterable\n",
    "\n",
    "def read_csv(path):\n",
    "    with open(path, 'r') as csvfile:\n",
    "        reader = csv.reader(csvfile, delimiter=',')\n",
    "        header = next(reader)\n",
    "        data = [] #en lista\n",
    "        #print(header)\n",
    "        for row in reader:\n",
    "            iterable = zip(header, row) # se construye un array de tuplas\n",
    "            diccionario = {key: value for key, value in iterable}\n",
    "            data.append(diccionario)\n",
    "    return data\n",
    "\n",
    "dato = read_csv('./world_population.csv')  \n",
    "dato[0]"
   ]
  },
  {
   "cell_type": "markdown",
   "id": "2be6d5ca",
   "metadata": {},
   "source": [
    "## Crear graficas"
   ]
  },
  {
   "cell_type": "code",
   "execution_count": 133,
   "id": "71f57e2e",
   "metadata": {},
   "outputs": [
    {
     "data": {
      "image/png": "[encoded data removed]",
      "text/plain": [
       "<Figure size 640x480 with 1 Axes>"
      ]
     },
     "metadata": {},
     "output_type": "display_data"
    }
   ],
   "source": [
    "import matplotlib.pyplot as plt\n",
    "\n",
    "labels = ['a', 'b', 'c']\n",
    "labels2 = [5, 12, 20]\n",
    "    \n",
    "def generate_bar_chart(labels, labels2):\n",
    "    fig, ax = plt.subplots()# dos variables: figura y coordenadas   \n",
    "    ax.bar(labels, labels2)\n",
    "    plt.show()\n",
    "\n",
    "generate_bar_chart(labels, labels2)    "
   ]
  },
  {
   "cell_type": "code",
   "execution_count": 137,
   "id": "c863d892",
   "metadata": {},
   "outputs": [
    {
     "data": {
      "image/png": "[encoded data removed]",
      "text/plain": [
       "<Figure size 640x480 with 1 Axes>"
      ]
     },
     "metadata": {},
     "output_type": "display_data"
    }
   ],
   "source": [
    "def generate_pie_chart(labels, labels2):\n",
    "    fig, ax = plt.subplots()# dos variables: figura y coordenadas\n",
    "    ax.pie(labels2, labels=labels) #importante agregar el labels=labels\n",
    "    ax.axis('equal')\n",
    "    plt.show()\n",
    "\n",
    "generate_pie_chart(labels, labels2)    "
   ]
  },
  {
   "cell_type": "markdown",
   "id": "37d306b7",
   "metadata": {},
   "source": [
    "### Examen"
   ]
  },
  {
   "cell_type": "code",
   "execution_count": 139,
   "id": "0468dd7d",
   "metadata": {},
   "outputs": [
    {
     "name": "stdout",
     "output_type": "stream",
     "text": [
      "{2}\n"
     ]
    }
   ],
   "source": [
    "a = {1,2}\n",
    "b = {2,3}\n",
    "print(a & b)"
   ]
  },
  {
   "cell_type": "code",
   "execution_count": 140,
   "id": "9aff721d",
   "metadata": {},
   "outputs": [
    {
     "name": "stdout",
     "output_type": "stream",
     "text": [
      "{1}\n"
     ]
    }
   ],
   "source": [
    "a = {1,2}\n",
    "b = {2,3}\n",
    "print(a - b)"
   ]
  },
  {
   "cell_type": "code",
   "execution_count": 141,
   "id": "980382ba",
   "metadata": {},
   "outputs": [
    {
     "name": "stdout",
     "output_type": "stream",
     "text": [
      "{1, 2, 3}\n"
     ]
    }
   ],
   "source": [
    "a = {1,2}\n",
    "b = {2,3}\n",
    "print(a | b)"
   ]
  },
  {
   "cell_type": "code",
   "execution_count": 142,
   "id": "6e0ba7eb",
   "metadata": {},
   "outputs": [
    {
     "name": "stdout",
     "output_type": "stream",
     "text": [
      "{'Juan', 'Miguel', 'Nicolas'}\n"
     ]
    }
   ],
   "source": [
    "names = {'Nicolas', 'Miguel', 'Juan', 'Nicolas'} \n",
    "print(names) "
   ]
  },
  {
   "cell_type": "code",
   "execution_count": 144,
   "id": "1694cba4",
   "metadata": {},
   "outputs": [
    {
     "data": {
      "text/plain": [
       "[0, 1]"
      ]
     },
     "execution_count": 144,
     "metadata": {},
     "output_type": "execute_result"
    }
   ],
   "source": [
    "n = []\n",
    "for i in range(1, 6):\n",
    "    if i<= 2:\n",
    "        n.append(i-1)\n",
    "n        "
   ]
  },
  {
   "cell_type": "code",
   "execution_count": 146,
   "id": "64b772a4",
   "metadata": {},
   "outputs": [
    {
     "data": {
      "text/plain": [
       "[0, 1]"
      ]
     },
     "execution_count": 146,
     "metadata": {},
     "output_type": "execute_result"
    }
   ],
   "source": [
    "n = [i-1 for i in range(1, 6) if i<=2]\n",
    "n"
   ]
  },
  {
   "cell_type": "code",
   "execution_count": 147,
   "id": "5a464700",
   "metadata": {},
   "outputs": [
    {
     "ename": "SyntaxError",
     "evalue": "invalid syntax (3313493172.py, line 1)",
     "output_type": "error",
     "traceback": [
      "\u001b[0;36m  Input \u001b[0;32mIn [147]\u001b[0;36m\u001b[0m\n\u001b[0;31m    n = [for i-1 in range(1, 6) if i<=2]\u001b[0m\n\u001b[0m         ^\u001b[0m\n\u001b[0;31mSyntaxError\u001b[0m\u001b[0;31m:\u001b[0m invalid syntax\n"
     ]
    }
   ],
   "source": [
    "n = [for i-1 in range(1, 6) if i<=2]\n",
    "n"
   ]
  },
  {
   "cell_type": "code",
   "execution_count": 148,
   "id": "a871a90d",
   "metadata": {},
   "outputs": [],
   "source": [
    "man cd #manual de cd"
   ]
  },
  {
   "cell_type": "code",
   "execution_count": 149,
   "id": "87b9db9c",
   "metadata": {},
   "outputs": [
    {
     "ename": "SyntaxError",
     "evalue": "invalid syntax (247840128.py, line 1)",
     "output_type": "error",
     "traceback": [
      "\u001b[0;36m  Input \u001b[0;32mIn [149]\u001b[0;36m\u001b[0m\n\u001b[0;31m    info cd\u001b[0m\n\u001b[0m         ^\u001b[0m\n\u001b[0;31mSyntaxError\u001b[0m\u001b[0;31m:\u001b[0m invalid syntax\n"
     ]
    }
   ],
   "source": [
    "info cd"
   ]
  },
  {
   "cell_type": "code",
   "execution_count": null,
   "id": "4f7b5332",
   "metadata": {},
   "outputs": [],
   "source": []
  },
  {
   "cell_type": "code",
   "execution_count": null,
   "id": "8c005f22",
   "metadata": {},
   "outputs": [],
   "source": []
  },
  {
   "cell_type": "code",
   "execution_count": null,
   "id": "2a162fc5",
   "metadata": {},
   "outputs": [],
   "source": []
  },
  {
   "cell_type": "code",
   "execution_count": null,
   "id": "796aaecd",
   "metadata": {},
   "outputs": [],
   "source": []
  },
  {
   "cell_type": "code",
   "execution_count": null,
   "id": "df419813",
   "metadata": {},
   "outputs": [],
   "source": []
  },
  {
   "cell_type": "code",
   "execution_count": null,
   "id": "efe1844d",
   "metadata": {},
   "outputs": [],
   "source": []
  },
  {
   "cell_type": "code",
   "execution_count": null,
   "id": "9f2d6435",
   "metadata": {},
   "outputs": [],
   "source": []
  },
  {
   "cell_type": "code",
   "execution_count": null,
   "id": "4f95aca1",
   "metadata": {},
   "outputs": [],
   "source": []
  },
  {
   "cell_type": "code",
   "execution_count": null,
   "id": "869e6492",
   "metadata": {},
   "outputs": [],
   "source": []
  },
  {
   "cell_type": "code",
   "execution_count": null,
   "id": "169f2025",
   "metadata": {},
   "outputs": [],
   "source": []
  },
  {
   "cell_type": "code",
   "execution_count": null,
   "id": "30e5391f",
   "metadata": {},
   "outputs": [],
   "source": []
  },
  {
   "cell_type": "code",
   "execution_count": null,
   "id": "b5d469f9",
   "metadata": {},
   "outputs": [],
   "source": []
  },
  {
   "cell_type": "code",
   "execution_count": null,
   "id": "292a752d",
   "metadata": {},
   "outputs": [],
   "source": []
  },
  {
   "cell_type": "code",
   "execution_count": null,
   "id": "798b2dad",
   "metadata": {},
   "outputs": [],
   "source": []
  },
  {
   "cell_type": "code",
   "execution_count": null,
   "id": "876be33f",
   "metadata": {},
   "outputs": [],
   "source": []
  },
  {
   "cell_type": "code",
   "execution_count": null,
   "id": "80ec444b",
   "metadata": {},
   "outputs": [],
   "source": []
  },
  {
   "cell_type": "code",
   "execution_count": null,
   "id": "3ad68d39",
   "metadata": {},
   "outputs": [],
   "source": []
  },
  {
   "cell_type": "code",
   "execution_count": null,
   "id": "e3a9a90b",
   "metadata": {},
   "outputs": [],
   "source": []
  },
  {
   "cell_type": "code",
   "execution_count": null,
   "id": "5df58e5c",
   "metadata": {},
   "outputs": [],
   "source": []
  },
  {
   "cell_type": "code",
   "execution_count": null,
   "id": "2d06861b",
   "metadata": {},
   "outputs": [],
   "source": []
  },
  {
   "cell_type": "code",
   "execution_count": null,
   "id": "4294cdde",
   "metadata": {},
   "outputs": [],
   "source": []
  }
 ],
 "metadata": {
  "kernelspec": {
   "display_name": "Python 3 (ipykernel)",
   "language": "python",
   "name": "python3"
  },
  "language_info": {
   "codemirror_mode": {
    "name": "ipython",
    "version": 3
   },
   "file_extension": ".py",
   "mimetype": "text/x-python",
   "name": "python",
   "nbconvert_exporter": "python",
   "pygments_lexer": "ipython3",
   "version": "3.8.10"
  }
 },
 "nbformat": 4,
 "nbformat_minor": 5
}
