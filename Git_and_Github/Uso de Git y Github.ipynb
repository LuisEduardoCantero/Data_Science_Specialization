{
 "cells": [
  {
   "cell_type": "markdown",
   "id": "5a19e840",
   "metadata": {},
   "source": [
    "## Ramas\n",
    "\n",
    "Las ramas son la forma de hacer cambios en nuestro proyecto sin afectar el flujo de trabajo de la rama principal. Esto porque queremos trabajar una parte muy específica de la aplicación o simplemente experimentar.\n",
    "\n",
    "git branch -nombre de la rama-: Con este comando se crea una nueva rama.\n",
    "\n",
    "git checkout -nombre de la rama-: Con este comando puedes saltar de una rama a otra.\n",
    "\n",
    "git checkout -b rama: Crea una rama y nos mueve a ella automáticamente, Es decir, es la combinación de git brach y git checkout al mismo tiempo.\n",
    "\n",
    "git reset id-commit: Nos lleva a cualquier commit no importa la rama, ya que identificamos el id del tag., eliminando el historial de los commit posteriores al tag seleccionado.\n",
    "\n",
    "git checkout rama-o-id-commit: Nos lleva a cualquier commit sin borrar los commit posteriores al tag seleccionado."
   ]
  },
  {
   "cell_type": "markdown",
   "id": "88c6d427",
   "metadata": {},
   "source": [
    "Generar una nueva llave SSH: (Cualquier sistema operativo)\n",
    "\n",
    "ssh-keygen -t rsa -b 4096 -C \"youremail@example.com\"\n",
    "\n",
    "Comprobar proceso y agregarlo (Windows)\n",
    "\n",
    "eval $(ssh-agent - s)\n",
    "ssh-add ~/.ssh/id_rsa\n",
    "Comprobar proceso y agregarlo (Mac)\n",
    "\n",
    "eval \"$(ssh-agent -s)\"\n",
    "¿Usas macOS Sierra 10.12.2 o superior?\n",
    "Haz lo siguiente:\n",
    "\n",
    "cd ~/.ssh\n",
    "Crea un archivo config…\n",
    "Con Vim vim config\n",
    "Con VSCode code config\n",
    "Pega la siguiente configuración en el archivo…"
   ]
  },
  {
   "cell_type": "markdown",
   "id": "e4f25e0c",
   "metadata": {},
   "source": [
    "git shortlog -sn = muestra cuantos commit han hecho cada miembros del equipo.\n",
    "\n",
    "git shortlog -sn --all = muestra cuantos commit han hecho cada miembros del equipo hasta los que han sido eliminado\n",
    "\n",
    "git shortlog -sn --all --no-merge = muestra cuantos commit han hecho cada miembros quitando los eliminados sin los merges\n",
    "\n",
    "git blame ARCHIVO = muestra quien hizo cada cosa linea por linea\n",
    "\n",
    "git COMANDO --help = muestra como funciona el comando.\n",
    "\n",
    "git blame ARCHIVO -Llinea_inicial,linea_final= muestra quien hizo cada cosa linea por linea indicándole desde que linea ver ejemplo -L35,50\n",
    "\n",
    "** git branch -r  = se muestran todas las ramas remotas\n",
    "git branch -a = se muestran todas las ramas tanto locales como remotas **"
   ]
  },
  {
   "cell_type": "code",
   "execution_count": null,
   "id": "c5d48ad3",
   "metadata": {},
   "outputs": [],
   "source": []
  },
  {
   "cell_type": "code",
   "execution_count": null,
   "id": "8246174b",
   "metadata": {},
   "outputs": [],
   "source": []
  },
  {
   "cell_type": "code",
   "execution_count": null,
   "id": "04ce9281",
   "metadata": {},
   "outputs": [],
   "source": []
  },
  {
   "cell_type": "code",
   "execution_count": null,
   "id": "a9aacdd5",
   "metadata": {},
   "outputs": [],
   "source": []
  },
  {
   "cell_type": "code",
   "execution_count": null,
   "id": "808de588",
   "metadata": {},
   "outputs": [],
   "source": []
  },
  {
   "cell_type": "code",
   "execution_count": null,
   "id": "edb5b08a",
   "metadata": {},
   "outputs": [],
   "source": []
  },
  {
   "cell_type": "code",
   "execution_count": null,
   "id": "41388765",
   "metadata": {},
   "outputs": [],
   "source": []
  }
 ],
 "metadata": {
  "kernelspec": {
   "display_name": "Python 3 (ipykernel)",
   "language": "python",
   "name": "python3"
  },
  "language_info": {
   "codemirror_mode": {
    "name": "ipython",
    "version": 3
   },
   "file_extension": ".py",
   "mimetype": "text/x-python",
   "name": "python",
   "nbconvert_exporter": "python",
   "pygments_lexer": "ipython3",
   "version": "3.8.10"
  }
 },
 "nbformat": 4,
 "nbformat_minor": 5
}
