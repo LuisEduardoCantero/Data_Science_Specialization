{
 "cells": [
  {
   "cell_type": "markdown",
   "id": "4a1da5dc",
   "metadata": {},
   "source": [
    "**Utilizar Deepnote.**\n",
    "\n",
    "Deepnote es un servicio en la nube basado en Jupyter Notebooks. No requiere configuración y tiene un trabajo a nivel de proyecto. Tiene colaboración en tiempo real, integración con múltiples Apps y tiene acceso a una terminal o línea de comandos integrada.\n",
    "\n",
    "Tiene también variables de entorno y permite publicar proyectos (para construir portafolio). 🎉\n",
    "Podemos correr y agregar lo mismo que en Colab, pero además podemos subir archivos que se quedan siempre en el proyecto.\n",
    "Permite previsualizar los archivos CSV de manera muy bonita .\n",
    "\n",
    "Parte de lo poderoso de Deepnote es que podemos integrar muchas cosas 🔥.\n",
    "\n",
    "No solo podemos agregar celdas de código y de texto, si no que en la opción de Bloque vienen muchos más tipos, como input, chart, dataframe sql, etc . Puede crear gráficas de manera automática sin código!\n",
    "\n",
    "Para acceder a los atajos de teclado usamos Ctrl + i.\n",
    "\n",
    "También es importante resaltar que tenemos una terminal integrada ."
   ]
  },
  {
   "cell_type": "markdown",
   "id": "0f1a8077",
   "metadata": {},
   "source": [
    "**¿Qué son los ambientes virtuales?**\n",
    "\n",
    "En la vida real, no vas a trabajar en un solo trabajo, si no en varios, y cada uno tendrá diferentes dependencias y requerimientos 🤔.\n",
    "\n",
    "Cuando se actualizan o se cambia la configuración de las dependencias de un ambiente que tiene varios proyectos asociados puede haber errores 🛑.\n",
    "\n",
    "Para poder separar proyectos, lo que hacemos es crear ambientes virtuales diferentes para cada proyecto. 🧠 Entonces la configuración y actualizaciones son para cada proyecto.\n",
    "\n",
    "Ambiente virtual: Proyecto que puede tener sus propias dependencias, independientemente de las dependencias que tengan los demás proyectos (Scott Robinson y la gente de Real Python)."
   ]
  },
  {
   "cell_type": "markdown",
   "id": "5112b88b",
   "metadata": {},
   "source": [
    "**Instalar Conda a través de la terminal.**\n",
    "\n",
    "Conda: Programa diseñado para gestión de paquetes, dependencias y entorno para cualquier lenguaje: Python, R, Ruby, Lua, Scala, Java, JavaScript, etc. Además, es multiplataforma. 🖥️\n",
    "\n",
    "Para instalar conda debes instalar anaconda (versión completa, metapaquete de ciencia de datos) o miniconda (versión mínima). 🐍\n",
    "\n",
    "Para instalar conda:\n",
    "\n",
    "Anaconda | Individual Edition\n",
    "\n",
    "O bien hacer wget -0 anaconda.sh https://repo.anaconda.com/archive/Anaconda3-2021.05-Linux-x86_64.sh.\n",
    "\n",
    "Para instalar hacemos bash anaconda.sh. 🐍\n",
    "\n",
    "Para abrir notebooks usamos jupyter-notebooko bien jupyterlab. Los notebooks que creas ahí también los puedes abrir en VSCode.\n",
    "\n",
    "Para abrir VSCode en la carpeta en el que te encuentras, usas code .."
   ]
  },
  {
   "cell_type": "markdown",
   "id": "7f5b16e1",
   "metadata": {},
   "source": [
    "**Conda: crear y actualizar ambientes.**\n",
    "\n",
    "Conda tiene por defecto el ambiente base.\n",
    "\n",
    "conda env list para ver todos tus ambientes existentes.\n",
    "\n",
    "conda create --name <nombre de ambiente> <paquete1>=<version1> <paquete2>=<version2> para crear un ambiente nuevo. 👀 Si no se especifica la versión, se toma la mas reciente.\n",
    "    \n",
    "conda activate <nombre de ambiente> para activar un ambiente.\n",
    "    \n",
    "conda deactivate para desactivar el ambiente actual.\n",
    "    \n",
    "conda list muestra todos los paquetes (y sus versiones) en tu ambiente. Para filtrar resultados (en ambientes grandes) conda list pandas.\n",
    "    \n",
    "conda update <paquete> para actualizar la versión mas reciente de un paquete.\n",
    "    \n",
    "conda install <paquete>=<version> para poner un paquete en una versión específica."
   ]
  },
  {
   "cell_type": "markdown",
   "id": "1676d6e1",
   "metadata": {},
   "source": [
    "**Conda: Comandos avanzados.**\n",
    "\n",
    "Para buscar paquetes:\n",
    "\n",
    "Anaconda.org\n",
    "\n",
    "Podemos encontrar algún paquete que necesitemos en un channel como conda-forge. \n",
    "\n",
    "conda install --channel <nombre del canal> <paquete> Para instalar un paquete especificando el channel de donde buscarlo.\n",
    "    \n",
    "conda list --revision para listar las revisiones (modificaciones) de tu ambiente; con esto puedes volver en el tiempo a un estado pasado de tu ambiente virtual.\n",
    "    \n",
    "conda install --revision <falg> para regresar a un estado pasado de tu ambiente. \n",
    "    \n",
    "conda env export --no-build Para compartir nuestro ambiente de conda y que otras personas puedan tener exactamente el mismo ambiente que tú.\n",
    "    \n",
    "Con conda env export --from-history --file <archivo>.yml para compartir únicamente los paquetes que hayamos especificado explícitamente. Esta es la mejor manera!\n",
    "    \n",
    "Para instalar un ambiente del cual recibimos un archivo .yml hacemos conda env create --file <archivo>.yml\n",
    "    \n",
    "conda list --revision: para revisar las versiones del ambiente ()"
   ]
  },
  {
   "cell_type": "markdown",
   "id": "17215805",
   "metadata": {},
   "source": [
    "**Acelerar la creación de ambientes virtuales con Mamba.**\n",
    "\n",
    "Mamba es una re-implementación de Conda (en C++) para la creación de ambientes virtuales.  Lo hace en paralelo, e incluye multiples optimizaciones que lo hacen más rápido.\n",
    "\n",
    "Mamba funciona de la misma manera que conda en la línea de comandos. \n",
    "\n",
    "conda install --channel conda-forge mamba para instalarlo.\n",
    "\n",
    "Anaconda es muy tardado en multiples ocasiones (ya que es muy pesado). "
   ]
  },
  {
   "cell_type": "markdown",
   "id": "6f75c472",
   "metadata": {},
   "source": [
    "**Bonus: Divide y vencerás.**\n",
    "\n",
    "En proyectos grandes, es complicado mantener un ambiente virtual. \n",
    "\n",
    "Divide y vencerás es partir un problema difícil en partes pequeñas. Cada paquete se desarrolla a su propio ritmo (no siempre preocupándose de la compatibilidad con otros módulos). \n",
    "\n",
    "Hay tres tipos de paquetes: Externos, Modelo y de Comunicación. Entonces podemos crear en multiples ambientes en un solo proyecto. Para esto, creamos una carpeta llamada envs y creamos tres documentos: external.yml, model.yml y comunicacion.yml.\n",
    "\n",
    "Snakemake es un paquete que implementa muy bien este concepto. Es un motor de workflows 👀. Cada paso lo ejecuta con un ambiente específico"
   ]
  }
 ],
 "metadata": {
  "kernelspec": {
   "display_name": "Python 3 (ipykernel)",
   "language": "python",
   "name": "python3"
  },
  "language_info": {
   "codemirror_mode": {
    "name": "ipython",
    "version": 3
   },
   "file_extension": ".py",
   "mimetype": "text/x-python",
   "name": "python",
   "nbconvert_exporter": "python",
   "pygments_lexer": "ipython3",
   "version": "3.8.10"
  }
 },
 "nbformat": 4,
 "nbformat_minor": 5
}
