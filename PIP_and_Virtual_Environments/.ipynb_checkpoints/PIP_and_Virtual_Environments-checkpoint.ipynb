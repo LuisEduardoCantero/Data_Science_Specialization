{
 "cells": [
  {
   "cell_type": "markdown",
   "id": "131cdfc1",
   "metadata": {},
   "source": [
    "**Crear un entorno**"
   ]
  },
  {
   "cell_type": "code",
   "execution_count": null,
   "id": "b96e98a0",
   "metadata": {},
   "outputs": [],
   "source": [
    "python3 -m venv env"
   ]
  },
  {
   "cell_type": "markdown",
   "id": "58c87e26",
   "metadata": {},
   "source": [
    "**Activar un entorno virtual**"
   ]
  },
  {
   "cell_type": "code",
   "execution_count": null,
   "id": "ec98e061",
   "metadata": {},
   "outputs": [],
   "source": [
    "source env/bin/activate"
   ]
  },
  {
   "cell_type": "markdown",
   "id": "53cb0a0e",
   "metadata": {},
   "source": [
    "**Verificar que estemos dentro del entorno virtual**"
   ]
  },
  {
   "cell_type": "code",
   "execution_count": null,
   "id": "90a45e3a",
   "metadata": {},
   "outputs": [],
   "source": [
    "which python3"
   ]
  },
  {
   "cell_type": "markdown",
   "id": "8ae080b7",
   "metadata": {},
   "source": [
    "**Instalar la dependencia dentro del entorno virtual**"
   ]
  },
  {
   "cell_type": "code",
   "execution_count": null,
   "id": "24f8eb1d",
   "metadata": {},
   "outputs": [],
   "source": [
    "pip3 install requests"
   ]
  },
  {
   "cell_type": "markdown",
   "id": "867edc67",
   "metadata": {},
   "source": [
    "**Verificar instalaciones**"
   ]
  },
  {
   "cell_type": "code",
   "execution_count": null,
   "id": "3420bcfb",
   "metadata": {},
   "outputs": [],
   "source": [
    "pip3 freeze"
   ]
  },
  {
   "cell_type": "markdown",
   "id": "c558bde1",
   "metadata": {},
   "source": [
    "**Crear el archivo para que cualquier persona pueda desplegar el proyecto**"
   ]
  },
  {
   "cell_type": "code",
   "execution_count": null,
   "id": "bae6a2b8",
   "metadata": {},
   "outputs": [],
   "source": [
    "pip freeze > requeriments.txt"
   ]
  },
  {
   "cell_type": "markdown",
   "id": "9937b230",
   "metadata": {},
   "source": [
    "# Requests"
   ]
  },
  {
   "cell_type": "code",
   "execution_count": 1,
   "id": "fef1a379",
   "metadata": {},
   "outputs": [],
   "source": [
    "import requests\n",
    "\n",
    "def get_categories():\n",
    "    r = requests.get('https://api.escuelajs.co/api/v1/categories')\n",
    "    print(r.status_code)\n",
    "    print(r.text)\n",
    "    print(type(r.text))\n",
    "    categories = r.json()\n",
    "    for category in categories:\n",
    "        print(category['name'])"
   ]
  },
  {
   "cell_type": "code",
   "execution_count": 2,
   "id": "691edff0",
   "metadata": {},
   "outputs": [
    {
     "name": "stdout",
     "output_type": "stream",
     "text": [
      "200\n",
      "[{\"id\":1,\"name\":\"Clothes\",\"image\":\"https://api.lorem.space/image/fashion?w=640&h=480&r=3248\",\"creationAt\":\"2023-01-08T23:40:24.000Z\",\"updatedAt\":\"2023-01-09T18:32:33.000Z\"},{\"id\":2,\"name\":\"Electronics\",\"image\":\"https://api.lorem.space/image/watch?w=640&h=480&r=9458\",\"creationAt\":\"2023-01-08T23:40:24.000Z\",\"updatedAt\":\"2023-01-08T23:40:24.000Z\"},{\"id\":3,\"name\":\"Furniture\",\"image\":\"https://api.lorem.space/image/furniture?w=640&h=480&r=9523\",\"creationAt\":\"2023-01-08T23:40:24.000Z\",\"updatedAt\":\"2023-01-09T18:25:02.000Z\"},{\"id\":4,\"name\":\"Shoes\",\"image\":\"https://api.lorem.space/image/shoes?w=640&h=480&r=1570\",\"creationAt\":\"2023-01-08T23:40:24.000Z\",\"updatedAt\":\"2023-01-08T23:40:24.000Z\"},{\"id\":5,\"name\":\"Others\",\"image\":\"https://api.lorem.space/image?w=640&h=480&r=3735\",\"creationAt\":\"2023-01-08T23:40:24.000Z\",\"updatedAt\":\"2023-01-08T23:40:24.000Z\"},{\"id\":17,\"name\":\"Nueva Categoria\",\"image\":\"https://placeimg.com/640/480/any\",\"creationAt\":\"2023-01-09T18:39:36.000Z\",\"updatedAt\":\"2023-01-09T18:39:36.000Z\"}]\n",
      "<class 'str'>\n",
      "Clothes\n",
      "Electronics\n",
      "Furniture\n",
      "Shoes\n",
      "Others\n",
      "Nueva Categoria\n"
     ]
    }
   ],
   "source": [
    "get_categories()"
   ]
  },
  {
   "cell_type": "markdown",
   "id": "4f967c52",
   "metadata": {},
   "source": [
    "# Web Server con FastAPI (Servidor web)"
   ]
  },
  {
   "cell_type": "code",
   "execution_count": 5,
   "id": "c8792c9f",
   "metadata": {},
   "outputs": [],
   "source": [
    "# !pip install \"uvicorn[standard]\"\n",
    "# !pip install fastapi\n",
    "\n",
    "import store\n",
    "from fastapi import FastAPI\n",
    "from fastapi.responses import HTMLResponse\n",
    "\n",
    "app = FastAPI()\n",
    "\n",
    "@app.get('/')\n",
    "def get_list():\n",
    "    return [1,2,3,]\n",
    "\n",
    "@app.get('/contact', response_class=HTMLResponse)\n",
    "def get_list():\n",
    "    return \"\"\"\n",
    "        <h1>Hola soy una paginuchi</h1>\n",
    "        <p>soy un parrafuchi</p>\n",
    "    \"\"\"\n",
    "\n",
    "def run():\n",
    "    store.get_categories()\n",
    "\n",
    "if __name__ == '__main__':\n",
    "    run()"
   ]
  },
  {
   "cell_type": "markdown",
   "id": "54408ac9",
   "metadata": {},
   "source": [
    "# Docker"
   ]
  },
  {
   "cell_type": "markdown",
   "id": "d7665777",
   "metadata": {},
   "source": [
    "Docker utiliza una imagen del sistema operativo como base para las aplicaciones empaquetadas en contenedores. Esto permite que los contenedores sean ligeros y fáciles de distribuir, ya que solo incluyen lo necesario para ejecutar la aplicación y no todo el sistema operativo completo.\n",
    "\n",
    "Docker también proporciona una capacidad adicional de abstracción y automatización de virtualización en el nivel de sistema operativo. Esto permite que los contenedores se ejecuten en cualquier que tenga Docker instalado, independientemente de la plataforma subyacente."
   ]
  },
  {
   "cell_type": "markdown",
   "id": "85b48176",
   "metadata": {},
   "source": [
    "## **Sintaxis basica**"
   ]
  },
  {
   "cell_type": "markdown",
   "id": "a625240e",
   "metadata": {},
   "source": [
    "FROM python:3.8\n",
    "\n",
    "WORKDIR /app\n",
    "COPY requirementes.txt /app/requirementes.txt\n",
    "\n",
    "RUN pip install --no-cache-dir --upgrade -r /app/requirementes.txt\n",
    "\n",
    "COPY . /app\n",
    "\n",
    "CMD bash -c \"while true; do sleep 1; done\""
   ]
  },
  {
   "cell_type": "markdown",
   "id": "0dd9d126",
   "metadata": {},
   "source": [
    "### En el archivo docker-composer.yml:"
   ]
  },
  {
   "cell_type": "markdown",
   "id": "f36bc68c",
   "metadata": {},
   "source": [
    "services:\n",
    "  app-csv:\n",
    "    build: \n",
    "      context: .\n",
    "      dockerfile: Dockerfile"
   ]
  },
  {
   "cell_type": "code",
   "execution_count": null,
   "id": "572aa038",
   "metadata": {},
   "outputs": [],
   "source": []
  },
  {
   "cell_type": "markdown",
   "id": "0a4530d0",
   "metadata": {},
   "source": []
  },
  {
   "cell_type": "code",
   "execution_count": null,
   "id": "a3db5caa",
   "metadata": {},
   "outputs": [],
   "source": []
  },
  {
   "cell_type": "markdown",
   "id": "da7a0c5c",
   "metadata": {},
   "source": []
  },
  {
   "cell_type": "code",
   "execution_count": null,
   "id": "4b8f60aa",
   "metadata": {},
   "outputs": [],
   "source": []
  },
  {
   "cell_type": "code",
   "execution_count": null,
   "id": "2d2f56a1",
   "metadata": {},
   "outputs": [],
   "source": []
  },
  {
   "cell_type": "code",
   "execution_count": null,
   "id": "99ca9cc5",
   "metadata": {},
   "outputs": [],
   "source": []
  },
  {
   "cell_type": "code",
   "execution_count": null,
   "id": "b1549316",
   "metadata": {},
   "outputs": [],
   "source": []
  },
  {
   "cell_type": "code",
   "execution_count": null,
   "id": "b323083b",
   "metadata": {},
   "outputs": [],
   "source": []
  },
  {
   "cell_type": "code",
   "execution_count": null,
   "id": "20a69aa1",
   "metadata": {},
   "outputs": [],
   "source": []
  },
  {
   "cell_type": "code",
   "execution_count": null,
   "id": "45dfb917",
   "metadata": {},
   "outputs": [],
   "source": []
  }
 ],
 "metadata": {
  "kernelspec": {
   "display_name": "Python 3 (ipykernel)",
   "language": "python",
   "name": "python3"
  },
  "language_info": {
   "codemirror_mode": {
    "name": "ipython",
    "version": 3
   },
   "file_extension": ".py",
   "mimetype": "text/x-python",
   "name": "python",
   "nbconvert_exporter": "python",
   "pygments_lexer": "ipython3",
   "version": "3.8.10"
  }
 },
 "nbformat": 4,
 "nbformat_minor": 5
}
