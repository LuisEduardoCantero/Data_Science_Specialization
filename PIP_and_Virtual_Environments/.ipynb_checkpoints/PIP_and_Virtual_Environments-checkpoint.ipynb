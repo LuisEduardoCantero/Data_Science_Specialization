{
 "cells": [
  {
   "cell_type": "markdown",
   "id": "36031449",
   "metadata": {},
   "source": [
    "**Crear un entorno**"
   ]
  },
  {
   "cell_type": "code",
   "execution_count": null,
   "id": "5f776971",
   "metadata": {},
   "outputs": [],
   "source": [
    "python3 -m venv env"
   ]
  },
  {
   "cell_type": "markdown",
   "id": "82185fd7",
   "metadata": {},
   "source": [
    "**Activar un entorno virtual**"
   ]
  },
  {
   "cell_type": "code",
   "execution_count": null,
   "id": "63350158",
   "metadata": {},
   "outputs": [],
   "source": [
    "source env/bin/activate"
   ]
  },
  {
   "cell_type": "markdown",
   "id": "e8425759",
   "metadata": {},
   "source": [
    "**Verificar que estemos dentro del entorno virtual**"
   ]
  },
  {
   "cell_type": "code",
   "execution_count": null,
   "id": "73c2d233",
   "metadata": {},
   "outputs": [],
   "source": [
    "which python3"
   ]
  },
  {
   "cell_type": "markdown",
   "id": "a27275ea",
   "metadata": {},
   "source": [
    "**Instalar la dependencia dentro del entorno virtual**"
   ]
  },
  {
   "cell_type": "code",
   "execution_count": null,
   "id": "4b13bab7",
   "metadata": {},
   "outputs": [],
   "source": [
    "pip3 install requests"
   ]
  },
  {
   "cell_type": "markdown",
   "id": "584a4ce6",
   "metadata": {},
   "source": [
    "**Verificar instalaciones**"
   ]
  },
  {
   "cell_type": "code",
   "execution_count": null,
   "id": "df1cf1cc",
   "metadata": {},
   "outputs": [],
   "source": [
    "pip3 freeze"
   ]
  },
  {
   "cell_type": "markdown",
   "id": "1f88a76c",
   "metadata": {},
   "source": [
    "**Crear el archivo para que cualquier persona pueda desplegar el proyecto**"
   ]
  },
  {
   "cell_type": "code",
   "execution_count": null,
   "id": "f3de209c",
   "metadata": {},
   "outputs": [],
   "source": [
    "pip freeze > requeriments.txt"
   ]
  },
  {
   "cell_type": "markdown",
   "id": "8f0268a9",
   "metadata": {},
   "source": [
    "**Instalar el archivo requierments:**"
   ]
  },
  {
   "cell_type": "code",
   "execution_count": null,
   "id": "3d35cb1e",
   "metadata": {},
   "outputs": [],
   "source": [
    "pip install -r requirements.txt"
   ]
  },
  {
   "cell_type": "markdown",
   "id": "3fa6e53c",
   "metadata": {},
   "source": [
    "# Requests"
   ]
  },
  {
   "cell_type": "code",
   "execution_count": 1,
   "id": "96d5e27b",
   "metadata": {},
   "outputs": [],
   "source": [
    "import requests\n",
    "\n",
    "def get_categories():\n",
    "    r = requests.get('https://api.escuelajs.co/api/v1/categories')\n",
    "    print(r.status_code)\n",
    "    print(r.text)\n",
    "    print(type(r.text))\n",
    "    categories = r.json()\n",
    "    for category in categories:\n",
    "        print(category['name'])"
   ]
  },
  {
   "cell_type": "code",
   "execution_count": 2,
   "id": "d2cebef1",
   "metadata": {},
   "outputs": [
    {
     "name": "stdout",
     "output_type": "stream",
     "text": [
      "200\n",
      "[{\"id\":1,\"name\":\"Clothes\",\"image\":\"https://api.lorem.space/image/fashion?w=640&h=480&r=3248\",\"creationAt\":\"2023-01-08T23:40:24.000Z\",\"updatedAt\":\"2023-01-09T18:32:33.000Z\"},{\"id\":2,\"name\":\"Electronics\",\"image\":\"https://api.lorem.space/image/watch?w=640&h=480&r=9458\",\"creationAt\":\"2023-01-08T23:40:24.000Z\",\"updatedAt\":\"2023-01-08T23:40:24.000Z\"},{\"id\":3,\"name\":\"Furniture\",\"image\":\"https://api.lorem.space/image/furniture?w=640&h=480&r=9523\",\"creationAt\":\"2023-01-08T23:40:24.000Z\",\"updatedAt\":\"2023-01-09T18:25:02.000Z\"},{\"id\":4,\"name\":\"Shoes\",\"image\":\"https://api.lorem.space/image/shoes?w=640&h=480&r=1570\",\"creationAt\":\"2023-01-08T23:40:24.000Z\",\"updatedAt\":\"2023-01-08T23:40:24.000Z\"},{\"id\":5,\"name\":\"Others\",\"image\":\"https://api.lorem.space/image?w=640&h=480&r=3735\",\"creationAt\":\"2023-01-08T23:40:24.000Z\",\"updatedAt\":\"2023-01-08T23:40:24.000Z\"},{\"id\":17,\"name\":\"Nueva Categoria\",\"image\":\"https://placeimg.com/640/480/any\",\"creationAt\":\"2023-01-09T18:39:36.000Z\",\"updatedAt\":\"2023-01-09T18:39:36.000Z\"}]\n",
      "<class 'str'>\n",
      "Clothes\n",
      "Electronics\n",
      "Furniture\n",
      "Shoes\n",
      "Others\n",
      "Nueva Categoria\n"
     ]
    }
   ],
   "source": [
    "get_categories()"
   ]
  },
  {
   "cell_type": "markdown",
   "id": "96c353c3",
   "metadata": {},
   "source": [
    "# Web Server con FastAPI (Servidor web)"
   ]
  },
  {
   "cell_type": "code",
   "execution_count": 5,
   "id": "46b974ac",
   "metadata": {},
   "outputs": [],
   "source": [
    "# !pip install \"uvicorn[standard]\"\n",
    "# !pip install fastapi\n",
    "\n",
    "import store\n",
    "from fastapi import FastAPI\n",
    "from fastapi.responses import HTMLResponse\n",
    "\n",
    "app = FastAPI()\n",
    "\n",
    "@app.get('/')\n",
    "def get_list():\n",
    "    return [1,2,3,]\n",
    "\n",
    "@app.get('/contact', response_class=HTMLResponse)\n",
    "def get_list():\n",
    "    return \"\"\"\n",
    "        <h1>Hola soy una paginuchi</h1>\n",
    "        <p>soy un parrafuchi</p>\n",
    "    \"\"\"\n",
    "\n",
    "def run():\n",
    "    store.get_categories()\n",
    "\n",
    "if __name__ == '__main__':\n",
    "    run()"
   ]
  },
  {
   "cell_type": "markdown",
   "id": "a0edd4fc",
   "metadata": {},
   "source": [
    "# Docker"
   ]
  },
  {
   "cell_type": "markdown",
   "id": "937fcbe1",
   "metadata": {},
   "source": [
    "Docker utiliza una imagen del sistema operativo como base para las aplicaciones empaquetadas en contenedores. Esto permite que los contenedores sean ligeros y fáciles de distribuir, ya que solo incluyen lo necesario para ejecutar la aplicación y no todo el sistema operativo completo.\n",
    "\n",
    "Docker también proporciona una capacidad adicional de abstracción y automatización de virtualización en el nivel de sistema operativo. Esto permite que los contenedores se ejecuten en cualquier que tenga Docker instalado, independientemente de la plataforma subyacente."
   ]
  },
  {
   "cell_type": "markdown",
   "id": "02a60ddd",
   "metadata": {},
   "source": [
    "## **Sintaxis basica**"
   ]
  },
  {
   "cell_type": "markdown",
   "id": "dc2f6b86",
   "metadata": {},
   "source": [
    "FROM python:3.8\n",
    "\n",
    "WORKDIR /app\n",
    "COPY requirementes.txt /app/requirementes.txt\n",
    "\n",
    "RUN pip install --no-cache-dir --upgrade -r /app/requirementes.txt\n",
    "\n",
    "COPY . /app\n",
    "\n",
    "CMD bash -c \"while true; do sleep 1; done\""
   ]
  },
  {
   "cell_type": "markdown",
   "id": "f03df213",
   "metadata": {},
   "source": [
    "### En el archivo docker-composer.yml:"
   ]
  },
  {
   "cell_type": "markdown",
   "id": "dc4733a1",
   "metadata": {},
   "source": [
    "services:\n",
    "  app-csv:\n",
    "    build: \n",
    "      context: .\n",
    "      dockerfile: Dockerfile\n",
    "    volumes:\n",
    "      - .:/app\n",
    "    ports:\n",
    "     - '80:80'"
   ]
  },
  {
   "cell_type": "code",
   "execution_count": null,
   "id": "bee7cfae",
   "metadata": {},
   "outputs": [],
   "source": []
  },
  {
   "cell_type": "markdown",
   "id": "535cb2ba",
   "metadata": {},
   "source": []
  },
  {
   "cell_type": "code",
   "execution_count": null,
   "id": "3e0771a6",
   "metadata": {},
   "outputs": [],
   "source": []
  },
  {
   "cell_type": "markdown",
   "id": "c2054e4f",
   "metadata": {},
   "source": []
  },
  {
   "cell_type": "code",
   "execution_count": null,
   "id": "51ca8090",
   "metadata": {},
   "outputs": [],
   "source": []
  },
  {
   "cell_type": "code",
   "execution_count": null,
   "id": "b78bd7ff",
   "metadata": {},
   "outputs": [],
   "source": []
  },
  {
   "cell_type": "code",
   "execution_count": null,
   "id": "8237c5f8",
   "metadata": {},
   "outputs": [],
   "source": []
  },
  {
   "cell_type": "code",
   "execution_count": null,
   "id": "b388f9bc",
   "metadata": {},
   "outputs": [],
   "source": []
  },
  {
   "cell_type": "code",
   "execution_count": null,
   "id": "f4bb829a",
   "metadata": {},
   "outputs": [],
   "source": []
  },
  {
   "cell_type": "code",
   "execution_count": null,
   "id": "cda4d168",
   "metadata": {},
   "outputs": [],
   "source": []
  },
  {
   "cell_type": "code",
   "execution_count": null,
   "id": "7fc7b185",
   "metadata": {},
   "outputs": [],
   "source": []
  }
 ],
 "metadata": {
  "kernelspec": {
   "display_name": "Python 3 (ipykernel)",
   "language": "python",
   "name": "python3"
  },
  "language_info": {
   "codemirror_mode": {
    "name": "ipython",
    "version": 3
   },
   "file_extension": ".py",
   "mimetype": "text/x-python",
   "name": "python",
   "nbconvert_exporter": "python",
   "pygments_lexer": "ipython3",
   "version": "3.8.10"
  }
 },
 "nbformat": 4,
 "nbformat_minor": 5
}
